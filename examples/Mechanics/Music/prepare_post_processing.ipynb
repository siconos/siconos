{
 "cells": [
  {
   "cell_type": "markdown",
   "metadata": {},
   "source": [
    "# Post-proc simulation results\n",
    "\n",
    "Load hdf files, prepare them for post-processing.\n",
    "\n",
    "Outputs from simulations (hdf files) provide modal displacements values. A conversion to \"real\" displacements\n",
    "is required.\n"
   ]
  },
  {
   "cell_type": "code",
   "execution_count": 1,
   "metadata": {},
   "outputs": [],
   "source": [
    "# Reload automatically all python modules before each cell exec\n",
    "%load_ext autoreload\n",
    "%autoreload 2"
   ]
  },
  {
   "cell_type": "code",
   "execution_count": 2,
   "metadata": {},
   "outputs": [],
   "source": [
    "# standard python packages\n",
    "import sys\n",
    "import time\n",
    "import os\n",
    "from model_tools import load_model, load_convert_and_save\n",
    "# visu\n",
    "import matplotlib.pyplot as plt\n",
    "import scipy.io\n",
    "import h5py\n",
    "from simulation_campaigns import transfer_data\n",
    "%matplotlib inline\n",
    "import numpy as np"
   ]
  },
  {
   "cell_type": "markdown",
   "metadata": {},
   "source": [
    "## Get list of remote files\n",
    "and transfer if required\n",
    "\n",
    "* Creates remote_data dictionnary which contains list of files to post-process\n",
    "* Creates transfer.sh file to be executed to transfer (scp) files (h5) from remote server \n"
   ]
  },
  {
   "cell_type": "code",
   "execution_count": 3,
   "metadata": {},
   "outputs": [],
   "source": [
    "import pickle\n",
    "import subprocess\n",
    "#pkl_file = open('campaign_new_0612.pkl', 'rb')\n",
    "pkl_file = open('campaign_1812.pkl', 'rb')\n",
    "remote_data = pickle.load(pkl_file)\n",
    "transfer_data(remote_data)\n",
    "# execute file transfer.sh to get h5 files\n"
   ]
  },
  {
   "cell_type": "code",
   "execution_count": null,
   "metadata": {},
   "outputs": [],
   "source": [
    "remote_data['one_contact0.0']"
   ]
  },
  {
   "cell_type": "markdown",
   "metadata": {},
   "source": [
    "## Create 'converted' files"
   ]
  },
  {
   "cell_type": "code",
   "execution_count": 4,
   "metadata": {},
   "outputs": [
    {
     "name": "stdout",
     "output_type": "stream",
     "text": [
      "bass0.0\n",
      "results_paths\n",
      "bass0.9\n",
      "bass1.0\n",
      "fretless0.0\n",
      "fretless0.9\n",
      "fretless1.0\n",
      "one_contact0.0\n",
      "one_contact0.5\n",
      "one_contact1.0\n"
     ]
    }
   ],
   "source": [
    "# List available campaigns\n",
    "for name in remote_data:\n",
    "    print(name)"
   ]
  },
  {
   "cell_type": "code",
   "execution_count": 7,
   "metadata": {},
   "outputs": [
    {
     "name": "stdout",
     "output_type": "stream",
     "text": [
      "Load model from file ./results_bass_1812/F_10000.0_id_4073973/single_e0.0_999_10000.h5\n",
      "Warning: no input for damping. Set damping matrix to zero.\n",
      "Write new 'converted' file ./results_bass_1812/F_10000.0_id_4073973/converted_single_e0.0_999_10000.h5\n",
      "Load model from file ./results_bass_1812/F_5000_id_4073972/single_e0.0_999_5000.h5\n",
      "Warning: no input for damping. Set damping matrix to zero.\n",
      "Write new 'converted' file ./results_bass_1812/F_5000_id_4073972/converted_single_e0.0_999_5000.h5\n",
      "Load model from file ./results_bass_1812/F_100000.0_id_4073974/single_e0.0_999_100000.h5\n",
      "Warning: no input for damping. Set damping matrix to zero.\n",
      "Write new 'converted' file ./results_bass_1812/F_100000.0_id_4073974/converted_single_e0.0_999_100000.h5\n",
      "Load model from file ./results_bass_1812/F_10000000.0_id_4073976/single_e0.0_999_10000000.h5\n",
      "Warning: no input for damping. Set damping matrix to zero.\n",
      "Write new 'converted' file ./results_bass_1812/F_10000000.0_id_4073976/converted_single_e0.0_999_10000000.h5\n",
      "Load model from file ./results_bass_1812/F_1000000.0_id_4073975/single_e0.0_999_1000000.h5\n",
      "Warning: no input for damping. Set damping matrix to zero.\n",
      "Write new 'converted' file ./results_bass_1812/F_1000000.0_id_4073975/converted_single_e0.0_999_1000000.h5\n",
      "Load model from file ./results_bass_1812/F_1000000.0_id_4073981/single_e0.5_999_1000000.h5\n",
      "Warning: no input for damping. Set damping matrix to zero.\n",
      "Write new 'converted' file ./results_bass_1812/F_1000000.0_id_4073981/converted_single_e0.5_999_1000000.h5\n",
      "Load model from file ./results_bass_1812/F_5000_id_4073978/single_e0.5_999_5000.h5\n",
      "Warning: no input for damping. Set damping matrix to zero.\n",
      "Write new 'converted' file ./results_bass_1812/F_5000_id_4073978/converted_single_e0.5_999_5000.h5\n",
      "Load model from file ./results_bass_1812/F_10000000.0_id_4073982/single_e0.5_999_10000000.h5\n",
      "Warning: no input for damping. Set damping matrix to zero.\n",
      "Write new 'converted' file ./results_bass_1812/F_10000000.0_id_4073982/converted_single_e0.5_999_10000000.h5\n",
      "Load model from file ./results_bass_1812/F_100000.0_id_4073980/single_e0.5_999_100000.h5\n",
      "Warning: no input for damping. Set damping matrix to zero.\n",
      "Write new 'converted' file ./results_bass_1812/F_100000.0_id_4073980/converted_single_e0.5_999_100000.h5\n",
      "Load model from file ./results_bass_1812/F_10000.0_id_4073979/single_e0.5_999_10000.h5\n",
      "Warning: no input for damping. Set damping matrix to zero.\n",
      "Write new 'converted' file ./results_bass_1812/F_10000.0_id_4073979/converted_single_e0.5_999_10000.h5\n",
      "Load model from file ./results_bass_1812/F_5000_id_4073984/single_e1.0_999_5000.h5\n",
      "Warning: no input for damping. Set damping matrix to zero.\n",
      "Write new 'converted' file ./results_bass_1812/F_5000_id_4073984/converted_single_e1.0_999_5000.h5\n",
      "Load model from file ./results_bass_1812/F_100000.0_id_4073986/single_e1.0_999_100000.h5\n",
      "Warning: no input for damping. Set damping matrix to zero.\n",
      "Write new 'converted' file ./results_bass_1812/F_100000.0_id_4073986/converted_single_e1.0_999_100000.h5\n",
      "Load model from file ./results_bass_1812/F_10000.0_id_4073985/single_e1.0_999_10000.h5\n",
      "Warning: no input for damping. Set damping matrix to zero.\n",
      "Write new 'converted' file ./results_bass_1812/F_10000.0_id_4073985/converted_single_e1.0_999_10000.h5\n",
      "Load model from file ./results_bass_1812/F_1000000.0_id_4073987/single_e1.0_999_1000000.h5\n",
      "Warning: no input for damping. Set damping matrix to zero.\n",
      "Write new 'converted' file ./results_bass_1812/F_1000000.0_id_4073987/converted_single_e1.0_999_1000000.h5\n",
      "Load model from file ./results_bass_1812/F_10000000.0_id_4073988/single_e1.0_999_10000000.h5\n",
      "Warning: no input for damping. Set damping matrix to zero.\n",
      "Write new 'converted' file ./results_bass_1812/F_10000000.0_id_4073988/converted_single_e1.0_999_10000000.h5\n"
     ]
    },
    {
     "data": {
      "image/png": "[encoded data removed]",
      "text/plain": [
       "<matplotlib.figure.Figure at 0x10d3cc9e8>"
      ]
     },
     "metadata": {},
     "output_type": "display_data"
    }
   ],
   "source": [
    "# Set path to matlab inputs\n",
    "#matlab_bass = './bass_guitar/pb2'\n",
    "#matlab_fretless = './fretless_bass_guitar/bsf'\n",
    "results_path = remote_data['results_paths'][1]\n",
    "for name in remote_data:\n",
    "    campaign = remote_data[name]\n",
    "    #if name.find('bass') >= 0:\n",
    "    if name.find('results_path') < 0:\n",
    "        for freq in campaign:\n",
    "            restit = campaign[freq][3]\n",
    "            file = os.path.join(results_path, campaign[freq][4])\n",
    "            convfile = os.path.join(results_path, campaign[freq][5])\n",
    "            if(not os.path.exists(convfile)):\n",
    "                load_convert_and_save(file)\n",
    "                \n",
    "    #elif name.find('fretless') >= 0:\n",
    "    #    for freq in campaign:\n",
    "    #        restit = campaign[freq][3]\n",
    "    #        file = os.path.join(results_path, campaign[freq][4])\n",
    "    #        convfile = os.path.join(results_path, campaign[freq][5])\n",
    "    #        if(not os.path.exists(convfile)):\n",
    "    #            load_convert_and_save(file)"
   ]
  },
  {
   "cell_type": "code",
   "execution_count": null,
   "metadata": {},
   "outputs": [],
   "source": [
    "fname = './results_bass_1812/F_10000.0_id_4073973/single_e0.0_999_10000.h5'"
   ]
  },
  {
   "cell_type": "code",
   "execution_count": null,
   "metadata": {},
   "outputs": [],
   "source": [
    "load_model(fname)"
   ]
  },
  {
   "cell_type": "code",
   "execution_count": null,
   "metadata": {},
   "outputs": [],
   "source": [
    "matlab_bass = './bass_guitar/pb2'\n",
    "matlab_fretless = './fretless_bass_guitar/bsf'"
   ]
  },
  {
   "cell_type": "code",
   "execution_count": null,
   "metadata": {},
   "outputs": [],
   "source": [
    "file = './Results_new_bass_0612/F_32768000_id_3882603/converted_g_862_32768000.h5'\n",
    "h5file = h5py.File(file, 'r+')\n",
    "print(h5file.attrs['restit'])\n",
    "h5file.close()"
   ]
  },
  {
   "cell_type": "code",
   "execution_count": null,
   "metadata": {},
   "outputs": [],
   "source": [
    "# Set path to matlab inputs\n",
    "for name in remote_data:\n",
    "    campaign = remote_data[name]\n",
    "    if name.find('results_paths') < 0:\n",
    "        for freq in campaign:\n",
    "            restit = campaign[freq][3]\n",
    "            file = os.path.join(results_path, campaign[freq][4])\n",
    "            convfile = os.path.join(results_path, campaign[freq][5])   \n",
    "            if os.path.exists(convfile):\n",
    "                print(convfile)\n",
    "                h5file = h5py.File(convfile, 'r+')\n",
    "                h5file.attrs['restit'] = restit\n",
    "                print(h5file.attrs['restit'])\n",
    "                h5file.close()"
   ]
  },
  {
   "cell_type": "code",
   "execution_count": null,
   "metadata": {},
   "outputs": [],
   "source": [
    "# Check frets output parameter \n",
    "for name in campaign_bass:\n",
    "    filelist = campaign_bass[name]['files']\n",
    "    for i in range(len(filelist)):\n",
    "        \n",
    "        if os.path.exists(filelist[i]):\n",
    "            print(filelist[i])\n",
    "            h5file = h5py.File(filelist[i], 'r+')\n",
    "            h5file.attrs['frets output'] = 'light'\n",
    "            print(h5file.attrs['frets output'])\n",
    "            h5file.close()"
   ]
  },
  {
   "cell_type": "code",
   "execution_count": null,
   "metadata": {},
   "outputs": [],
   "source": [
    "filename = './results_bass_1812/F_10000.0_id_4073973/single_e0.0_999_10000.h5'"
   ]
  },
  {
   "cell_type": "code",
   "execution_count": null,
   "metadata": {},
   "outputs": [],
   "source": [
    "filename.replace('999', '862')"
   ]
  },
  {
   "cell_type": "code",
   "execution_count": null,
   "metadata": {},
   "outputs": [],
   "source": [
    "import subprocess"
   ]
  },
  {
   "cell_type": "code",
   "execution_count": null,
   "metadata": {},
   "outputs": [],
   "source": [
    "def rename(filename):\n",
    "    #for file in files:\n",
    "    dirname = os.path.dirname(file)\n",
    "    currentname = 'single' + os.path.basename(filename).split('one_contact')[1]\n",
    "    current = os.path.join(dirname, currentname)\n",
    "    cmd = 'cp ' + current + ' ' + filename\n",
    "    if not os.path.exists(filename):\n",
    "        subprocess.call(cmd)\n",
    "    return cmd"
   ]
  },
  {
   "cell_type": "code",
   "execution_count": null,
   "metadata": {},
   "outputs": [],
   "source": [
    "files = remote_data['one_contact0.0']\n",
    "files"
   ]
  },
  {
   "cell_type": "code",
   "execution_count": null,
   "metadata": {},
   "outputs": [],
   "source": [
    "names = [name for name in remote_data.keys() if name.find('one_contact') >=0]\n",
    "for name in names:\n",
    "    campaign = remote_data[name]\n",
    "    #if name.find('bass') >= 0:\n",
    "    for freq in campaign:\n",
    "        file = os.path.join(results_path, campaign[freq][4])\n",
    "        convfile = os.path.join(results_path, campaign[freq][5])\n",
    "        #if(not os.path.exists(convfile)):\n",
    "        #    load_convert_and_save(file)\n",
    "        print(rename(file))\n",
    "\n"
   ]
  },
  {
   "cell_type": "code",
   "execution_count": null,
   "metadata": {},
   "outputs": [],
   "source": []
  }
 ],
 "metadata": {
  "kernelspec": {
   "display_name": "Python 3",
   "language": "python",
   "name": "python3"
  },
  "language_info": {
   "codemirror_mode": {
    "name": "ipython",
    "version": 3
   },
   "file_extension": ".py",
   "mimetype": "text/x-python",
   "name": "python",
   "nbconvert_exporter": "python",
   "pygments_lexer": "ipython3",
   "version": "3.6.3"
  }
 },
 "nbformat": 4,
 "nbformat_minor": 2
}
