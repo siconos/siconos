{
 "cells": [
  {
   "cell_type": "markdown",
   "metadata": {},
   "source": [
    "# Post-proc simulation results\n",
    "\n",
    "Load hdf files, prepare them for post-processing.\n",
    "\n",
    "Outputs from simulations (hdf files) provide modal displacements values. A conversion to \"real\" displacements\n",
    "is required.\n"
   ]
  },
  {
   "cell_type": "code",
   "execution_count": 23,
   "metadata": {},
   "outputs": [
    {
     "name": "stdout",
     "output_type": "stream",
     "text": [
      "The autoreload extension is already loaded. To reload it, use:\n",
      "  %reload_ext autoreload\n"
     ]
    }
   ],
   "source": [
    "# Reload automatically all python modules before each cell exec\n",
    "%load_ext autoreload\n",
    "%autoreload 2"
   ]
  },
  {
   "cell_type": "code",
   "execution_count": 24,
   "metadata": {},
   "outputs": [],
   "source": [
    "# standard python packages\n",
    "import sys\n",
    "import time\n",
    "import os\n",
    "from model_tools import load_model, load_convert_and_save\n",
    "# visu\n",
    "import matplotlib.pyplot as plt\n",
    "import scipy.io\n",
    "import h5py\n",
    "from simulation_campaigns import transfer_data, get_job_duration\n",
    "%matplotlib inline\n",
    "import numpy as np"
   ]
  },
  {
   "cell_type": "markdown",
   "metadata": {},
   "source": [
    "## Get list of remote files\n",
    "and transfer if required\n",
    "\n",
    "* Creates remote_data dictionnary which contains list of files to post-process\n",
    "* Creates transfer.sh file to be executed to transfer (scp) files (h5) from remote server \n"
   ]
  },
  {
   "cell_type": "code",
   "execution_count": 25,
   "metadata": {},
   "outputs": [
    {
     "name": "stdout",
     "output_type": "stream",
     "text": [
      "False ./results_bass_2018/F_100000_id_4075703/single_e0.5_999_100000.h5\n",
      "False ./results_bass_2018/F_10000_id_4075702/single_e0.5_999_10000.h5\n",
      "False ./results_bass_2018/F_1000000_id_4075704/single_e0.5_999_1000000.h5\n",
      "False ./results_bass_2018/F_100000000_id_4075706/single_e0.5_999_100000000.h5\n",
      "False ./results_bass_2018/F_5000_id_4075701/single_e0.5_999_5000.h5\n",
      "False ./results_bass_2018/F_10000000_id_4075705/single_e0.5_999_10000000.h5\n",
      "False ./results_bass_2018/F_100000_id_4075697/single_e0.0_999_100000.h5\n",
      "False ./results_bass_2018/F_10000000_id_4075699/single_e0.0_999_10000000.h5\n",
      "False ./results_bass_2018/F_5000_id_4075695/single_e0.0_999_5000.h5\n",
      "False ./results_bass_2018/F_10000_id_4075696/single_e0.0_999_10000.h5\n",
      "False ./results_bass_2018/F_100000000_id_4075700/single_e0.0_999_100000000.h5\n",
      "False ./results_bass_2018/F_1000000_id_4075698/single_e0.0_999_1000000.h5\n",
      "False ./results_bass_2018/F_10000000_id_4075711/single_e1.0_999_10000000.h5\n",
      "False ./results_bass_2018/F_100000_id_4075709/single_e1.0_999_100000.h5\n",
      "False ./results_bass_2018/F_5000_id_4075707/single_e1.0_999_5000.h5\n",
      "False ./results_bass_2018/F_1000000_id_4075710/single_e1.0_999_1000000.h5\n",
      "False ./results_bass_2018/F_10000_id_4075708/single_e1.0_999_10000.h5\n",
      "False ./results_bass_2018/F_100000000_id_4075712/single_e1.0_999_100000000.h5\n",
      "False ./results_bass_2018/F_62720_id_4075728/bass_e0.0_862_62720.h5\n",
      "False ./results_bass_2018/F_4014080_id_4075734/bass_e0.0_862_4014080.h5\n",
      "False ./results_bass_2018/F_2007040_id_4075733/bass_e0.0_862_2007040.h5\n",
      "False ./results_bass_2018/F_125440_id_4075729/bass_e0.0_862_125440.h5\n",
      "False ./results_bass_2018/F_1003520_id_4075732/bass_e0.0_862_1003520.h5\n",
      "False ./results_bass_2018/F_31360_id_4075727/bass_e0.0_862_31360.h5\n",
      "False ./results_bass_2018/F_15680_id_4075726/bass_e0.0_862_15680.h5\n",
      "False ./results_bass_2018/F_250880_id_4075730/bass_e0.0_862_250880.h5\n",
      "False ./results_bass_2018/F_501760_id_4075731/bass_e0.0_862_501760.h5\n",
      "False ./results_bass_2018/F_64225280_id_4075746/bass_e0.0_862_64225280.h5\n",
      "False ./results_bass_2018/F_16056320_id_4075744/bass_e0.0_862_16056320.h5\n",
      "False ./results_bass_2018/F_8028160_id_4075743/bass_e0.0_862_8028160.h5\n",
      "False ./results_bass_2018/F_256901120_id_4075748/bass_e0.0_862_256901120.h5\n",
      "False ./results_bass_2018/F_32112640_id_4075745/bass_e0.0_862_32112640.h5\n",
      "False ./results_bass_2018/F_128450560_id_4075747/bass_e0.0_862_128450560.h5\n",
      "False ./results_bass_2018/F_62720_id_4075751/bass_e0.9_862_62720.h5\n",
      "False ./results_bass_2018/F_15680_id_4075749/bass_e0.9_862_15680.h5\n",
      "False ./results_bass_2018/F_16056320_id_4075759/bass_e0.9_862_16056320.h5\n",
      "False ./results_bass_2018/F_8028160_id_4075758/bass_e0.9_862_8028160.h5\n",
      "False ./results_bass_2018/F_1003520_id_4075755/bass_e0.9_862_1003520.h5\n",
      "False ./results_bass_2018/F_125440_id_4075752/bass_e0.9_862_125440.h5\n",
      "False ./results_bass_2018/F_2007040_id_4075756/bass_e0.9_862_2007040.h5\n",
      "False ./results_bass_2018/F_501760_id_4075754/bass_e0.9_862_501760.h5\n",
      "False ./results_bass_2018/F_256901120_id_4075763/bass_e0.9_862_256901120.h5\n",
      "False ./results_bass_2018/F_128450560_id_4075762/bass_e0.9_862_128450560.h5\n",
      "False ./results_bass_2018/F_250880_id_4075753/bass_e0.9_862_250880.h5\n",
      "False ./results_bass_2018/F_31360_id_4075750/bass_e0.9_862_31360.h5\n",
      "False ./results_bass_2018/F_64225280_id_4075761/bass_e0.9_862_64225280.h5\n",
      "False ./results_bass_2018/F_32112640_id_4075760/bass_e0.9_862_32112640.h5\n",
      "False ./results_bass_2018/F_4014080_id_4075757/bass_e0.9_862_4014080.h5\n",
      "False ./results_bass_2018/F_8028160_id_4075773/bass_e1.0_862_8028160.h5\n",
      "False ./results_bass_2018/F_250880_id_4075768/bass_e1.0_862_250880.h5\n",
      "False ./results_bass_2018/F_1003520_id_4075770/bass_e1.0_862_1003520.h5\n",
      "False ./results_bass_2018/F_15680_id_4075764/bass_e1.0_862_15680.h5\n",
      "False ./results_bass_2018/F_125440_id_4075767/bass_e1.0_862_125440.h5\n",
      "False ./results_bass_2018/F_64225280_id_4075776/bass_e1.0_862_64225280.h5\n",
      "False ./results_bass_2018/F_501760_id_4075769/bass_e1.0_862_501760.h5\n",
      "False ./results_bass_2018/F_128450560_id_4075777/bass_e1.0_862_128450560.h5\n",
      "False ./results_bass_2018/F_2007040_id_4075771/bass_e1.0_862_2007040.h5\n",
      "False ./results_bass_2018/F_4014080_id_4075772/bass_e1.0_862_4014080.h5\n",
      "False ./results_bass_2018/F_32112640_id_4075775/bass_e1.0_862_32112640.h5\n",
      "False ./results_bass_2018/F_31360_id_4075765/bass_e1.0_862_31360.h5\n",
      "False ./results_bass_2018/F_62720_id_4075766/bass_e1.0_862_62720.h5\n",
      "False ./results_bass_2018/F_256901120_id_4075778/bass_e1.0_862_256901120.h5\n",
      "False ./results_bass_2018/F_16056320_id_4075774/bass_e1.0_862_16056320.h5\n",
      "False ./results_bass_2018/F_15680_id_4075796/fretless_e0.0_862_15680.h5\n",
      "False ./results_bass_2018/F_62720_id_4075798/fretless_e0.0_862_62720.h5\n",
      "False ./results_bass_2018/F_31360_id_4075797/fretless_e0.0_862_31360.h5\n",
      "False ./results_bass_2018/F_250880_id_4075800/fretless_e0.0_862_250880.h5\n",
      "False ./results_bass_2018/F_1003520_id_4075802/fretless_e0.0_862_1003520.h5\n",
      "False ./results_bass_2018/F_125440_id_4075799/fretless_e0.0_862_125440.h5\n",
      "False ./results_bass_2018/F_16056320_id_4075806/fretless_e0.0_862_16056320.h5\n",
      "False ./results_bass_2018/F_501760_id_4075801/fretless_e0.0_862_501760.h5\n",
      "False ./results_bass_2018/F_2007040_id_4075803/fretless_e0.0_862_2007040.h5\n",
      "False ./results_bass_2018/F_4014080_id_4075804/fretless_e0.0_862_4014080.h5\n",
      "False ./results_bass_2018/F_8028160_id_4075805/fretless_e0.0_862_8028160.h5\n",
      "False ./results_bass_2018/F_64225280_id_4075808/fretless_e0.0_862_64225280.h5\n",
      "False ./results_bass_2018/F_32112640_id_4075807/fretless_e0.0_862_32112640.h5\n",
      "False ./results_bass_2018/F_1003520_id_4075815/fretless_e0.9_862_1003520.h5\n",
      "False ./results_bass_2018/F_125440_id_4075812/fretless_e0.9_862_125440.h5\n",
      "False ./results_bass_2018/F_250880_id_4075813/fretless_e0.9_862_250880.h5\n",
      "False ./results_bass_2018/F_16056320_id_4075819/fretless_e0.9_862_16056320.h5\n",
      "False ./results_bass_2018/F_32112640_id_4075820/fretless_e0.9_862_32112640.h5\n",
      "False ./results_bass_2018/F_62720_id_4075811/fretless_e0.9_862_62720.h5\n",
      "False ./results_bass_2018/F_15680_id_4075809/fretless_e0.9_862_15680.h5\n",
      "False ./results_bass_2018/F_8028160_id_4075818/fretless_e0.9_862_8028160.h5\n",
      "False ./results_bass_2018/F_31360_id_4075810/fretless_e0.9_862_31360.h5\n",
      "False ./results_bass_2018/F_2007040_id_4075816/fretless_e0.9_862_2007040.h5\n",
      "False ./results_bass_2018/F_501760_id_4075814/fretless_e0.9_862_501760.h5\n",
      "False ./results_bass_2018/F_4014080_id_4075817/fretless_e0.9_862_4014080.h5\n",
      "False ./results_bass_2018/F_64225280_id_4075821/fretless_e0.9_862_64225280.h5\n",
      "False ./results_bass_2018/F_501760_id_4075827/fretless_e1.0_862_501760.h5\n",
      "False ./results_bass_2018/F_125440_id_4075825/fretless_e1.0_862_125440.h5\n",
      "False ./results_bass_2018/F_16056320_id_4075832/fretless_e1.0_862_16056320.h5\n",
      "False ./results_bass_2018/F_15680_id_4075822/fretless_e1.0_862_15680.h5\n",
      "False ./results_bass_2018/F_62720_id_4075824/fretless_e1.0_862_62720.h5\n",
      "False ./results_bass_2018/F_31360_id_4075823/fretless_e1.0_862_31360.h5\n",
      "False ./results_bass_2018/F_250880_id_4075826/fretless_e1.0_862_250880.h5\n",
      "False ./results_bass_2018/F_4014080_id_4075830/fretless_e1.0_862_4014080.h5\n",
      "False ./results_bass_2018/F_2007040_id_4075829/fretless_e1.0_862_2007040.h5\n",
      "False ./results_bass_2018/F_8028160_id_4075831/fretless_e1.0_862_8028160.h5\n",
      "False ./results_bass_2018/F_32112640_id_4075833/fretless_e1.0_862_32112640.h5\n",
      "False ./results_bass_2018/F_1003520_id_4075828/fretless_e1.0_862_1003520.h5\n",
      "False ./results_bass_2018/F_5000_id_4076797/single_e1.0_999_5000.h5\n",
      "False ./results_bass_2018/F_10000_id_4076798/single_e1.0_999_10000.h5\n",
      "False ./results_bass_2018/F_1000000_id_4076800/single_e1.0_999_1000000.h5\n",
      "False ./results_bass_2018/F_100000_id_4076799/single_e1.0_999_100000.h5\n",
      "False ./results_bass_2018/F_100000000_id_4076802/single_e1.0_999_100000000.h5\n",
      "False ./results_bass_2018/F_10000000_id_4076801/single_e1.0_999_10000000.h5\n",
      "False ./results_bass_2018/F_4014080_id_4076803/bass_e0.0_862_4014080.h5\n",
      "False ./results_bass_2018/F_4014080_id_4076804/bass_e0.9_862_4014080.h5\n",
      "False ./results_bass_2018/F_4014080_id_4076805/fretless_e0.0_862_4014080.h5\n",
      "False ./results_bass_2018/F_4014080_id_4076806/fretless_e0.9_862_4014080.h5\n",
      "False ./results_bass_2018/F_4014080_id_4076808/bass_e1.0_862_4014080.h5\n",
      "False ./results_bass_2018/F_4014080_id_4076807/fretless_e1.0_862_4014080.h5\n",
      "False ./results_bass_2018/F_100000_id_4077058/single_e0.9_999_100000.h5\n",
      "False ./results_bass_2018/F_10000_id_4077057/single_e0.9_999_10000.h5\n",
      "False ./results_bass_2018/F_5000_id_4077056/single_e0.9_999_5000.h5\n",
      "False ./results_bass_2018/F_1000000_id_4077059/single_e0.9_999_1000000.h5\n",
      "False ./results_bass_2018/F_100000000_id_4077061/single_e0.9_999_100000000.h5\n",
      "False ./results_bass_2018/F_10000000_id_4077060/single_e0.9_999_10000000.h5\n",
      "False ./results_bass_2018/F_4096000_id_4902279/bass_e1.0_862_4096000.h5\n",
      "False ./results_bass_2018/F_2048000_id_4902276/bass_e0.0_862_2048000.h5\n",
      "False ./results_bass_2018/F_4096000_id_4902278/bass_e1.0_862_4096000.h5\n",
      "False ./results_bass_2018/F_2048000_id_4902280/fretless_e0.0_862_2048000.h5\n",
      "False ./results_bass_2018/F_2048000_id_4902277/bass_e0.0_862_2048000.h5\n",
      "False ./results_bass_2018/F_16384000_id_4902285/fretless_e1.0_862_16384000.h5\n",
      "False ./results_bass_2018/F_16384000_id_4902284/fretless_e1.0_862_16384000.h5\n",
      "False ./results_bass_2018/F_16384000_id_4902286/fretless_e1.0_862_16384000.h5\n",
      "False ./results_bass_2018/F_16384000_id_4902287/fretless_e1.0_862_16384000.h5\n",
      "False ./results_bass_2018/F_62720_id_4915260/guitar_single_e0.0_1001_62720.h5\n",
      "False ./results_bass_2018/F_15680_id_4915258/guitar_single_e0.0_1001_15680.h5\n",
      "False ./results_bass_2018/F_31360_id_4915259/guitar_single_e0.0_1001_31360.h5\n",
      "False ./results_bass_2018/F_4014080_id_4915266/guitar_single_e0.0_1001_4014080.h5\n",
      "False ./results_bass_2018/F_2007040_id_4915265/guitar_single_e0.0_1001_2007040.h5\n",
      "False ./results_bass_2018/F_1003520_id_4915264/guitar_single_e0.0_1001_1003520.h5\n",
      "False ./results_bass_2018/F_250880_id_4915262/guitar_single_e0.0_1001_250880.h5\n",
      "False ./results_bass_2018/F_125440_id_4915261/guitar_single_e0.0_1001_125440.h5\n",
      "False ./results_bass_2018/F_501760_id_4915263/guitar_single_e0.0_1001_501760.h5\n",
      "False ./results_bass_2018/F_31360_id_4915268/guitar_single_e1.0_1001_31360.h5\n",
      "False ./results_bass_2018/F_501760_id_4915272/guitar_single_e1.0_1001_501760.h5\n",
      "False ./results_bass_2018/F_125440_id_4915270/guitar_single_e1.0_1001_125440.h5\n",
      "False ./results_bass_2018/F_15680_id_4915267/guitar_single_e1.0_1001_15680.h5\n",
      "False ./results_bass_2018/F_1003520_id_4915273/guitar_single_e1.0_1001_1003520.h5\n",
      "False ./results_bass_2018/F_250880_id_4915271/guitar_single_e1.0_1001_250880.h5\n",
      "False ./results_bass_2018/F_62720_id_4915269/guitar_single_e1.0_1001_62720.h5\n",
      "False ./results_bass_2018/F_4014080_id_4915275/guitar_single_e1.0_1001_4014080.h5\n",
      "False ./results_bass_2018/F_2007040_id_4915274/guitar_single_e1.0_1001_2007040.h5\n",
      "False ./results_bass_2018/F_31360_id_4915277/guitar_single_e0.9_1001_31360.h5\n",
      "False ./results_bass_2018/F_1003520_id_4915282/guitar_single_e0.9_1001_1003520.h5\n",
      "False ./results_bass_2018/F_501760_id_4915281/guitar_single_e0.9_1001_501760.h5\n",
      "False ./results_bass_2018/F_4014080_id_4915284/guitar_single_e0.9_1001_4014080.h5\n",
      "False ./results_bass_2018/F_250880_id_4915280/guitar_single_e0.9_1001_250880.h5\n",
      "False ./results_bass_2018/F_15680_id_4915276/guitar_single_e0.9_1001_15680.h5\n",
      "False ./results_bass_2018/F_125440_id_4915279/guitar_single_e0.9_1001_125440.h5\n",
      "False ./results_bass_2018/F_62720_id_4915278/guitar_single_e0.9_1001_62720.h5\n",
      "False ./results_bass_2018/F_2007040_id_4915283/guitar_single_e0.9_1001_2007040.h5\n",
      "True ./results_bass_2018/F_2048000_id_4915286/fretless_e0.0_862_2048000.h5\n",
      "True ./results_bass_2018/F_2048000_id_4955029/bass_e0.0_862_2048000.h5\n"
     ]
    }
   ],
   "source": [
    "import pickle\n",
    "import subprocess\n",
    "#pkl_file = open('campaign_new_0612.pkl', 'rb')\n",
    "pkl_file = open('campaign_2018.pkl', 'rb')\n",
    "remote_data = pickle.load(pkl_file)\n",
    "transfer_data(remote_data)\n",
    "# execute file transfer.sh to get h5 files\n"
   ]
  },
  {
   "cell_type": "code",
   "execution_count": 26,
   "metadata": {},
   "outputs": [],
   "source": [
    "name ='bass_one_c_0.0'\n",
    "campaigns = remote_data\n",
    "local_dir = remote_data['results_paths'][1]"
   ]
  },
  {
   "cell_type": "code",
   "execution_count": null,
   "metadata": {},
   "outputs": [],
   "source": [
    "for freq in  campaigns[name]:\n",
    "    target_name = os.path.join(local_dir, campaigns[name][freq][4])\n",
    "    conver_name = os.path.join(local_dir, campaigns[name][freq][5])\n",
    "    print(target_name)\n",
    "    print(conver_name)\n",
    "    do_transfer = (not os.path.exists(target_name)) and (not os.path.exists(conver_name))\n",
    "    print(do_transfer)"
   ]
  },
  {
   "cell_type": "code",
   "execution_count": null,
   "metadata": {},
   "outputs": [],
   "source": []
  },
  {
   "cell_type": "code",
   "execution_count": null,
   "metadata": {},
   "outputs": [],
   "source": [
    " os.path.exists(\"./results_bass_2018/F_62720_id_4915260/single_e0.0_999_62720.h\")"
   ]
  },
  {
   "cell_type": "code",
   "execution_count": null,
   "metadata": {},
   "outputs": [],
   "source": [
    "datas = remote_data['bass_one_c_0.0']\n",
    "for freq in datas:\n",
    "    pathname = os.path.dirname(datas[freq][5])\n",
    "    buff = os.path.basename(datas[freq][5])\n",
    "    res = buff.split('e1.0')\n",
    "    newbuff = res[0] + 'e0.0' + res[1]\n",
    "    print(newbuff)\n",
    "    datas[freq][5] = os.path.join(pathname, newbuff)\n",
    "    print(datas[freq][5])\n",
    "    "
   ]
  },
  {
   "cell_type": "code",
   "execution_count": null,
   "metadata": {},
   "outputs": [],
   "source": [
    "remote_data['bass_one_c_0.0'] = datas"
   ]
  },
  {
   "cell_type": "code",
   "execution_count": null,
   "metadata": {},
   "outputs": [],
   "source": [
    "outp = open('campaign_2018.pkl', 'wb')\n",
    "pickle.dump(remote_data, outp)\n",
    "outp.close()"
   ]
  },
  {
   "cell_type": "markdown",
   "metadata": {},
   "source": [
    "## Create 'converted' files"
   ]
  },
  {
   "cell_type": "code",
   "execution_count": 4,
   "metadata": {},
   "outputs": [
    {
     "name": "stdout",
     "output_type": "stream",
     "text": [
      "one_contact_2018_0.5\n",
      "results_paths\n",
      "one_contact_2018_0.0\n",
      "one_contact_2018_1.0\n",
      "bass_2018_0.0\n",
      "bass_2018_0.9\n",
      "bass_2018_1.0\n",
      "fretless_2018_0.0\n",
      "fretless_2018_0.9\n",
      "fretless_2018_1.0\n",
      "one_contact_2018_2_1.0\n",
      "bass_full_2018_0.0\n",
      "bass_full_2018_0.9\n",
      "fretless_full_2018_0.0\n",
      "fretless_full_2018_0.9\n",
      "bass_full_2018_1.0\n",
      "fretless_full_2018_1.0\n",
      "one_contact_2018_2_0.9\n",
      "bass_full_012018_1.0\n",
      "bass_012018_0.0\n",
      "bass_012018_1.0\n",
      "fretless_012018_0.0\n",
      "bass_full_012018_0.0\n",
      "fretless_full_012018_t1_1.0\n",
      "fretless_012018_t1_1.0\n",
      "fretless_012018_t2_1.0\n",
      "fretless_full_012018_t2_1.0\n",
      "bass_one_c_0.0\n",
      "bass_one_c_1.0\n",
      "bass_one_c_0.9\n",
      "fretless_full_012018_t3_1.0\n",
      "fretless_full_012018_1.0\n",
      "fretless_012018_t3_1.0\n",
      "fretless_012018_1.0\n",
      "fretless_full_012018_0.0\n",
      "bass_22012018_0.0\n"
     ]
    }
   ],
   "source": [
    "# List available campaigns\n",
    "for name in remote_data:\n",
    "    print(name)"
   ]
  },
  {
   "cell_type": "code",
   "execution_count": 27,
   "metadata": {},
   "outputs": [
    {
     "name": "stdout",
     "output_type": "stream",
     "text": [
      "./results_bass_2018/F_2048000_id_4915286/fretless_e0.0_862_2048000.h5 ./results_bass_2018/F_2048000_id_4915286/converted_fretless_e0.0_862_2048000.h5\n",
      "./results_bass_2018/F_2048000_id_4955029/bass_e0.0_862_2048000.h5 ./results_bass_2018/F_2048000_id_4955029/converted_bass_e0.0_862_2048000.h5\n"
     ]
    }
   ],
   "source": [
    "# Set path to matlab inputs\n",
    "#matlab_bass = './bass_guitar/pb2'\n",
    "#matlab_fretless = './fretless_bass_guitar/bsf'\n",
    "results_path = remote_data['results_paths'][1]\n",
    "for name in remote_data:\n",
    "    campaign = remote_data[name]\n",
    "    #if name.find('bass') >= 0:\n",
    "    if name.find('results_path') < 0:\n",
    "        for freq in campaign:\n",
    "            restit = campaign[freq][3]\n",
    "            file = os.path.join(results_path, campaign[freq][4])\n",
    "            convfile = os.path.join(results_path, campaign[freq][5])\n",
    "            if(not os.path.exists(convfile)):\n",
    "                print(file, convfile)\n",
    "                #print(name)\n",
    "                \n",
    "                #load_convert_and_save(file)\n",
    "                \n",
    "    #elif name.find('fretless') >= 0:\n",
    "    #    for freq in campaign:\n",
    "    #        restit = campaign[freq][3]\n",
    "    #        file = os.path.join(results_path, campaign[freq][4])\n",
    "    #        convfile = os.path.join(results_path, campaign[freq][5])\n",
    "    #        if(not os.path.exists(convfile)):\n",
    "    #            load_convert_and_save(file)"
   ]
  },
  {
   "cell_type": "code",
   "execution_count": 28,
   "metadata": {},
   "outputs": [
    {
     "name": "stdout",
     "output_type": "stream",
     "text": [
      "Load model from file ./results_bass_2018/F_2048000_id_4955029/bass_e0.0_862_2048000.h5\n",
      "Write new 'converted' file ./results_bass_2018/F_2048000_id_4955029/converted_bass_e0.0_862_2048000.h5\n"
     ]
    },
    {
     "data": {
      "image/png": "[encoded data removed]",
      "text/plain": [
       "<matplotlib.figure.Figure at 0x111420470>"
      ]
     },
     "metadata": {},
     "output_type": "display_data"
    }
   ],
   "source": [
    "fname = './results_bass_2018/F_2048000_id_4955029/bass_e0.0_862_2048000.h5'\n",
    "load_convert_and_save(fname)"
   ]
  },
  {
   "cell_type": "code",
   "execution_count": null,
   "metadata": {},
   "outputs": [],
   "source": [
    "load_model(fname)"
   ]
  },
  {
   "cell_type": "code",
   "execution_count": null,
   "metadata": {},
   "outputs": [],
   "source": [
    "matlab_bass = './bass_guitar/pb2'\n",
    "matlab_fretless = './fretless_bass_guitar/bsf'"
   ]
  },
  {
   "cell_type": "code",
   "execution_count": null,
   "metadata": {},
   "outputs": [],
   "source": [
    "file = './Results_new_bass_0612/F_32768000_id_3882603/converted_g_862_32768000.h5'\n",
    "h5file = h5py.File(file, 'r+')\n",
    "print(h5file.attrs['restit'])\n",
    "h5file.close()"
   ]
  },
  {
   "cell_type": "code",
   "execution_count": null,
   "metadata": {},
   "outputs": [],
   "source": [
    "# Set path to matlab inputs\n",
    "for name in remote_data:\n",
    "    campaign = remote_data[name]\n",
    "    if name.find('results_paths') < 0:\n",
    "        for freq in campaign:\n",
    "            restit = campaign[freq][3]\n",
    "            file = os.path.join(results_path, campaign[freq][4])\n",
    "            convfile = os.path.join(results_path, campaign[freq][5])   \n",
    "            if os.path.exists(convfile):\n",
    "                print(convfile)\n",
    "                h5file = h5py.File(convfile, 'r+')\n",
    "                h5file.attrs['restit'] = restit\n",
    "                print(h5file.attrs['restit'])\n",
    "                h5file.close()"
   ]
  },
  {
   "cell_type": "code",
   "execution_count": null,
   "metadata": {},
   "outputs": [],
   "source": [
    "# Check frets output parameter \n",
    "for name in campaign_bass:\n",
    "    filelist = campaign_bass[name]['files']\n",
    "    for i in range(len(filelist)):\n",
    "        \n",
    "        if os.path.exists(filelist[i]):\n",
    "            print(filelist[i])\n",
    "            h5file = h5py.File(filelist[i], 'r+')\n",
    "            h5file.attrs['frets output'] = 'light'\n",
    "            print(h5file.attrs['frets output'])\n",
    "            h5file.close()"
   ]
  },
  {
   "cell_type": "code",
   "execution_count": null,
   "metadata": {},
   "outputs": [],
   "source": [
    "filename = './results_bass_1812/F_10000.0_id_4073973/single_e0.0_999_10000.h5'"
   ]
  },
  {
   "cell_type": "code",
   "execution_count": null,
   "metadata": {},
   "outputs": [],
   "source": [
    "filename.replace('999', '862')"
   ]
  },
  {
   "cell_type": "code",
   "execution_count": null,
   "metadata": {},
   "outputs": [],
   "source": [
    "import subprocess"
   ]
  },
  {
   "cell_type": "code",
   "execution_count": null,
   "metadata": {},
   "outputs": [],
   "source": [
    "def rename(filename):\n",
    "    #for file in files:\n",
    "    dirname = os.path.dirname(file)\n",
    "    currentname = 'single' + os.path.basename(filename).split('one_contact')[1]\n",
    "    current = os.path.join(dirname, currentname)\n",
    "    cmd = 'cp ' + current + ' ' + filename\n",
    "    if not os.path.exists(filename):\n",
    "        subprocess.call(cmd)\n",
    "    return cmd"
   ]
  },
  {
   "cell_type": "code",
   "execution_count": null,
   "metadata": {},
   "outputs": [],
   "source": [
    "files = remote_data['one_contact0.0']\n",
    "files"
   ]
  },
  {
   "cell_type": "code",
   "execution_count": null,
   "metadata": {},
   "outputs": [],
   "source": [
    "names = [name for name in remote_data.keys() if name.find('one_contact') >=0]\n",
    "for name in names:\n",
    "    campaign = remote_data[name]\n",
    "    #if name.find('bass') >= 0:\n",
    "    for freq in campaign:\n",
    "        file = os.path.join(results_path, campaign[freq][4])\n",
    "        convfile = os.path.join(results_path, campaign[freq][5])\n",
    "        #if(not os.path.exists(convfile)):\n",
    "        #    load_convert_and_save(file)\n",
    "        print(rename(file))\n",
    "\n"
   ]
  },
  {
   "cell_type": "code",
   "execution_count": null,
   "metadata": {},
   "outputs": [],
   "source": []
  }
 ],
 "metadata": {
  "kernelspec": {
   "display_name": "Python 3",
   "language": "python",
   "name": "python3"
  },
  "language_info": {
   "codemirror_mode": {
    "name": "ipython",
    "version": 3
   },
   "file_extension": ".py",
   "mimetype": "text/x-python",
   "name": "python",
   "nbconvert_exporter": "python",
   "pygments_lexer": "ipython3",
   "version": "3.6.4"
  }
 },
 "nbformat": 4,
 "nbformat_minor": 2
}
