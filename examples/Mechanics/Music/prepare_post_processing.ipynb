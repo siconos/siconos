{
 "cells": [
  {
   "cell_type": "markdown",
   "metadata": {},
   "source": [
    "# Post-proc simulation results\n",
    "\n",
    "Load hdf files, prepare them for post-processing.\n",
    "\n",
    "Outputs from simulations (hdf files) provide modal displacements values. A conversion to \"real\" displacements\n",
    "is required.\n"
   ]
  },
  {
   "cell_type": "code",
   "execution_count": null,
   "metadata": {},
   "outputs": [],
   "source": [
    "# Reload automatically all python modules before each cell exec\n",
    "%load_ext autoreload\n",
    "%autoreload 2"
   ]
  },
  {
   "cell_type": "code",
   "execution_count": 2,
   "metadata": {},
   "outputs": [],
   "source": [
    "# standard python packages\n",
    "import sys\n",
    "import time\n",
    "import os\n",
    "from model_tools import load_model, load_convert_and_save\n",
    "# visu\n",
    "import matplotlib.pyplot as plt\n",
    "import scipy.io\n",
    "import h5py\n",
    "from simulation_campaigns import transfer_data\n",
    "%matplotlib inline\n",
    "import numpy as np"
   ]
  },
  {
   "cell_type": "markdown",
   "metadata": {},
   "source": [
    "## Get list of remote files\n",
    "and transfer if required"
   ]
  },
  {
   "cell_type": "code",
   "execution_count": 3,
   "metadata": {},
   "outputs": [],
   "source": [
    "import pickle\n",
    "import subprocess\n",
    "#pkl_file = open('campaign_new_0612.pkl', 'rb')\n",
    "pkl_file = open('campaign_short_1312.pkl', 'rb')\n",
    "remote_data = pickle.load(pkl_file)\n",
    "transfer_data(remote_data)\n",
    "# execute file transfer.sh to get h5 files\n"
   ]
  },
  {
   "cell_type": "markdown",
   "metadata": {},
   "source": [
    "## Create 'converted' files"
   ]
  },
  {
   "cell_type": "code",
   "execution_count": null,
   "metadata": {},
   "outputs": [],
   "source": [
    "# List available campaigns\n",
    "for name in remote_data:\n",
    "    print(name)"
   ]
  },
  {
   "cell_type": "code",
   "execution_count": null,
   "metadata": {},
   "outputs": [],
   "source": [
    "# Set path to matlab inputs\n",
    "matlab_bass = './bass_guitar/pb2'\n",
    "matlab_fretless = './fretless_bass_guitar/bsf'\n",
    "results_path = remote_data['results_paths'][1]\n",
    "for name in remote_data:\n",
    "    campaign = remote_data[name]\n",
    "    if name.find('bass') >= 0:\n",
    "        for freq in campaign:\n",
    "            restit = campaign[freq][3]\n",
    "            file = os.path.join(results_path, campaign[freq][4])\n",
    "            convfile = os.path.join(results_path, campaign[freq][5])\n",
    "            if(not os.path.exists(convfile)):\n",
    "                load_convert_and_save(file, matlab_bass, restit)\n",
    "                \n",
    "    elif name.find('fretless') >= 0:\n",
    "        for freq in campaign:\n",
    "            restit = campaign[freq][3]\n",
    "            file = os.path.join(results_path, campaign[freq][4])\n",
    "            convfile = os.path.join(results_path, campaign[freq][5])\n",
    "            if(not os.path.exists(convfile)):\n",
    "                load_convert_and_save(file, matlab_fretless, restit)"
   ]
  },
  {
   "cell_type": "code",
   "execution_count": null,
   "metadata": {},
   "outputs": [],
   "source": [
    "remote_data"
   ]
  },
  {
   "cell_type": "code",
   "execution_count": null,
   "metadata": {},
   "outputs": [],
   "source": [
    "matlab_bass = './bass_guitar/pb2'\n",
    "matlab_fretless = './fretless_bass_guitar/bsf'\n",
    "\n",
    "load_convert_and_save('././Results_new_bass_0612/F_32768000_id_3882603/g_862_32768000.h5', matlab_bass, 1.)"
   ]
  },
  {
   "cell_type": "code",
   "execution_count": null,
   "metadata": {},
   "outputs": [],
   "source": [
    "file = './Results_new_bass_0612/F_32768000_id_3882603/converted_g_862_32768000.h5'\n",
    "h5file = h5py.File(file, 'r+')\n",
    "print(h5file.attrs['restit'])\n",
    "h5file.close()"
   ]
  },
  {
   "cell_type": "code",
   "execution_count": null,
   "metadata": {},
   "outputs": [],
   "source": [
    "# Set path to matlab inputs\n",
    "for name in remote_data:\n",
    "    campaign = remote_data[name]\n",
    "    if name.find('results_paths') < 0:\n",
    "        for freq in campaign:\n",
    "            restit = campaign[freq][3]\n",
    "            file = os.path.join(results_path, campaign[freq][4])\n",
    "            convfile = os.path.join(results_path, campaign[freq][5])   \n",
    "            if os.path.exists(convfile):\n",
    "                print(convfile)\n",
    "                h5file = h5py.File(convfile, 'r+')\n",
    "                h5file.attrs['restit'] = restit\n",
    "                print(h5file.attrs['restit'])\n",
    "                h5file.close()"
   ]
  },
  {
   "cell_type": "code",
   "execution_count": null,
   "metadata": {},
   "outputs": [],
   "source": [
    "# Check frets output parameter \n",
    "for name in campaign_bass:\n",
    "    filelist = campaign_bass[name]['files']\n",
    "    for i in range(len(filelist)):\n",
    "        \n",
    "        if os.path.exists(filelist[i]):\n",
    "            print(filelist[i])\n",
    "            h5file = h5py.File(filelist[i], 'r+')\n",
    "            h5file.attrs['frets output'] = 'light'\n",
    "            print(h5file.attrs['frets output'])\n",
    "            h5file.close()"
   ]
  }
 ],
 "metadata": {
  "kernelspec": {
   "display_name": "Python 3",
   "language": "python",
   "name": "python3"
  },
  "language_info": {
   "codemirror_mode": {
    "name": "ipython",
    "version": 3
   },
   "file_extension": ".py",
   "mimetype": "text/x-python",
   "name": "python",
   "nbconvert_exporter": "python",
   "pygments_lexer": "ipython3",
   "version": "3.6.3"
  }
 },
 "nbformat": 4,
 "nbformat_minor": 2
}
