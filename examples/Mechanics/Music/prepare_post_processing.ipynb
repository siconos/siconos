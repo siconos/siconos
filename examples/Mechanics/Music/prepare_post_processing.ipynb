{
 "cells": [
  {
   "cell_type": "markdown",
   "metadata": {},
   "source": [
    "# Post-proc simulation results\n",
    "\n",
    "Load hdf files, prepare them for post-processing.\n",
    "\n",
    "Outputs from simulations (hdf files) provide modal displacements values. A conversion to \"real\" displacements\n",
    "is required.\n"
   ]
  },
  {
   "cell_type": "code",
   "execution_count": 1,
   "metadata": {},
   "outputs": [],
   "source": [
    "# Reload automatically all python modules before each cell exec\n",
    "%load_ext autoreload\n",
    "%autoreload 2"
   ]
  },
  {
   "cell_type": "code",
   "execution_count": 2,
   "metadata": {},
   "outputs": [],
   "source": [
    "# standard python packages\n",
    "import sys\n",
    "import time\n",
    "import os\n",
    "from model_tools import load_model, load_convert_and_save\n",
    "# visu\n",
    "import matplotlib.pyplot as plt\n",
    "import scipy.io\n",
    "import h5py\n",
    "%matplotlib inline\n",
    "import numpy as np"
   ]
  },
  {
   "cell_type": "markdown",
   "metadata": {},
   "source": [
    "## Pick up results file(s)"
   ]
  },
  {
   "cell_type": "code",
   "execution_count": 3,
   "metadata": {},
   "outputs": [],
   "source": [
    "from post_process import compute_errors, plot_campaign\n",
    "import simulation_campaigns"
   ]
  },
  {
   "cell_type": "markdown",
   "metadata": {},
   "source": [
    "### Bass guitar\n",
    " Three cases : e=0, e=0.9 and e=1."
   ]
  },
  {
   "cell_type": "code",
   "execution_count": 4,
   "metadata": {},
   "outputs": [],
   "source": [
    "campaign_bass = {}\n",
    "campaign_bass['bass_09'] = simulation_campaigns.g2017_11_30_e09\n",
    "campaign_bass['bass_0'] = simulation_campaigns.g2017_11_30_e0\n",
    "campaign_bass['bass_1'] = simulation_campaigns.g2017_11_30_e1\n",
    "\n",
    "# Set path to matlab inputs\n",
    "matlab_bass = './bass_guitar/pb2'"
   ]
  },
  {
   "cell_type": "code",
   "execution_count": null,
   "metadata": {},
   "outputs": [],
   "source": []
  },
  {
   "cell_type": "code",
   "execution_count": 6,
   "metadata": {
    "scrolled": false
   },
   "outputs": [
    {
     "name": "stdout",
     "output_type": "stream",
     "text": [
      "Load model from file ./results_bass/2017_11_30/F_64225280_id_3878785/g_862_64225280.h5\n",
      "Read data from files :\n",
      "- neck profile:./bass_guitar/pb2_h.mat\n",
      "- eigenfrequencies: ./bass_guitar/pb2_frequs.mat\n",
      "- damping: ./bass_guitar/pb2_amortissements.mat\n",
      "\n",
      "Ready to start simulation for frequency 64225280.0.\n",
      "Save output every 4096 time steps.\n",
      "./results_bass/2017_11_30/F_64225280_id_3878785/g_862_64225280.h5\n"
     ]
    }
   ],
   "source": [
    "# Convert and save all h5 file from \"modal\" output to real output for displacements.\n",
    "for campaign in campaign_bass.values():\n",
    "    filelist = campaign['files']\n",
    "    convfilelist = campaign['files_converted']\n",
    "    for i in range(len(filelist)):\n",
    "        if os.path.exists(filelist[i]):\n",
    "            if(not os.path.exists(convfilelist[i])):\n",
    "                load_convert_and_save(filelist[i], matlab_bass)\n",
    "                print(filelist[i])\n",
    "\n"
   ]
  },
  {
   "cell_type": "code",
   "execution_count": null,
   "metadata": {},
   "outputs": [],
   "source": [
    "# Check frets output parameter \n",
    "for name in campaign_bass:\n",
    "    filelist = campaign_bass[name]['files']\n",
    "    for i in range(len(filelist)):\n",
    "        \n",
    "        if os.path.exists(filelist[i]):\n",
    "            print(filelist[i])\n",
    "            h5file = h5py.File(filelist[i], 'r+')\n",
    "            h5file.attrs['frets output'] = 'light'\n",
    "            print(h5file.attrs['frets output'])\n",
    "            h5file.close()"
   ]
  },
  {
   "cell_type": "code",
   "execution_count": null,
   "metadata": {},
   "outputs": [],
   "source": [
    "for campaign in campaign_bass.values():\n",
    "    filelist = campaign['files']\n",
    "    convfilelist = campaign['files_converted']\n",
    "    for i in range(len(filelist)):\n",
    "        model1, string1, frets1 = load_model(filelist[i], matlab_bass)\n",
    "        model2, string2, frets2 = load_model(convfilelist[i], matlab_bass)\n",
    "        model2._convert[...] = False\n",
    "        assert (model1._convert == True).all()\n",
    "        model1.convert_modal_output(string1)\n",
    "        assert (model1._convert == False).all()\n",
    "        assert np.allclose(model1.data_ds[string1], model2.data_ds[string2])"
   ]
  },
  {
   "cell_type": "markdown",
   "metadata": {},
   "source": [
    "### Fretless bass guitar\n",
    "e=0. and e=0.9"
   ]
  },
  {
   "cell_type": "code",
   "execution_count": null,
   "metadata": {},
   "outputs": [],
   "source": [
    "campaign_fretless = {}\n",
    "campaign_fretless['fretless_09'] = simulation_campaigns.f2017_11_28_e09\n",
    "campaign_fretless['fretless_0'] = simulation_campaigns.f2017_11_28_e0\n",
    "\n",
    "# Set path to matlab inputs\n",
    "matlab_fretless = './fretless_bass_guitar/bsf'"
   ]
  },
  {
   "cell_type": "code",
   "execution_count": 5,
   "metadata": {},
   "outputs": [
    {
     "name": "stdout",
     "output_type": "stream",
     "text": [
      "./results_bass/2017_11_30/F_15680_id_3877931/g_862_15680.h5\n",
      "light\n",
      "./results_bass/2017_11_30/F_31360_id_3877930/g_862_31360.h5\n",
      "light\n",
      "./results_bass/2017_11_30/F_62720_id_3877929/g_862_62720.h5\n",
      "light\n",
      "./results_bass/2017_11_30/F_125440_id_3877928/g_862_125440.h5\n",
      "light\n",
      "./results_bass/2017_11_30/F_250880_id_3877927/g_862_250880.h5\n",
      "light\n",
      "./results_bass/2017_11_30/F_501760_id_3877926/g_862_501760.h5\n",
      "light\n",
      "./results_bass/2017_11_30/F_1003520_id_3877925/g_862_1003520.h5\n",
      "light\n",
      "./results_bass/2017_11_30/F_2007040_id_3877924/g_862_2007040.h5\n",
      "light\n",
      "./results_bass/2017_11_30/F_4014080_id_3877923/g_862_4014080.h5\n",
      "light\n",
      "./results_bass/2017_11_30/F_8028160_id_3877922/g_862_8028160.h5\n",
      "light\n",
      "./results_bass/2017_11_30/F_16056320_id_3877921/g_862_16056320.h5\n",
      "light\n",
      "./results_bass/2017_11_30/F_32112640_id_3877920/g_862_32112640.h5\n",
      "light\n",
      "./results_bass/2017_11_30/F_64225280_id_3878785/g_862_64225280.h5\n",
      "all\n",
      "./results_bass/2017_11_30/F_15680_id_3877950/g_862_15680.h5\n",
      "light\n",
      "./results_bass/2017_11_30/F_31360_id_3877949/g_862_31360.h5\n",
      "light\n",
      "./results_bass/2017_11_30/F_62720_id_3877948/g_862_62720.h5\n",
      "light\n",
      "./results_bass/2017_11_30/F_125440_id_3877947/g_862_125440.h5\n",
      "light\n",
      "./results_bass/2017_11_30/F_250880_id_3877946/g_862_250880.h5\n",
      "light\n",
      "./results_bass/2017_11_30/F_501760_id_3877945/g_862_501760.h5\n",
      "light\n",
      "./results_bass/2017_11_30/F_1003520_id_3877944/g_862_1003520.h5\n",
      "light\n",
      "./results_bass/2017_11_30/F_2007040_id_3877943/g_862_2007040.h5\n",
      "light\n",
      "./results_bass/2017_11_30/F_4014080_id_3877942/g_862_4014080.h5\n",
      "light\n",
      "./results_bass/2017_11_30/F_8028160_id_3877941/g_862_8028160.h5\n",
      "light\n",
      "./results_bass/2017_11_30/F_16056320_id_3877940/g_862_16056320.h5\n",
      "light\n",
      "./results_bass/2017_11_30/F_32112640_id_3877939/g_862_32112640.h5\n",
      "light\n",
      "./results_bass/2017_11_30/F_64225280_id_3877938/g_862_64225280.h5\n",
      "light\n",
      "./results_bass/2017_11_30/F_15680_id_3878162/g_862_15680.h5\n",
      "light\n",
      "./results_bass/2017_11_30/F_31360_id_3878161/g_862_31360.h5\n",
      "light\n",
      "./results_bass/2017_11_30/F_62720_id_3878160/g_862_62720.h5\n",
      "light\n",
      "./results_bass/2017_11_30/F_125440_id_3878159/g_862_125440.h5\n",
      "light\n",
      "./results_bass/2017_11_30/F_250880_id_3878158/g_862_250880.h5\n",
      "light\n",
      "./results_bass/2017_11_30/F_501760_id_3878154/g_862_501760.h5\n",
      "light\n",
      "./results_bass/2017_11_30/F_1003520_id_3878153/g_862_1003520.h5\n",
      "light\n",
      "./results_bass/2017_11_30/F_2007040_id_3878152/g_862_2007040.h5\n",
      "light\n",
      "./results_bass/2017_11_30/F_4014080_id_3878151/g_862_4014080.h5\n",
      "light\n",
      "./results_bass/2017_11_30/F_8028160_id_3878150/g_862_8028160.h5\n",
      "light\n",
      "./results_bass/2017_11_30/F_16056320_id_3878149/g_862_16056320.h5\n",
      "light\n",
      "./results_bass/2017_11_30/F_32112640_id_3878148/g_862_32112640.h5\n",
      "light\n",
      "./results_bass/2017_11_30/F_64225280_id_3878147/g_862_64225280.h5\n",
      "light\n"
     ]
    }
   ],
   "source": [
    "# Check frets output parameter \n",
    "for name in campaign_bass:\n",
    "    filelist = campaign_bass[name]['files']\n",
    "    for i in range(len(filelist)):\n",
    "        \n",
    "        if os.path.exists(filelist[i]):\n",
    "            print(filelist[i])\n",
    "            h5file = h5py.File(filelist[i], 'r+')\n",
    "            #h5file.attrs['frets output'] = 'light'\n",
    "            print(h5file.attrs['frets output'])\n",
    "            h5file.close()# Convert and save all h5 file from \"modal\" output to real output for displacements.\n",
    "#for campaign in campaign_fretless.values():\n",
    "##    filelist = campaign['files']\n",
    " #   for i in range(len(filelist)):\n",
    " #       if os.path.exists(filelist[i]):\n",
    " #           load_convert_and_save(filelist[i], matlab_fretless)# Convert and save all h5 file from \"modal\" output to real output for displacements."
   ]
  },
  {
   "cell_type": "code",
   "execution_count": null,
   "metadata": {},
   "outputs": [],
   "source": []
  }
 ],
 "metadata": {
  "kernelspec": {
   "display_name": "Python 3",
   "language": "python",
   "name": "python3"
  },
  "language_info": {
   "codemirror_mode": {
    "name": "ipython",
    "version": 3
   },
   "file_extension": ".py",
   "mimetype": "text/x-python",
   "name": "python",
   "nbconvert_exporter": "python",
   "pygments_lexer": "ipython3",
   "version": "3.6.3"
  }
 },
 "nbformat": 4,
 "nbformat_minor": 2
}
