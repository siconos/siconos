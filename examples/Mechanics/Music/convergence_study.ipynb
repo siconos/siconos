{
 "cells": [
  {
   "cell_type": "markdown",
   "metadata": {},
   "source": [
    "# Convergence study\n",
    "\n",
    "For a given campaign load models for all available freqs and plot\n",
    "convergence, duration ...\n"
   ]
  },
  {
   "cell_type": "code",
   "execution_count": 1,
   "metadata": {},
   "outputs": [],
   "source": [
    "# Reload automatically all python modules before each cell exec\n",
    "%load_ext autoreload\n",
    "%autoreload 2"
   ]
  },
  {
   "cell_type": "code",
   "execution_count": 2,
   "metadata": {},
   "outputs": [],
   "source": [
    "# standard python packages\n",
    "import sys\n",
    "import time\n",
    "import os\n",
    "import pickle\n",
    "import numpy as np\n",
    "from model_tools import load_model\n",
    "# visu\n",
    "import matplotlib.pyplot as plt\n",
    "%matplotlib inline"
   ]
  },
  {
   "cell_type": "code",
   "execution_count": 3,
   "metadata": {},
   "outputs": [],
   "source": [
    "import scipy.io\n",
    "import h5py\n",
    "import simulation_campaigns\n",
    "import collections\n",
    "from post_process import compute_errors, plot_campaign, check_time_vectors, plot_errors, plot_y, plot_durations, save_dof, compute_errors_rel\n",
    "import datetime"
   ]
  },
  {
   "cell_type": "markdown",
   "metadata": {},
   "source": [
    "## Pick up results file(s)\n",
    "\n",
    "Campaign parameters are supposed to be saved in a 'pkl' file\n",
    "\n",
    "Load it and get sets of results (one set = a model run for different values of frequency)\n",
    "\n",
    "#### List pkl files available:"
   ]
  },
  {
   "cell_type": "code",
   "execution_count": 4,
   "metadata": {},
   "outputs": [
    {
     "name": "stdout",
     "output_type": "stream",
     "text": [
      "campaign0212.pkl         campaign_2018.pkl        campaign_short_1312.pkl\r\n",
      "campaign_1812.pkl        campaign_new_0612.pkl\r\n"
     ]
    }
   ],
   "source": [
    "ls campaign*.pkl"
   ]
  },
  {
   "cell_type": "markdown",
   "metadata": {},
   "source": [
    "#### Load a pkl and print configs and freqs"
   ]
  },
  {
   "cell_type": "code",
   "execution_count": 5,
   "metadata": {},
   "outputs": [
    {
     "name": "stdout",
     "output_type": "stream",
     "text": [
      "Campaign name : one_contact_2018_0.5\n",
      "Available freqs:\n",
      "['100000', '10000', '1000000', '100000000', '5000', '10000000']\n",
      "\n",
      "\n",
      "Campaign name : results_paths\n",
      "Campaign name : one_contact_2018_0.0\n",
      "Available freqs:\n",
      "['100000', '10000000', '5000', '10000', '100000000', '1000000']\n",
      "\n",
      "\n",
      "Campaign name : one_contact_2018_1.0\n",
      "Available freqs:\n",
      "['10000000', '100000', '5000', '1000000', '10000', '100000000']\n",
      "\n",
      "\n",
      "Campaign name : bass_2018_0.0\n",
      "Available freqs:\n",
      "['62720', '4014080', '2007040', '125440', '1003520', '31360', '15680', '250880', '501760', '64225280', '16056320', '8028160', '256901120', '32112640', '128450560']\n",
      "\n",
      "\n",
      "Campaign name : bass_2018_0.9\n",
      "Available freqs:\n",
      "['62720', '15680', '16056320', '8028160', '1003520', '125440', '2007040', '501760', '256901120', '128450560', '250880', '31360', '64225280', '32112640', '4014080']\n",
      "\n",
      "\n",
      "Campaign name : bass_2018_1.0\n",
      "Available freqs:\n",
      "['8028160', '250880', '1003520', '15680', '125440', '64225280', '501760', '128450560', '2007040', '4014080', '32112640', '31360', '62720', '256901120', '16056320']\n",
      "\n",
      "\n",
      "Campaign name : fretless_2018_0.0\n",
      "Available freqs:\n",
      "['15680', '62720', '31360', '250880', '1003520', '125440', '16056320', '501760', '2007040', '4014080', '8028160', '64225280', '32112640']\n",
      "\n",
      "\n",
      "Campaign name : fretless_2018_0.9\n",
      "Available freqs:\n",
      "['1003520', '125440', '250880', '16056320', '32112640', '62720', '15680', '8028160', '31360', '2007040', '501760', '4014080', '64225280']\n",
      "\n",
      "\n",
      "Campaign name : fretless_2018_1.0\n",
      "Available freqs:\n",
      "['501760', '125440', '16056320', '15680', '62720', '31360', '250880', '4014080', '2007040', '8028160', '32112640', '1003520']\n",
      "\n",
      "\n",
      "Campaign name : one_contact_2018_2_1.0\n",
      "Available freqs:\n",
      "['5000', '10000', '1000000', '100000', '100000000', '10000000']\n",
      "\n",
      "\n",
      "Campaign name : bass_full_2018_0.0\n",
      "Available freqs:\n",
      "['4014080']\n",
      "\n",
      "\n",
      "Campaign name : bass_full_2018_0.9\n",
      "Available freqs:\n",
      "['4014080']\n",
      "\n",
      "\n",
      "Campaign name : fretless_full_2018_0.0\n",
      "Available freqs:\n",
      "['4014080']\n",
      "\n",
      "\n",
      "Campaign name : fretless_full_2018_0.9\n",
      "Available freqs:\n",
      "['4014080']\n",
      "\n",
      "\n",
      "Campaign name : bass_full_2018_1.0\n",
      "Available freqs:\n",
      "['4014080']\n",
      "\n",
      "\n",
      "Campaign name : fretless_full_2018_1.0\n",
      "Available freqs:\n",
      "['4014080']\n",
      "\n",
      "\n",
      "Campaign name : one_contact_2018_2_0.9\n",
      "Available freqs:\n",
      "['100000', '10000', '5000', '1000000', '100000000', '10000000']\n",
      "\n",
      "\n"
     ]
    }
   ],
   "source": [
    "import pickle\n",
    "import subprocess\n",
    "pklfilename = 'campaign_2018.pkl'\n",
    "#pkl_file = open('campaign_new_0612.pkl', 'rb')\n",
    "pkl_file = open(pklfilename, 'rb')\n",
    "\n",
    "remote_data = pickle.load(pkl_file)\n",
    "for name in remote_data:\n",
    "    print(\"Campaign name : \" + name)\n",
    "    if name.find('results') < 0:\n",
    "        print(\"Available freqs:\")\n",
    "        print(list(remote_data[name].keys()))\n",
    "        print(\"\\n\")\n"
   ]
  },
  {
   "cell_type": "markdown",
   "metadata": {},
   "source": [
    "## Convergence study"
   ]
  },
  {
   "cell_type": "code",
   "execution_count": 6,
   "metadata": {},
   "outputs": [],
   "source": [
    "matlab_frets = './bass_guitar/pb2'\n",
    "matlab_fretless = './fretless_bass_guitar/bsf'\n",
    "matlab_one_contact = './one_contact/pb1'\n",
    "errors = {}\n",
    "freqs = {}\n",
    "ymin = {}\n",
    "timers = {}\n",
    "xref = {}"
   ]
  },
  {
   "cell_type": "markdown",
   "metadata": {},
   "source": [
    "#### Select campaign of interest "
   ]
  },
  {
   "cell_type": "code",
   "execution_count": 7,
   "metadata": {},
   "outputs": [],
   "source": [
    "simu = 'one_contact'\n",
    "#simu = 'bass'\n",
    "#simu = 'fretless'"
   ]
  },
  {
   "cell_type": "code",
   "execution_count": 8,
   "metadata": {},
   "outputs": [
    {
     "name": "stdout",
     "output_type": "stream",
     "text": [
      "fig_campaign_2018/one_contact\n"
     ]
    }
   ],
   "source": [
    "figures_path = 'fig_' + os.path.splitext(pklfilename)[0]\n",
    "if not os.path.exists(figures_path):\n",
    "    os.mkdir(figures_path)\n",
    "\n",
    "if simu == 'bass':\n",
    "    names = [name for name in remote_data.keys() if name.find('bass_2018') >=0]\n",
    "    figures_path = os.path.join(figures_path, 'bass')\n",
    "    dofs = [500, 853]\n",
    "elif simu == 'fretless':\n",
    "    names = [name for name in remote_data.keys() if name.find('fretless_2018') >=0]\n",
    "    figures_path = os.path.join(figures_path, 'fretless')\n",
    "    dofs = [500, 853]\n",
    "elif simu == 'one_contact':\n",
    "    dofs = [100, 500, 990]\n",
    "    names = [name for name in remote_data.keys() if name.find('one_contact_2018') >=0]\n",
    "    #names = [name for name in remote_data.keys() if name.find('one') >=0]\n",
    "    figures_path = os.path.join(figures_path, 'one_contact')\n",
    "\n",
    "\n",
    "\n",
    "#\n",
    "if not os.path.exists(figures_path):\n",
    "    os.mkdir(figures_path)\n",
    "print(figures_path)\n",
    "\n"
   ]
  },
  {
   "cell_type": "code",
   "execution_count": 9,
   "metadata": {
    "scrolled": false
   },
   "outputs": [
    {
     "name": "stdout",
     "output_type": "stream",
     "text": [
      "compute errors with reference freq = 100000000.0\n",
      "Load model from file ./results_bass_2018/F_100000000_id_4075706/converted_single_e0.5_999_100000000.h5\n",
      "Warning: no input for damping. Set damping matrix to zero.\n",
      "Load model from file ./results_bass_2018/F_5000_id_4075701/converted_single_e0.5_999_5000.h5\n",
      "Warning: no input for damping. Set damping matrix to zero.\n",
      "Load model from file ./results_bass_2018/F_10000_id_4075702/converted_single_e0.5_999_10000.h5\n",
      "Warning: no input for damping. Set damping matrix to zero.\n",
      "Load model from file ./results_bass_2018/F_100000_id_4075703/converted_single_e0.5_999_100000.h5\n",
      "Warning: no input for damping. Set damping matrix to zero.\n",
      "Load model from file ./results_bass_2018/F_1000000_id_4075704/converted_single_e0.5_999_1000000.h5\n",
      "Warning: no input for damping. Set damping matrix to zero.\n",
      "Load model from file ./results_bass_2018/F_10000000_id_4075705/converted_single_e0.5_999_10000000.h5\n",
      "Warning: no input for damping. Set damping matrix to zero.\n",
      "compute errors with reference freq = 100000000.0\n",
      "Load model from file ./results_bass_2018/F_100000000_id_4075700/converted_single_e0.0_999_100000000.h5\n",
      "Warning: no input for damping. Set damping matrix to zero.\n",
      "Load model from file ./results_bass_2018/F_5000_id_4075695/converted_single_e0.0_999_5000.h5\n",
      "Warning: no input for damping. Set damping matrix to zero.\n",
      "Load model from file ./results_bass_2018/F_10000_id_4075696/converted_single_e0.0_999_10000.h5\n",
      "Warning: no input for damping. Set damping matrix to zero.\n",
      "Load model from file ./results_bass_2018/F_100000_id_4075697/converted_single_e0.0_999_100000.h5\n",
      "Warning: no input for damping. Set damping matrix to zero.\n",
      "Load model from file ./results_bass_2018/F_1000000_id_4075698/converted_single_e0.0_999_1000000.h5\n",
      "Warning: no input for damping. Set damping matrix to zero.\n",
      "Load model from file ./results_bass_2018/F_10000000_id_4075699/converted_single_e0.0_999_10000000.h5\n",
      "Warning: no input for damping. Set damping matrix to zero.\n",
      "compute errors with reference freq = 100000000.0\n",
      "Load model from file ./results_bass_2018/F_100000000_id_4075712/converted_single_e1.0_999_100000000.h5\n",
      "Warning: no input for damping. Set damping matrix to zero.\n",
      "Load model from file ./results_bass_2018/F_5000_id_4075707/converted_single_e1.0_999_5000.h5\n",
      "Warning: no input for damping. Set damping matrix to zero.\n",
      "Load model from file ./results_bass_2018/F_10000_id_4075708/converted_single_e1.0_999_10000.h5\n",
      "Warning: no input for damping. Set damping matrix to zero.\n",
      "Load model from file ./results_bass_2018/F_100000_id_4075709/converted_single_e1.0_999_100000.h5\n",
      "Warning: no input for damping. Set damping matrix to zero.\n",
      "Load model from file ./results_bass_2018/F_1000000_id_4075710/converted_single_e1.0_999_1000000.h5\n",
      "Warning: no input for damping. Set damping matrix to zero.\n",
      "Load model from file ./results_bass_2018/F_10000000_id_4075711/converted_single_e1.0_999_10000000.h5\n",
      "Warning: no input for damping. Set damping matrix to zero.\n",
      "compute errors with reference freq = 100000000.0\n",
      "Load model from file ./results_bass_2018/F_100000000_id_4076802/converted_single_e1.0_999_100000000.h5\n",
      "Warning: no input for damping. Set damping matrix to zero.\n",
      "Load model from file ./results_bass_2018/F_5000_id_4076797/converted_single_e1.0_999_5000.h5\n",
      "Warning: no input for damping. Set damping matrix to zero.\n",
      "Load model from file ./results_bass_2018/F_10000_id_4076798/converted_single_e1.0_999_10000.h5\n",
      "Warning: no input for damping. Set damping matrix to zero.\n",
      "Load model from file ./results_bass_2018/F_100000_id_4076799/converted_single_e1.0_999_100000.h5\n",
      "Warning: no input for damping. Set damping matrix to zero.\n",
      "Load model from file ./results_bass_2018/F_1000000_id_4076800/converted_single_e1.0_999_1000000.h5\n",
      "Warning: no input for damping. Set damping matrix to zero.\n",
      "Load model from file ./results_bass_2018/F_10000000_id_4076801/converted_single_e1.0_999_10000000.h5\n",
      "Warning: no input for damping. Set damping matrix to zero.\n",
      "compute errors with reference freq = 100000000.0\n",
      "Load model from file ./results_bass_2018/F_100000000_id_4077061/converted_single_e0.9_999_100000000.h5\n",
      "Warning: no input for damping. Set damping matrix to zero.\n",
      "Load model from file ./results_bass_2018/F_5000_id_4077056/converted_single_e0.9_999_5000.h5\n",
      "Warning: no input for damping. Set damping matrix to zero.\n",
      "Load model from file ./results_bass_2018/F_10000_id_4077057/converted_single_e0.9_999_10000.h5\n",
      "Warning: no input for damping. Set damping matrix to zero.\n",
      "Load model from file ./results_bass_2018/F_100000_id_4077058/converted_single_e0.9_999_100000.h5\n",
      "Warning: no input for damping. Set damping matrix to zero.\n",
      "Load model from file ./results_bass_2018/F_1000000_id_4077059/converted_single_e0.9_999_1000000.h5\n",
      "Warning: no input for damping. Set damping matrix to zero.\n",
      "Load model from file ./results_bass_2018/F_10000000_id_4077060/converted_single_e0.9_999_10000000.h5\n",
      "Warning: no input for damping. Set damping matrix to zero.\n"
     ]
    },
    {
     "data": {
      "image/png": "[encoded data removed]",
      "text/plain": [
       "<matplotlib.figure.Figure at 0x10608bf28>"
      ]
     },
     "metadata": {},
     "output_type": "display_data"
    }
   ],
   "source": [
    "for name in names:\n",
    "    campaign = remote_data[name]\n",
    "    #if name.find('new') >=0 : \n",
    "    #    shift = 2\n",
    "    #else:\n",
    "    shift=1\n",
    "    #if name.find('new2') >=0 : \n",
    "    #    shift = 1\n",
    "    fileslist = {}\n",
    "    results_path = remote_data[\"results_paths\"][1]\n",
    "    timers[name] = np.zeros((len(campaign), 3))\n",
    "    j = 0\n",
    "    for freq in campaign:\n",
    "        fileslist[np.float(freq)] = os.path.join(results_path, campaign[freq][5])\n",
    "        timers[name][j, :] = [np.float(freq), np.float(campaign[freq][1]), np.int(campaign[freq][2])]\n",
    "        j += 1                   \n",
    "    fileslist = collections.OrderedDict(sorted(fileslist.items()))\n",
    "    #check_time_vectors(filelist, matlab_frets)\n",
    "    errors[name], ymin[name], freqs[name], xref[name] = compute_errors(fileslist, dofs=dofs,\n",
    "                                                                       savedofs=name + '_dofs.mat')#,ifref=-1)"
   ]
  },
  {
   "cell_type": "markdown",
   "metadata": {},
   "source": [
    "### Plot convergence for bass guitar"
   ]
  },
  {
   "cell_type": "code",
   "execution_count": null,
   "metadata": {},
   "outputs": [],
   "source": [
    "for  name in errors:\n",
    "    print(name)\n",
    "    print(len(freqs[name]))\n",
    "    print(errors[name].shape)\n",
    "#bckp_err = dict(errors)\n",
    "#errors.pop('one_contact_2018_1.0')\n",
    "#for  name in errors:\n",
    "#    print(name)\n",
    "#    print(len(freqs[name]))\n",
    "#    print(errors[name].shape)\n",
    "\n",
    "\n",
    "\n"
   ]
  },
  {
   "cell_type": "code",
   "execution_count": null,
   "metadata": {},
   "outputs": [],
   "source": [
    "iplot = 388\n",
    "for i in range(len(dofs)):\n",
    "    fig = plot_errors(errors, freqs, i, xref, iplot, figures_path)\n",
    "    iplot += 1\n",
    "\n",
    "fig4 = plot_y(ymin, freqs, 4)\n",
    "##fig4.title()\n",
    "plt.savefig(os.path.join(figures_path, 'min_y.pdf'))"
   ]
  },
  {
   "cell_type": "code",
   "execution_count": null,
   "metadata": {},
   "outputs": [],
   "source": [
    "yy = ymin['bass0.9']\n",
    "fr = freqs['bass0.9']\n",
    "yy.shape"
   ]
  },
  {
   "cell_type": "code",
   "execution_count": null,
   "metadata": {},
   "outputs": [],
   "source": [
    "for i in range(20):\n",
    "    plt.semilogx(fr, yy[:-1, i])"
   ]
  },
  {
   "cell_type": "markdown",
   "metadata": {},
   "source": [
    "#### Save results (errors ...) in pkl file"
   ]
  },
  {
   "cell_type": "markdown",
   "metadata": {},
   "source": [
    "date = datetime.datetime.now().isoformat()\n",
    "bckpfilename = os.path.join(figures_path, 'backup' + str(date) + '.pkl')\n",
    "print('backup to file ' + bckpfilename + ' ...')\n",
    "bckpfile = open(bckpfilename, 'wb')\n",
    "backups = (errors, ymin, freqs)\n",
    "pickle.dump(backups, bckpfile)\n"
   ]
  },
  {
   "cell_type": "markdown",
   "metadata": {},
   "source": [
    "# To load a file:\n",
    "bckpfile = open('fig_campaign0212/backup2017-12-13T14:26:26.296423.pkl', 'rb')\n",
    "#bckpfile = open('fig_campaign_new_0612/backup2017-12-14T11:16:22.928082.pkl', 'rb')\n",
    "\n",
    "results = pickle.load(bckpfile)\n",
    "err = results[0]\n",
    "fre = results[2]\n",
    "bckpfile.close()\n",
    "\n",
    "\n",
    "for name in errors:\n",
    "    err[name] = errors[name]\n",
    "    fre[name] = freqs[name]"
   ]
  },
  {
   "cell_type": "markdown",
   "metadata": {},
   "source": [
    "### plot simulations durations"
   ]
  },
  {
   "cell_type": "code",
   "execution_count": 10,
   "metadata": {},
   "outputs": [
    {
     "ename": "IndexError",
     "evalue": "list index out of range",
     "output_type": "error",
     "traceback": [
      "\u001b[0;31m---------------------------------------------------------------------------\u001b[0m",
      "\u001b[0;31mIndexError\u001b[0m                                Traceback (most recent call last)",
      "\u001b[0;32m<ipython-input-10-968ea35128e5>\u001b[0m in \u001b[0;36m<module>\u001b[0;34m()\u001b[0m\n\u001b[0;32m----> 1\u001b[0;31m \u001b[0mfig\u001b[0m \u001b[0;34m=\u001b[0m \u001b[0mplot_durations\u001b[0m\u001b[0;34m(\u001b[0m\u001b[0mtimers\u001b[0m\u001b[0;34m)\u001b[0m\u001b[0;34m\u001b[0m\u001b[0m\n\u001b[0m\u001b[1;32m      2\u001b[0m \u001b[0mplt\u001b[0m\u001b[0;34m.\u001b[0m\u001b[0msavefig\u001b[0m\u001b[0;34m(\u001b[0m\u001b[0mos\u001b[0m\u001b[0;34m.\u001b[0m\u001b[0mpath\u001b[0m\u001b[0;34m.\u001b[0m\u001b[0mjoin\u001b[0m\u001b[0;34m(\u001b[0m\u001b[0mfigures_path\u001b[0m\u001b[0;34m,\u001b[0m \u001b[0;34m'Durations.pdf'\u001b[0m\u001b[0;34m)\u001b[0m\u001b[0;34m)\u001b[0m\u001b[0;34m\u001b[0m\u001b[0m\n",
      "\u001b[0;32m~/Projets/Siconos/myfork/siconos/examples/Mechanics/Music/post_process.py\u001b[0m in \u001b[0;36mplot_durations\u001b[0;34m(timers)\u001b[0m\n\u001b[1;32m    267\u001b[0m     \u001b[0;32mfor\u001b[0m \u001b[0mname\u001b[0m \u001b[0;32min\u001b[0m \u001b[0mtimers\u001b[0m\u001b[0;34m:\u001b[0m\u001b[0;34m\u001b[0m\u001b[0m\n\u001b[1;32m    268\u001b[0m         \u001b[0mtimers\u001b[0m\u001b[0;34m[\u001b[0m\u001b[0mname\u001b[0m\u001b[0;34m]\u001b[0m\u001b[0;34m.\u001b[0m\u001b[0msort\u001b[0m\u001b[0;34m(\u001b[0m\u001b[0;36m0\u001b[0m\u001b[0;34m)\u001b[0m\u001b[0;34m\u001b[0m\u001b[0m\n\u001b[0;32m--> 269\u001b[0;31m         \u001b[0max1\u001b[0m\u001b[0;34m.\u001b[0m\u001b[0msemilogx\u001b[0m\u001b[0;34m(\u001b[0m\u001b[0mtimers\u001b[0m\u001b[0;34m[\u001b[0m\u001b[0mname\u001b[0m\u001b[0;34m]\u001b[0m\u001b[0;34m[\u001b[0m\u001b[0;34m:\u001b[0m\u001b[0;34m,\u001b[0m \u001b[0;36m0\u001b[0m\u001b[0;34m]\u001b[0m\u001b[0;34m,\u001b[0m \u001b[0mtimers\u001b[0m\u001b[0;34m[\u001b[0m\u001b[0mname\u001b[0m\u001b[0;34m]\u001b[0m\u001b[0;34m[\u001b[0m\u001b[0;34m:\u001b[0m\u001b[0;34m,\u001b[0m \u001b[0;36m1\u001b[0m\u001b[0;34m]\u001b[0m\u001b[0;34m/\u001b[0m\u001b[0;36m60.\u001b[0m\u001b[0;34m,\u001b[0m \u001b[0mtick1\u001b[0m\u001b[0;34m[\u001b[0m\u001b[0mi\u001b[0m\u001b[0;34m]\u001b[0m\u001b[0;34m)\u001b[0m\u001b[0;34m\u001b[0m\u001b[0m\n\u001b[0m\u001b[1;32m    270\u001b[0m         \u001b[0max2\u001b[0m\u001b[0;34m.\u001b[0m\u001b[0msemilogx\u001b[0m\u001b[0;34m(\u001b[0m\u001b[0mtimers\u001b[0m\u001b[0;34m[\u001b[0m\u001b[0mname\u001b[0m\u001b[0;34m]\u001b[0m\u001b[0;34m[\u001b[0m\u001b[0;34m:\u001b[0m\u001b[0;34m,\u001b[0m \u001b[0;36m0\u001b[0m\u001b[0;34m]\u001b[0m\u001b[0;34m,\u001b[0m \u001b[0mtimers\u001b[0m\u001b[0;34m[\u001b[0m\u001b[0mname\u001b[0m\u001b[0;34m]\u001b[0m\u001b[0;34m[\u001b[0m\u001b[0;34m:\u001b[0m\u001b[0;34m,\u001b[0m \u001b[0;36m2\u001b[0m\u001b[0;34m]\u001b[0m\u001b[0;34m,\u001b[0m \u001b[0mtick2\u001b[0m\u001b[0;34m[\u001b[0m\u001b[0mi\u001b[0m\u001b[0;34m]\u001b[0m\u001b[0;34m)\u001b[0m\u001b[0;34m\u001b[0m\u001b[0m\n\u001b[1;32m    271\u001b[0m         \u001b[0mi\u001b[0m \u001b[0;34m+=\u001b[0m \u001b[0;36m1\u001b[0m\u001b[0;34m\u001b[0m\u001b[0m\n",
      "\u001b[0;31mIndexError\u001b[0m: list index out of range"
     ]
    },
    {
     "data": {
      "image/png": "[encoded data removed]",
      "text/plain": [
       "<matplotlib.figure.Figure at 0x10b345128>"
      ]
     },
     "metadata": {},
     "output_type": "display_data"
    }
   ],
   "source": [
    "fig = plot_durations(timers)\n",
    "plt.savefig(os.path.join(figures_path, 'Durations.pdf'))"
   ]
  },
  {
   "cell_type": "code",
   "execution_count": 11,
   "metadata": {},
   "outputs": [
    {
     "data": {
      "text/plain": [
       "{'one_contact_2018_0.0': array([[  5.00000000e+03,   3.04046700e+00,   3.80000000e+01],\n",
       "        [  1.00000000e+04,   5.28405300e+00,   3.80000000e+01],\n",
       "        [  1.00000000e+05,   4.56613200e+01,   3.80000000e+01],\n",
       "        [  1.00000000e+06,   4.48317104e+02,   3.80000000e+01],\n",
       "        [  1.00000000e+07,   4.43771040e+03,   3.80000000e+01],\n",
       "        [  1.00000000e+08,   4.39306598e+04,   3.80000000e+01]]),\n",
       " 'one_contact_2018_0.5': array([[  5.00000000e+03,   3.11469400e+00,   3.80000000e+01],\n",
       "        [  1.00000000e+04,   5.30425800e+00,   3.80000000e+01],\n",
       "        [  1.00000000e+05,   4.55863540e+01,   3.80000000e+01],\n",
       "        [  1.00000000e+06,   4.43679052e+02,   3.80000000e+01],\n",
       "        [  1.00000000e+07,   4.47804976e+03,   3.80000000e+01],\n",
       "        [  1.00000000e+08,   4.43188950e+04,   3.80000000e+01]]),\n",
       " 'one_contact_2018_1.0': array([[  5.00000000e+03,   2.40670600e+00,   3.90000000e+01],\n",
       "        [  1.00000000e+04,   4.18162600e+00,   3.90000000e+01],\n",
       "        [  1.00000000e+05,   3.56999530e+01,   3.90000000e+01],\n",
       "        [  1.00000000e+06,   3.53646034e+02,   3.90000000e+01],\n",
       "        [  1.00000000e+07,   3.50106782e+03,   3.90000000e+01],\n",
       "        [  1.00000000e+08,   3.49336666e+04,   3.90000000e+01]]),\n",
       " 'one_contact_2018_2_0.9': array([[  1.00000000e+05,   4.51903840e+01,   4.00000000e+01],\n",
       "        [  1.00000000e+04,   5.22847600e+00,   4.00000000e+01],\n",
       "        [  5.00000000e+03,   3.01259600e+00,   4.00000000e+01],\n",
       "        [  1.00000000e+06,   4.45727607e+02,   4.00000000e+01],\n",
       "        [  1.00000000e+08,   4.42617284e+04,   4.00000000e+01],\n",
       "        [  1.00000000e+07,   4.44173155e+03,   4.00000000e+01]]),\n",
       " 'one_contact_2018_2_1.0': array([[  5.00000000e+03,   2.97352700e+00,   4.00000000e+01],\n",
       "        [  1.00000000e+04,   5.14387700e+00,   4.00000000e+01],\n",
       "        [  1.00000000e+05,   4.40604350e+01,   4.00000000e+01],\n",
       "        [  1.00000000e+06,   4.30691410e+02,   4.00000000e+01],\n",
       "        [  1.00000000e+07,   4.31854616e+03,   4.00000000e+01],\n",
       "        [  1.00000000e+08,   4.28506642e+04,   4.00000000e+01]])}"
      ]
     },
     "execution_count": 11,
     "metadata": {},
     "output_type": "execute_result"
    }
   ],
   "source": [
    "timers"
   ]
  },
  {
   "cell_type": "code",
   "execution_count": 21,
   "metadata": {},
   "outputs": [
    {
     "data": {
      "text/plain": [
       "7.4287934499999997"
      ]
     },
     "execution_count": 21,
     "metadata": {},
     "output_type": "execute_result"
    }
   ],
   "source": [
    "timers['one_contact_2018_2_0.9'][3,1]/60"
   ]
  },
  {
   "cell_type": "code",
   "execution_count": null,
   "metadata": {},
   "outputs": [],
   "source": [
    "timers['bass_2018_0.0'][6,0]\n"
   ]
  },
  {
   "cell_type": "code",
   "execution_count": null,
   "metadata": {},
   "outputs": [],
   "source": []
  }
 ],
 "metadata": {
  "kernelspec": {
   "display_name": "Python 3",
   "language": "python",
   "name": "python3"
  },
  "language_info": {
   "codemirror_mode": {
    "name": "ipython",
    "version": 3
   },
   "file_extension": ".py",
   "mimetype": "text/x-python",
   "name": "python",
   "nbconvert_exporter": "python",
   "pygments_lexer": "ipython3",
   "version": "3.6.4"
  }
 },
 "nbformat": 4,
 "nbformat_minor": 2
}
