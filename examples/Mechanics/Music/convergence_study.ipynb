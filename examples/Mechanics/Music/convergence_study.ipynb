{
 "cells": [
  {
   "cell_type": "markdown",
   "metadata": {},
   "source": [
    "# Convergence study\n",
    "\n",
    "For a given campaign load models for all available freqs and plot\n",
    "convergence, duration ...\n"
   ]
  },
  {
   "cell_type": "code",
   "execution_count": 1,
   "metadata": {},
   "outputs": [],
   "source": [
    "# Reload automatically all python modules before each cell exec\n",
    "%load_ext autoreload\n",
    "%autoreload 2"
   ]
  },
  {
   "cell_type": "code",
   "execution_count": 2,
   "metadata": {},
   "outputs": [],
   "source": [
    "# standard python packages\n",
    "import sys\n",
    "import time\n",
    "import os\n",
    "import pickle\n",
    "import numpy as np\n",
    "from model_tools import load_model\n",
    "# visu\n",
    "import matplotlib.pyplot as plt\n",
    "%matplotlib inline"
   ]
  },
  {
   "cell_type": "code",
   "execution_count": 3,
   "metadata": {},
   "outputs": [],
   "source": [
    "import scipy.io\n",
    "import h5py\n",
    "import simulation_campaigns\n",
    "import collections\n",
    "from post_process import compute_errors, plot_campaign, check_time_vectors, plot_errors, plot_y, plot_durations, save_dof, compute_errors_rel\n",
    "import datetime"
   ]
  },
  {
   "cell_type": "markdown",
   "metadata": {},
   "source": [
    "## Pick up results file(s)\n",
    "\n",
    "Campaign parameters are supposed to be saved in a 'pkl' file\n",
    "\n",
    "Load it and get sets of results (one set = a model run for different values of frequency)\n",
    "\n",
    "#### List pkl files available:"
   ]
  },
  {
   "cell_type": "code",
   "execution_count": 4,
   "metadata": {},
   "outputs": [
    {
     "name": "stdout",
     "output_type": "stream",
     "text": [
      "campaign0212.pkl         campaign_new_0612.pkl\r\n",
      "campaign_1812.pkl        campaign_short_1312.pkl\r\n"
     ]
    }
   ],
   "source": [
    "ls campaign*.pkl"
   ]
  },
  {
   "cell_type": "markdown",
   "metadata": {},
   "source": [
    "#### Load a pkl and print configs and freqs"
   ]
  },
  {
   "cell_type": "code",
   "execution_count": 5,
   "metadata": {},
   "outputs": [
    {
     "name": "stdout",
     "output_type": "stream",
     "text": [
      "Campaign name : bass0.0\n",
      "Available freqs:\n",
      "['31360', '1003520', '62720', '250880', '125440', '501760', '15680', '4014080', '2007040', '64225280', '16056320', '32112640', '128450560', '8028160', '256901120']\n",
      "\n",
      "\n",
      "Campaign name : results_paths\n",
      "Campaign name : bass0.9\n",
      "Available freqs:\n",
      "['125440', '250880', '31360', '15680', '62720', '8028160', '2007040', '128450560', '16056320', '32112640', '1003520', '4014080', '64225280', '501760', '256901120']\n",
      "\n",
      "\n",
      "Campaign name : bass1.0\n",
      "Available freqs:\n",
      "['125440', '15680', '250880', '31360', '62720', '501760', '4014080', '8028160', '2007040', '1003520', '32112640', '16056320', '128450560', '64225280', '256901120']\n",
      "\n",
      "\n",
      "Campaign name : fretless0.0\n",
      "Available freqs:\n",
      "['62720', '125440', '31360', '15680', '250880', '501760', '1003520', '2007040', '4014080', '8028160']\n",
      "\n",
      "\n",
      "Campaign name : fretless0.9\n",
      "Available freqs:\n",
      "['4014080', '8028160', '15680', '62720', '31360', '125440', '250880', '2007040', '501760', '1003520']\n",
      "\n",
      "\n",
      "Campaign name : fretless1.0\n",
      "Available freqs:\n",
      "['15680', '125440', '250880', '1003520', '501760', '2007040', '4014080', '8028160', '62720', '31360']\n",
      "\n",
      "\n",
      "Campaign name : one_new0.0\n",
      "Available freqs:\n",
      "['5000', '10000', '100000', '10000000', '100000000', '1000000']\n",
      "\n",
      "\n",
      "Campaign name : fdbass0.0\n",
      "Available freqs:\n",
      "['16056320', '8028160', '4014080', '256901120', '64225280', '32112640', '128450560']\n",
      "\n",
      "\n",
      "Campaign name : fdbass1.0\n",
      "Available freqs:\n",
      "['32112640', '128450560', '256901120', '64225280', '16056320', '4014080', '8028160']\n",
      "\n",
      "\n",
      "Campaign name : fdbass0.9\n",
      "Available freqs:\n",
      "['32112640', '16056320', '4014080', '8028160', '64225280', '256901120', '128450560']\n",
      "\n",
      "\n",
      "Campaign name : bass_full0.0\n",
      "Available freqs:\n",
      "['4014080']\n",
      "\n",
      "\n"
     ]
    }
   ],
   "source": [
    "import pickle\n",
    "import subprocess\n",
    "pklfilename = 'campaign_1812.pkl'\n",
    "#pkl_file = open('campaign_new_0612.pkl', 'rb')\n",
    "pkl_file = open(pklfilename, 'rb')\n",
    "\n",
    "remote_data = pickle.load(pkl_file)\n",
    "for name in remote_data:\n",
    "    print(\"Campaign name : \" + name)\n",
    "    if name.find('results') < 0:\n",
    "        print(\"Available freqs:\")\n",
    "        print(list(remote_data[name].keys()))\n",
    "        print(\"\\n\")\n"
   ]
  },
  {
   "cell_type": "markdown",
   "metadata": {},
   "source": [
    "## Convergence study"
   ]
  },
  {
   "cell_type": "code",
   "execution_count": null,
   "metadata": {},
   "outputs": [],
   "source": [
    "matlab_frets = './bass_guitar/pb2'\n",
    "matlab_fretless = './fretless_bass_guitar/bsf'\n",
    "matlab_one_contact = './one_contact/pb1'\n",
    "errors = {}\n",
    "freqs = {}\n",
    "ymin = {}\n",
    "timers = {}\n",
    "xref = {}"
   ]
  },
  {
   "cell_type": "code",
   "execution_count": null,
   "metadata": {
    "scrolled": false
   },
   "outputs": [],
   "source": [
    "figures_path = 'fig_' + os.path.splitext(pklfilename)[0]\n",
    "if not os.path.exists(figures_path):\n",
    "    os.mkdir(figures_path)\n",
    "\n",
    "#names = [name for name in remote_data.keys() if name.find('bass') >=0]\n",
    "#figures_path = os.path.join(figures_path, 'bass')\n",
    "#dofs = [500, 853]\n",
    "\n",
    "dofs = [100, 500, 990]\n",
    "#names=['bass0.9']\n",
    "#names = [name for name in remote_data.keys() if name.find('one_contact') >=0]\n",
    "#figures_path = os.path.join(figures_path, 'one_contact')\n",
    "\n",
    "names = [name for name in remote_data.keys() if name.find('one_new') >=0]\n",
    "figures_path = os.path.join(figures_path, 'one_contact')\n",
    "\n",
    "\n",
    "\n",
    "#\n",
    "#names = [name for name in remote_data.keys() if name.find('fretless') >=0]\n",
    "#figures_path = os.path.join(figures_path, 'fretless')\n",
    "\n",
    "if not os.path.exists(figures_path):\n",
    "    os.mkdir(figures_path)\n",
    "print(figures_path)\n",
    "\n",
    "for name in names:\n",
    "    campaign = remote_data[name]\n",
    "    #if name.find('new') >=0 : \n",
    "    #    shift = 2\n",
    "    #else:\n",
    "    shift=1\n",
    "    #if name.find('new2') >=0 : \n",
    "    #    shift = 1\n",
    "\n",
    "#    if name.find('bass') >=0 :\n",
    "#        matlab_input = matlab_frets\n",
    " #   elif name.find('fretless') >= 0:\n",
    "  #      matlab_input = matlab_fretless\n",
    "   # elif name.find('one_contact') >=0 :\n",
    "    #    matlab_input = matlab_one_contact\n",
    "    fileslist = {}\n",
    "    results_path = remote_data[\"results_paths\"][1]\n",
    "    timers[name] = np.zeros((len(campaign), 3))\n",
    "    j = 0\n",
    "    for freq in campaign:\n",
    "        fileslist[np.float(freq)] = os.path.join(results_path, campaign[freq][5])\n",
    "        timers[name][j, :] = [np.float(freq), np.float(campaign[freq][1]), np.int(campaign[freq][2])]\n",
    "        j += 1                   \n",
    "    fileslist = collections.OrderedDict(sorted(fileslist.items()))\n",
    "    #check_time_vectors(filelist, matlab_frets)\n",
    "    errors[name], ymin[name], freqs[name], xref[name] = compute_errors(fileslist, dofs=dofs, savedofs=name + '_dofs.mat')"
   ]
  },
  {
   "cell_type": "code",
   "execution_count": null,
   "metadata": {},
   "outputs": [],
   "source": [
    "names = [name for name in remote_data.keys() if name.find('bass') >=0]\n",
    "dof = 853\n",
    "for name in names:\n",
    "    campaign = remote_data[name]\n",
    "    if name.find('bass') >=0 :\n",
    "        matlab_input = matlab_frets\n",
    "    elif name.find('fretless') >= 0:\n",
    "        matlab_input = matlab_fretless\n",
    "    fileslist = {}\n",
    "    results_path = remote_data[\"results_paths\"][1]\n",
    "    timers[name] = np.zeros((len(campaign), 3))\n",
    "    j = 0\n",
    "    for freq in campaign:\n",
    "        fileslist[np.float(freq)] = os.path.join(results_path, campaign[freq][5])\n",
    "    fileslist = collections.OrderedDict(sorted(fileslist.items()))\n",
    "    #print(fileslist)\n",
    "    #check_time_vectors(filelist, matlab_frets)\n",
    "    matfile = name + '_dof' + str(dof) + '.mat'\n",
    "    saved_dof =  save_dof(fileslist, dof, matfile)\n",
    "    "
   ]
  },
  {
   "cell_type": "markdown",
   "metadata": {},
   "source": [
    "### Plot convergence for bass guitar"
   ]
  },
  {
   "cell_type": "code",
   "execution_count": null,
   "metadata": {},
   "outputs": [],
   "source": []
  },
  {
   "cell_type": "code",
   "execution_count": null,
   "metadata": {},
   "outputs": [],
   "source": [
    "print(errors)\n",
    "print(figures_path)"
   ]
  },
  {
   "cell_type": "code",
   "execution_count": null,
   "metadata": {},
   "outputs": [],
   "source": [
    "for  name in errors:\n",
    "    print(name)\n",
    "    print(len(freqs[name]))\n",
    "    print(errors[name].shape)"
   ]
  },
  {
   "cell_type": "code",
   "execution_count": null,
   "metadata": {},
   "outputs": [],
   "source": [
    "iplot = 388\n",
    "for i in range(len(dofs)):\n",
    "    fig = plot_errors(errors, freqs, i, xref, iplot, figures_path)\n",
    "    iplot += 1\n",
    "\n",
    "fig4 = plot_y(ymin, freqs, 4)\n",
    "##fig4.title()\n",
    "plt.savefig(os.path.join(figures_path, 'min_y.pdf'))"
   ]
  },
  {
   "cell_type": "code",
   "execution_count": null,
   "metadata": {},
   "outputs": [],
   "source": [
    "yy = ymin['bass0.9']\n",
    "fr = freqs['bass0.9']\n",
    "yy.shape"
   ]
  },
  {
   "cell_type": "code",
   "execution_count": null,
   "metadata": {},
   "outputs": [],
   "source": [
    "for i in range(20):\n",
    "    plt.semilogx(fr, yy[:-1, i])"
   ]
  },
  {
   "cell_type": "markdown",
   "metadata": {},
   "source": [
    "#### Save results (errors ...) in pkl file"
   ]
  },
  {
   "cell_type": "code",
   "execution_count": null,
   "metadata": {},
   "outputs": [],
   "source": [
    "date = datetime.datetime.now().isoformat()\n",
    "bckpfilename = os.path.join(figures_path, 'backup' + str(date) + '.pkl')\n",
    "print('backup to file ' + bckpfilename + ' ...')\n",
    "bckpfile = open(bckpfilename, 'wb')\n",
    "backups = (errors, ymin, freqs)\n",
    "pickle.dump(backups, bckpfile)\n"
   ]
  },
  {
   "cell_type": "code",
   "execution_count": null,
   "metadata": {},
   "outputs": [],
   "source": [
    "# To load a file:\n",
    "bckpfile = open('fig_campaign0212/backup2017-12-13T14:26:26.296423.pkl', 'rb')\n",
    "#bckpfile = open('fig_campaign_new_0612/backup2017-12-14T11:16:22.928082.pkl', 'rb')\n",
    "\n",
    "results = pickle.load(bckpfile)\n",
    "err = results[0]\n",
    "fre = results[2]\n",
    "bckpfile.close()\n",
    "\n",
    "\n",
    "for name in errors:\n",
    "    err[name] = errors[name]\n",
    "    fre[name] = freqs[name]"
   ]
  },
  {
   "cell_type": "markdown",
   "metadata": {},
   "source": [
    "### plot simulations durations"
   ]
  },
  {
   "cell_type": "code",
   "execution_count": null,
   "metadata": {},
   "outputs": [],
   "source": [
    "fig = plot_durations(timers)\n",
    "plt.savefig(os.path.join(figures_path, 'Durations.pdf'))"
   ]
  },
  {
   "cell_type": "code",
   "execution_count": null,
   "metadata": {},
   "outputs": [],
   "source": []
  }
 ],
 "metadata": {
  "kernelspec": {
   "display_name": "Python 3",
   "language": "python",
   "name": "python3"
  },
  "language_info": {
   "codemirror_mode": {
    "name": "ipython",
    "version": 3
   },
   "file_extension": ".py",
   "mimetype": "text/x-python",
   "name": "python",
   "nbconvert_exporter": "python",
   "pygments_lexer": "ipython3",
   "version": "3.6.3"
  }
 },
 "nbformat": 4,
 "nbformat_minor": 2
}
