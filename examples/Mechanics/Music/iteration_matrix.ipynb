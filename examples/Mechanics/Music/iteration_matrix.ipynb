{
 "cells": [
  {
   "cell_type": "markdown",
   "metadata": {},
   "source": [
    "## Bilbao scheme - Evaluation of the iteration matrix"
   ]
  },
  {
   "cell_type": "code",
   "execution_count": 15,
   "metadata": {},
   "outputs": [],
   "source": [
    "from sympy import symbols, exp, sqrt, cos, series, latex\n",
    "sigma = symbols('sigma')\n",
    "omega = symbols('omega')\n",
    "mass = symbols('mass')\n",
    "dt = symbols('dt')\n",
    "from sympy import init_printing\n",
    "init_printing(use_latex='mathjax')\n",
    "\n"
   ]
  },
  {
   "cell_type": "markdown",
   "metadata": {},
   "source": [
    "## Ak, ek"
   ]
  },
  {
   "cell_type": "code",
   "execution_count": 2,
   "metadata": {},
   "outputs": [],
   "source": [
    "expo = sqrt(sigma**2 - omega**2) * dt\n",
    "Ak = exp(-sigma*dt) * (exp(expo) + exp(-expo))\n",
    "Ak2 = 2 * exp(-sigma*dt) * cos(dt*sqrt(omega**2 - sigma**2))\n",
    "Ak = Ak2\n",
    "ek = exp(-2*sigma*dt)"
   ]
  },
  {
   "cell_type": "code",
   "execution_count": 3,
   "metadata": {},
   "outputs": [
    {
     "data": {
      "text/latex": [
       "$$\\left ( 2 e^{- dt \\sigma} \\cos{\\left (dt \\sqrt{\\omega^{2} - \\sigma^{2}} \\right )}, \\quad e^{- 2 dt \\sigma}, \\quad 2 e^{- dt \\sigma} \\cos{\\left (dt \\sqrt{\\omega^{2} - \\sigma^{2}} \\right )}\\right )$$"
      ],
      "text/plain": [
       "⎛            ⎛      _________⎞                        ⎛      _________⎞⎞\n",
       "⎜   -dt⋅σ    ⎜     ╱  2    2 ⎟   -2⋅dt⋅σ     -dt⋅σ    ⎜     ╱  2    2 ⎟⎟\n",
       "⎝2⋅ℯ     ⋅cos⎝dt⋅╲╱  ω  - σ  ⎠, ℯ       , 2⋅ℯ     ⋅cos⎝dt⋅╲╱  ω  - σ  ⎠⎠"
      ]
     },
     "execution_count": 3,
     "metadata": {},
     "output_type": "execute_result"
    }
   ],
   "source": [
    "Ak, ek, Ak2"
   ]
  },
  {
   "cell_type": "markdown",
   "metadata": {},
   "source": [
    "## $\\theta_k, \\sigma^*$"
   ]
  },
  {
   "cell_type": "code",
   "execution_count": 4,
   "metadata": {},
   "outputs": [
    {
     "data": {
      "text/latex": [
       "$$- \\frac{2 e^{- dt \\sigma} \\cos{\\left (dt \\sqrt{\\omega^{2} - \\sigma^{2}} \\right )}}{1 - 2 e^{- dt \\sigma} \\cos{\\left (dt \\sqrt{\\omega^{2} - \\sigma^{2}} \\right )} + e^{- 2 dt \\sigma}} + \\frac{2}{dt^{2} \\omega^{2}}$$"
      ],
      "text/plain": [
       "                     ⎛      _________⎞                 \n",
       "            -dt⋅σ    ⎜     ╱  2    2 ⎟                 \n",
       "         2⋅ℯ     ⋅cos⎝dt⋅╲╱  ω  - σ  ⎠             2   \n",
       "- ──────────────────────────────────────────── + ──────\n",
       "                  ⎛      _________⎞                2  2\n",
       "         -dt⋅σ    ⎜     ╱  2    2 ⎟    -2⋅dt⋅σ   dt ⋅ω \n",
       "  1 - 2⋅ℯ     ⋅cos⎝dt⋅╲╱  ω  - σ  ⎠ + ℯ                "
      ]
     },
     "execution_count": 4,
     "metadata": {},
     "output_type": "execute_result"
    }
   ],
   "source": [
    "theta_k = 2 / (omega ** 2 ) / dt**2 - Ak / (1 + ek - Ak)\n",
    "theta_k"
   ]
  },
  {
   "cell_type": "code",
   "execution_count": 5,
   "metadata": {},
   "outputs": [
    {
     "data": {
      "text/latex": [
       "$$\\frac{dt \\omega^{2} \\left(e^{2 dt \\sigma} - 1\\right)}{2 e^{2 dt \\sigma} - 4 e^{dt \\sigma} \\cos{\\left (dt \\sqrt{\\omega^{2} - \\sigma^{2}} \\right )} + 2}$$"
      ],
      "text/plain": [
       "                2 ⎛ 2⋅dt⋅σ    ⎞             \n",
       "            dt⋅ω ⋅⎝ℯ       - 1⎠             \n",
       "────────────────────────────────────────────\n",
       "                       ⎛      _________⎞    \n",
       "   2⋅dt⋅σ      dt⋅σ    ⎜     ╱  2    2 ⎟    \n",
       "2⋅ℯ       - 4⋅ℯ    ⋅cos⎝dt⋅╲╱  ω  - σ  ⎠ + 2"
      ]
     },
     "execution_count": 5,
     "metadata": {},
     "output_type": "execute_result"
    }
   ],
   "source": [
    "sigma_star = (1/dt  + omega**2 * dt /2 - theta_k * omega**2 * dt / 2) * (1 - ek) / (1 + ek)\n",
    "sigma_star.simplify()"
   ]
  },
  {
   "cell_type": "markdown",
   "metadata": {},
   "source": [
    "## $dt\\sigma^*$"
   ]
  },
  {
   "cell_type": "code",
   "execution_count": 6,
   "metadata": {},
   "outputs": [
    {
     "data": {
      "text/latex": [
       "$$\\frac{dt^{2} \\omega^{2} \\left(e^{2 dt \\sigma} - 1\\right)}{2 e^{2 dt \\sigma} - 4 e^{dt \\sigma} \\cos{\\left (dt \\sqrt{\\omega^{2} - \\sigma^{2}} \\right )} + 2}$$"
      ],
      "text/plain": [
       "              2  2 ⎛ 2⋅dt⋅σ    ⎞            \n",
       "            dt ⋅ω ⋅⎝ℯ       - 1⎠            \n",
       "────────────────────────────────────────────\n",
       "                       ⎛      _________⎞    \n",
       "   2⋅dt⋅σ      dt⋅σ    ⎜     ╱  2    2 ⎟    \n",
       "2⋅ℯ       - 4⋅ℯ    ⋅cos⎝dt⋅╲╱  ω  - σ  ⎠ + 2"
      ]
     },
     "execution_count": 6,
     "metadata": {},
     "output_type": "execute_result"
    }
   ],
   "source": [
    "dtsigmastar = (dt * sigma_star) .simplify()\n",
    "dtsigmastar"
   ]
  },
  {
   "cell_type": "markdown",
   "metadata": {},
   "source": [
    "## $\\frac{1}{2}(1 - \\theta_k) \\omega^2 dt^2$"
   ]
  },
  {
   "cell_type": "code",
   "execution_count": 7,
   "metadata": {},
   "outputs": [
    {
     "data": {
      "text/latex": [
       "$$\\frac{- \\frac{dt^{2} \\omega^{2}}{2} e^{2 dt \\sigma} - \\frac{dt^{2} \\omega^{2}}{2} + e^{2 dt \\sigma} - 2 e^{dt \\sigma} \\cos{\\left (dt \\sqrt{\\omega^{2} - \\sigma^{2}} \\right )} + 1}{- e^{2 dt \\sigma} + 2 e^{dt \\sigma} \\cos{\\left (dt \\sqrt{\\omega^{2} - \\sigma^{2}} \\right )} - 1}$$"
      ],
      "text/plain": [
       "    2  2  2⋅dt⋅σ     2  2                        ⎛      _________⎞    \n",
       "  dt ⋅ω ⋅ℯ         dt ⋅ω     2⋅dt⋅σ      dt⋅σ    ⎜     ╱  2    2 ⎟    \n",
       "- ────────────── - ────── + ℯ       - 2⋅ℯ    ⋅cos⎝dt⋅╲╱  ω  - σ  ⎠ + 1\n",
       "        2            2                                                \n",
       "──────────────────────────────────────────────────────────────────────\n",
       "                                    ⎛      _________⎞                 \n",
       "                2⋅dt⋅σ      dt⋅σ    ⎜     ╱  2    2 ⎟                 \n",
       "             - ℯ       + 2⋅ℯ    ⋅cos⎝dt⋅╲╱  ω  - σ  ⎠ - 1             "
      ]
     },
     "execution_count": 7,
     "metadata": {},
     "output_type": "execute_result"
    }
   ],
   "source": [
    "wkk_part1 = (1 - theta_k)/2 * (omega**2) * (dt**2) \n",
    "wkk_part1.simplify()"
   ]
  },
  {
   "cell_type": "markdown",
   "metadata": {},
   "source": [
    "## wkk = $ m + \\frac{1}{2}(1 - \\theta_k) \\omega^2 dt^2 + dt\\sigma^*$"
   ]
  },
  {
   "cell_type": "code",
   "execution_count": 8,
   "metadata": {},
   "outputs": [
    {
     "data": {
      "text/latex": [
       "$$\\frac{dt^{2} \\omega^{2} e^{2 dt \\sigma}}{e^{2 dt \\sigma} - 2 e^{dt \\sigma} \\cos{\\left (dt \\sqrt{\\omega^{2} - \\sigma^{2}} \\right )} + 1}$$"
      ],
      "text/plain": [
       "                2  2  2⋅dt⋅σ              \n",
       "              dt ⋅ω ⋅ℯ                    \n",
       "──────────────────────────────────────────\n",
       "                     ⎛      _________⎞    \n",
       " 2⋅dt⋅σ      dt⋅σ    ⎜     ╱  2    2 ⎟    \n",
       "ℯ       - 2⋅ℯ    ⋅cos⎝dt⋅╲╱  ω  - σ  ⎠ + 1"
      ]
     },
     "execution_count": 8,
     "metadata": {},
     "output_type": "execute_result"
    }
   ],
   "source": [
    "wkk = 1 + dtsigmastar + wkk_part1\n",
    "wkk.simplify()"
   ]
  },
  {
   "cell_type": "markdown",
   "metadata": {},
   "source": [
    "## $\\frac{1}{w_{k}}$"
   ]
  },
  {
   "cell_type": "code",
   "execution_count": 9,
   "metadata": {},
   "outputs": [
    {
     "data": {
      "text/latex": [
       "$$\\frac{e^{- 2 dt \\sigma}}{dt^{2} \\omega^{2}} \\left(e^{2 dt \\sigma} - 2 e^{dt \\sigma} \\cos{\\left (dt \\sqrt{\\omega^{2} - \\sigma^{2}} \\right )} + 1\\right)$$"
      ],
      "text/plain": [
       "⎛                     ⎛      _________⎞    ⎞         \n",
       "⎜ 2⋅dt⋅σ      dt⋅σ    ⎜     ╱  2    2 ⎟    ⎟  -2⋅dt⋅σ\n",
       "⎝ℯ       - 2⋅ℯ    ⋅cos⎝dt⋅╲╱  ω  - σ  ⎠ + 1⎠⋅ℯ       \n",
       "─────────────────────────────────────────────────────\n",
       "                          2  2                       \n",
       "                        dt ⋅ω                        "
      ]
     },
     "execution_count": 9,
     "metadata": {},
     "output_type": "execute_result"
    }
   ],
   "source": [
    "inv_wkk = 1 / wkk\n",
    "inv_wkk.simplify()"
   ]
  },
  {
   "cell_type": "markdown",
   "metadata": {},
   "source": [
    "## Forward developments\n",
    "\n",
    "$dt \\sigma^*$"
   ]
  },
  {
   "cell_type": "code",
   "execution_count": 10,
   "metadata": {},
   "outputs": [],
   "source": [
    "order = 8"
   ]
  },
  {
   "cell_type": "code",
   "execution_count": 13,
   "metadata": {},
   "outputs": [
    {
     "data": {
      "text/latex": [
       "$$dt \\sigma + \\frac{dt^{3} \\sigma}{12} \\omega^{2} + dt^{5} \\left(\\frac{\\omega^{4} \\sigma}{240} - \\frac{\\omega^{2} \\sigma^{3}}{180}\\right) + dt^{7} \\left(\\frac{\\omega^{6} \\sigma}{6048} - \\frac{\\omega^{4} \\sigma^{3}}{1512} + \\frac{\\omega^{2} \\sigma^{5}}{1890}\\right) + \\mathcal{O}\\left(dt^{8}\\right)$$"
      ],
      "text/plain": [
       "         3  2         ⎛ 4      2  3⎞       ⎛ 6      4  3    2  5⎞         \n",
       "       dt ⋅ω ⋅σ     5 ⎜ω ⋅σ   ω ⋅σ ⎟     7 ⎜ω ⋅σ   ω ⋅σ    ω ⋅σ ⎟    ⎛  8⎞\n",
       "dt⋅σ + ──────── + dt ⋅⎜──── - ─────⎟ + dt ⋅⎜──── - ───── + ─────⎟ + O⎝dt ⎠\n",
       "          12          ⎝240     180 ⎠       ⎝6048    1512    1890⎠         "
      ]
     },
     "execution_count": 13,
     "metadata": {},
     "output_type": "execute_result"
    }
   ],
   "source": [
    "fd_dtsig = series(dtsigmastar, dt, 0, order)\n",
    "fd_dtsig"
   ]
  },
  {
   "cell_type": "code",
   "execution_count": 16,
   "metadata": {},
   "outputs": [
    {
     "name": "stdout",
     "output_type": "stream",
     "text": [
      "dt \\sigma + \\frac{dt^{3} \\sigma}{12} \\omega^{2} + dt^{5} \\left(\\frac{\\omega^{4} \\sigma}{240} - \\frac{\\omega^{2} \\sigma^{3}}{180}\\right) + dt^{7} \\left(\\frac{\\omega^{6} \\sigma}{6048} - \\frac{\\omega^{4} \\sigma^{3}}{1512} + \\frac{\\omega^{2} \\sigma^{5}}{1890}\\right) + \\mathcal{O}\\left(dt^{8}\\right)\n"
     ]
    }
   ],
   "source": [
    "print(latex(fd_dtsig))"
   ]
  },
  {
   "cell_type": "markdown",
   "metadata": {},
   "source": [
    " $\\frac{1}{2}(1 - \\theta_k) \\omega^2 dt^2$"
   ]
  },
  {
   "cell_type": "code",
   "execution_count": null,
   "metadata": {},
   "outputs": [],
   "source": [
    "fd_wkk_part1 = series(wkk_part1, dt, 0, order)\n",
    "fd_wkk_part1"
   ]
  },
  {
   "cell_type": "markdown",
   "metadata": {},
   "source": [
    "$ wkk $ and $\\frac{1}{wkk}$"
   ]
  },
  {
   "cell_type": "code",
   "execution_count": 17,
   "metadata": {},
   "outputs": [
    {
     "data": {
      "text/latex": [
       "$$1 - dt \\sigma + dt^{2} \\left(- \\frac{\\omega^{2}}{12} + \\frac{2 \\sigma^{2}}{3}\\right) + dt^{3} \\left(\\frac{\\omega^{2} \\sigma}{12} - \\frac{\\sigma^{3}}{3}\\right) + dt^{4} \\left(\\frac{\\omega^{4}}{360} - \\frac{\\omega^{2} \\sigma^{2}}{20} + \\frac{2 \\sigma^{4}}{15}\\right) + dt^{5} \\left(- \\frac{\\omega^{4} \\sigma}{360} + \\frac{\\omega^{2} \\sigma^{3}}{45} - \\frac{2 \\sigma^{5}}{45}\\right) + dt^{6} \\left(- \\frac{\\omega^{6}}{20160} + \\frac{\\omega^{4} \\sigma^{2}}{630} - \\frac{\\omega^{2} \\sigma^{4}}{126} + \\frac{4 \\sigma^{6}}{315}\\right) + dt^{7} \\left(\\frac{\\omega^{6} \\sigma}{20160} - \\frac{\\omega^{4} \\sigma^{3}}{1512} + \\frac{\\omega^{2} \\sigma^{5}}{420} - \\frac{\\sigma^{7}}{315}\\right) + \\mathcal{O}\\left(dt^{8}\\right)$$"
      ],
      "text/plain": [
       "               ⎛   2      2⎞       ⎛ 2      3⎞       ⎛  4    2  2      4⎞     \n",
       "             2 ⎜  ω    2⋅σ ⎟     3 ⎜ω ⋅σ   σ ⎟     4 ⎜ ω    ω ⋅σ    2⋅σ ⎟     \n",
       "1 - dt⋅σ + dt ⋅⎜- ── + ────⎟ + dt ⋅⎜──── - ──⎟ + dt ⋅⎜─── - ───── + ────⎟ + dt\n",
       "               ⎝  12    3  ⎠       ⎝ 12    3 ⎠       ⎝360     20     15 ⎠     \n",
       "\n",
       "  ⎛   4      2  3      5⎞       ⎛     6     4  2    2  4      6⎞       ⎛  6   \n",
       "5 ⎜  ω ⋅σ   ω ⋅σ    2⋅σ ⎟     6 ⎜    ω     ω ⋅σ    ω ⋅σ    4⋅σ ⎟     7 ⎜ ω ⋅σ \n",
       " ⋅⎜- ──── + ───── - ────⎟ + dt ⋅⎜- ───── + ───── - ───── + ────⎟ + dt ⋅⎜───── \n",
       "  ⎝  360      45     45 ⎠       ⎝  20160    630     126    315 ⎠       ⎝20160 \n",
       "\n",
       "   4  3    2  5     7⎞         \n",
       "  ω ⋅σ    ω ⋅σ     σ ⎟    ⎛  8⎞\n",
       "- ───── + ───── - ───⎟ + O⎝dt ⎠\n",
       "   1512    420    315⎠         "
      ]
     },
     "execution_count": 17,
     "metadata": {},
     "output_type": "execute_result"
    }
   ],
   "source": [
    "fd_invwkk = series(inv_wkk, dt, 0, order)\n",
    "fd_invwkk"
   ]
  },
  {
   "cell_type": "code",
   "execution_count": 18,
   "metadata": {},
   "outputs": [
    {
     "name": "stdout",
     "output_type": "stream",
     "text": [
      "1 - dt \\sigma + dt^{2} \\left(- \\frac{\\omega^{2}}{12} + \\frac{2 \\sigma^{2}}{3}\\right) + dt^{3} \\left(\\frac{\\omega^{2} \\sigma}{12} - \\frac{\\sigma^{3}}{3}\\right) + dt^{4} \\left(\\frac{\\omega^{4}}{360} - \\frac{\\omega^{2} \\sigma^{2}}{20} + \\frac{2 \\sigma^{4}}{15}\\right) + dt^{5} \\left(- \\frac{\\omega^{4} \\sigma}{360} + \\frac{\\omega^{2} \\sigma^{3}}{45} - \\frac{2 \\sigma^{5}}{45}\\right) + dt^{6} \\left(- \\frac{\\omega^{6}}{20160} + \\frac{\\omega^{4} \\sigma^{2}}{630} - \\frac{\\omega^{2} \\sigma^{4}}{126} + \\frac{4 \\sigma^{6}}{315}\\right) + dt^{7} \\left(\\frac{\\omega^{6} \\sigma}{20160} - \\frac{\\omega^{4} \\sigma^{3}}{1512} + \\frac{\\omega^{2} \\sigma^{5}}{420} - \\frac{\\sigma^{7}}{315}\\right) + \\mathcal{O}\\left(dt^{8}\\right)\n"
     ]
    }
   ],
   "source": [
    "print(latex(fd_invwkk))"
   ]
  }
 ],
 "metadata": {
  "kernelspec": {
   "display_name": "Python 3",
   "language": "python",
   "name": "python3"
  },
  "language_info": {
   "codemirror_mode": {
    "name": "ipython",
    "version": 3
   },
   "file_extension": ".py",
   "mimetype": "text/x-python",
   "name": "python",
   "nbconvert_exporter": "python",
   "pygments_lexer": "ipython3",
   "version": "3.6.4"
  }
 },
 "nbformat": 4,
 "nbformat_minor": 2
}
