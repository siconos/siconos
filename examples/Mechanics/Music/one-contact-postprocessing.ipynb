{
 "cells": [
  {
   "cell_type": "markdown",
   "metadata": {},
   "source": [
    "# Load hdf file and post-process\n",
    "\n",
    "For a given model (as guitar_model above), set internal data using hdf5 input. Useful for post-processing only. \n",
    "\n",
    "Prerequisite : a complete simulation saved in hdf file (e.g. results of run.py)\n",
    "\n",
    "### Usage: \n",
    "\n",
    "* call load_model function : create a model (dynamical system, interactions and so on) and load results from a previous simu from hdf file\n",
    "* call post-processing tools"
   ]
  },
  {
   "cell_type": "code",
   "execution_count": 1,
   "metadata": {},
   "outputs": [],
   "source": [
    "# Reload automatically all python modules before each cell exec\n",
    "%load_ext autoreload\n",
    "%autoreload 2"
   ]
  },
  {
   "cell_type": "code",
   "execution_count": 2,
   "metadata": {},
   "outputs": [
    {
     "name": "stdout",
     "output_type": "stream",
     "text": [
      "Campaign name : one_contact_2018_0.5\n",
      "Available freqs:\n",
      "['100000', '10000', '1000000', '100000000', '5000', '10000000']\n",
      "\n",
      "\n",
      "Campaign name : results_paths\n",
      "Campaign name : one_contact_2018_0.0\n",
      "Available freqs:\n",
      "['100000', '10000000', '5000', '10000', '100000000', '1000000']\n",
      "\n",
      "\n",
      "Campaign name : one_contact_2018_1.0\n",
      "Available freqs:\n",
      "['10000000', '100000', '5000', '1000000', '10000', '100000000']\n",
      "\n",
      "\n",
      "Campaign name : bass_2018_0.0\n",
      "Available freqs:\n",
      "['62720', '4014080', '2007040', '125440', '1003520', '31360', '15680', '250880', '501760', '64225280', '16056320', '8028160', '256901120', '32112640', '128450560']\n",
      "\n",
      "\n",
      "Campaign name : bass_2018_0.9\n",
      "Available freqs:\n",
      "['62720', '15680', '16056320', '8028160', '1003520', '125440', '2007040', '501760', '256901120', '128450560', '250880', '31360', '64225280', '32112640', '4014080']\n",
      "\n",
      "\n",
      "Campaign name : bass_2018_1.0\n",
      "Available freqs:\n",
      "['8028160', '250880', '1003520', '15680', '125440', '64225280', '501760', '128450560', '2007040', '4014080', '32112640', '31360', '62720', '256901120', '16056320']\n",
      "\n",
      "\n",
      "Campaign name : fretless_2018_0.0\n",
      "Available freqs:\n",
      "['15680', '62720', '31360', '250880', '1003520', '125440', '16056320', '501760', '2007040', '4014080', '8028160', '64225280', '32112640']\n",
      "\n",
      "\n",
      "Campaign name : fretless_2018_0.9\n",
      "Available freqs:\n",
      "['1003520', '125440', '250880', '16056320', '32112640', '62720', '15680', '8028160', '31360', '2007040', '501760', '4014080', '64225280']\n",
      "\n",
      "\n",
      "Campaign name : fretless_2018_1.0\n",
      "Available freqs:\n",
      "['501760', '125440', '16056320', '15680', '62720', '31360', '250880', '4014080', '2007040', '8028160', '32112640', '1003520']\n",
      "\n",
      "\n",
      "Campaign name : one_contact_2018_2_1.0\n",
      "Available freqs:\n",
      "['5000', '10000', '1000000', '100000', '100000000', '10000000']\n",
      "\n",
      "\n",
      "Campaign name : bass_full_2018_0.0\n",
      "Available freqs:\n",
      "['4014080']\n",
      "\n",
      "\n",
      "Campaign name : bass_full_2018_0.9\n",
      "Available freqs:\n",
      "['4014080']\n",
      "\n",
      "\n",
      "Campaign name : fretless_full_2018_0.0\n",
      "Available freqs:\n",
      "['4014080']\n",
      "\n",
      "\n",
      "Campaign name : fretless_full_2018_0.9\n",
      "Available freqs:\n",
      "['4014080']\n",
      "\n",
      "\n",
      "Campaign name : bass_full_2018_1.0\n",
      "Available freqs:\n",
      "['4014080']\n",
      "\n",
      "\n",
      "Campaign name : fretless_full_2018_1.0\n",
      "Available freqs:\n",
      "['4014080']\n",
      "\n",
      "\n",
      "Campaign name : one_contact_2018_2_0.9\n",
      "Available freqs:\n",
      "['100000', '10000', '5000', '1000000', '100000000', '10000000']\n",
      "\n",
      "\n",
      "Campaign name : bass_full_012018_1.0\n",
      "Available freqs:\n",
      "['4096000']\n",
      "\n",
      "\n",
      "Campaign name : bass_012018_0.0\n",
      "Available freqs:\n",
      "['2048000']\n",
      "\n",
      "\n",
      "Campaign name : bass_012018_1.0\n",
      "Available freqs:\n",
      "['4096000']\n",
      "\n",
      "\n",
      "Campaign name : fretless_012018_0.0\n",
      "Available freqs:\n",
      "['2048000']\n",
      "\n",
      "\n",
      "Campaign name : bass_full_012018_0.0\n",
      "Available freqs:\n",
      "['2048000']\n",
      "\n",
      "\n",
      "Campaign name : fretless_full_012018_t1_1.0\n",
      "Available freqs:\n",
      "['16384000']\n",
      "\n",
      "\n",
      "Campaign name : fretless_012018_t1_1.0\n",
      "Available freqs:\n",
      "['16384000']\n",
      "\n",
      "\n",
      "Campaign name : fretless_012018_t2_1.0\n",
      "Available freqs:\n",
      "['16384000']\n",
      "\n",
      "\n",
      "Campaign name : fretless_full_012018_t2_1.0\n",
      "Available freqs:\n",
      "['16384000']\n",
      "\n",
      "\n",
      "Campaign name : bass_one_c_0.0\n",
      "Available freqs:\n",
      "['62720', '15680', '31360', '4014080', '2007040', '1003520', '250880', '125440', '501760']\n",
      "\n",
      "\n",
      "Campaign name : bass_one_c_1.0\n",
      "Available freqs:\n",
      "['62720', '15680', '31360', '4014080', '2007040', '1003520', '250880', '125440', '501760']\n",
      "\n",
      "\n",
      "Campaign name : bass_one_c_0.9\n",
      "Available freqs:\n",
      "['31360', '1003520', '501760', '4014080', '250880', '15680', '125440', '62720', '2007040']\n",
      "\n",
      "\n",
      "Campaign name : fretless_full_012018_t3_1.0\n",
      "Available freqs:\n",
      "[]\n",
      "\n",
      "\n",
      "Campaign name : fretless_full_012018_1.0\n",
      "Available freqs:\n",
      "[]\n",
      "\n",
      "\n",
      "Campaign name : fretless_012018_t3_1.0\n",
      "Available freqs:\n",
      "[]\n",
      "\n",
      "\n",
      "Campaign name : fretless_012018_1.0\n",
      "Available freqs:\n",
      "[]\n",
      "\n",
      "\n",
      "Campaign name : fretless_full_012018_0.0\n",
      "Available freqs:\n",
      "[]\n",
      "\n",
      "\n"
     ]
    }
   ],
   "source": [
    "# standard python packages\n",
    "import sys\n",
    "import time\n",
    "import os\n",
    "import pickle\n",
    "import numpy as np\n",
    "from model_tools import load_model\n",
    "# visu\n",
    "import matplotlib.pyplot as plt\n",
    "%matplotlib inline\n",
    "import scipy.io\n",
    "import h5py\n",
    "import simulation_campaigns\n",
    "import collections\n",
    "import pickle\n",
    "import subprocess\n",
    "#pklfilename = 'campaign_1812.pkl'\n",
    "pklfilename = 'campaign_2018.pkl'\n",
    "#pkl_file = open('campaign_new_0612.pkl', 'rb')\n",
    "pkl_file = open(pklfilename, 'rb')\n",
    "\n",
    "remote_data = pickle.load(pkl_file)\n",
    "for name in remote_data:\n",
    "    print(\"Campaign name : \" + name)\n",
    "    if name.find('results') < 0:\n",
    "        print(\"Available freqs:\")\n",
    "        print(list(remote_data[name].keys()))\n",
    "        print(\"\\n\")"
   ]
  },
  {
   "cell_type": "markdown",
   "metadata": {},
   "source": [
    "## Select input file(s) and load model(s)"
   ]
  },
  {
   "cell_type": "code",
   "execution_count": 3,
   "metadata": {},
   "outputs": [],
   "source": [
    "import scipy.io as sio"
   ]
  },
  {
   "cell_type": "code",
   "execution_count": 4,
   "metadata": {},
   "outputs": [
    {
     "ename": "TypeError",
     "evalue": "'NoneType' object is not iterable",
     "output_type": "error",
     "traceback": [
      "\u001b[0;31m---------------------------------------------------------------------------\u001b[0m",
      "\u001b[0;31mTypeError\u001b[0m                                 Traceback (most recent call last)",
      "\u001b[0;32m<ipython-input-4-421c5147d381>\u001b[0m in \u001b[0;36m<module>\u001b[0;34m()\u001b[0m\n\u001b[0;32m----> 1\u001b[0;31m \u001b[0mres\u001b[0m \u001b[0;34m=\u001b[0m \u001b[0msio\u001b[0m\u001b[0;34m.\u001b[0m\u001b[0mloadmat\u001b[0m\u001b[0;34m(\u001b[0m\u001b[0;34m'one_contact/guitare_obst0_frequences.mat'\u001b[0m\u001b[0;34m)\u001b[0m\u001b[0;34m\u001b[0m\u001b[0m\n\u001b[0m\u001b[1;32m      2\u001b[0m \u001b[0msig\u001b[0m \u001b[0;34m=\u001b[0m \u001b[0msio\u001b[0m\u001b[0;34m.\u001b[0m\u001b[0mloadmat\u001b[0m\u001b[0;34m(\u001b[0m\u001b[0;34m'one_contact/guitare_obst0_amortissements.mat'\u001b[0m\u001b[0;34m)\u001b[0m\u001b[0;34m\u001b[0m\u001b[0m\n\u001b[1;32m      3\u001b[0m \u001b[0mhf\u001b[0m \u001b[0;34m=\u001b[0m \u001b[0msio\u001b[0m\u001b[0;34m.\u001b[0m\u001b[0mloadmat\u001b[0m\u001b[0;34m(\u001b[0m\u001b[0;34m'one_contact/guitare_obst0_h.mat'\u001b[0m\u001b[0;34m)\u001b[0m\u001b[0;34m\u001b[0m\u001b[0m\n",
      "\u001b[0;32m/usr/local/lib/python3.6/site-packages/scipy/io/matlab/mio.py\u001b[0m in \u001b[0;36mloadmat\u001b[0;34m(file_name, mdict, appendmat, **kwargs)\u001b[0m\n\u001b[1;32m    139\u001b[0m     \"\"\"\n\u001b[1;32m    140\u001b[0m     \u001b[0mvariable_names\u001b[0m \u001b[0;34m=\u001b[0m \u001b[0mkwargs\u001b[0m\u001b[0;34m.\u001b[0m\u001b[0mpop\u001b[0m\u001b[0;34m(\u001b[0m\u001b[0;34m'variable_names'\u001b[0m\u001b[0;34m,\u001b[0m \u001b[0;32mNone\u001b[0m\u001b[0;34m)\u001b[0m\u001b[0;34m\u001b[0m\u001b[0m\n\u001b[0;32m--> 141\u001b[0;31m     \u001b[0mMR\u001b[0m\u001b[0;34m,\u001b[0m \u001b[0mfile_opened\u001b[0m \u001b[0;34m=\u001b[0m \u001b[0mmat_reader_factory\u001b[0m\u001b[0;34m(\u001b[0m\u001b[0mfile_name\u001b[0m\u001b[0;34m,\u001b[0m \u001b[0mappendmat\u001b[0m\u001b[0;34m,\u001b[0m \u001b[0;34m**\u001b[0m\u001b[0mkwargs\u001b[0m\u001b[0;34m)\u001b[0m\u001b[0;34m\u001b[0m\u001b[0m\n\u001b[0m\u001b[1;32m    142\u001b[0m     \u001b[0mmatfile_dict\u001b[0m \u001b[0;34m=\u001b[0m \u001b[0mMR\u001b[0m\u001b[0;34m.\u001b[0m\u001b[0mget_variables\u001b[0m\u001b[0;34m(\u001b[0m\u001b[0mvariable_names\u001b[0m\u001b[0;34m)\u001b[0m\u001b[0;34m\u001b[0m\u001b[0m\n\u001b[1;32m    143\u001b[0m     \u001b[0;32mif\u001b[0m \u001b[0mmdict\u001b[0m \u001b[0;32mis\u001b[0m \u001b[0;32mnot\u001b[0m \u001b[0;32mNone\u001b[0m\u001b[0;34m:\u001b[0m\u001b[0;34m\u001b[0m\u001b[0m\n",
      "\u001b[0;32m/usr/local/lib/python3.6/site-packages/scipy/io/matlab/mio.py\u001b[0m in \u001b[0;36mmat_reader_factory\u001b[0;34m(file_name, appendmat, **kwargs)\u001b[0m\n\u001b[1;32m     62\u001b[0m \u001b[0;34m\u001b[0m\u001b[0m\n\u001b[1;32m     63\u001b[0m     \"\"\"\n\u001b[0;32m---> 64\u001b[0;31m     \u001b[0mbyte_stream\u001b[0m\u001b[0;34m,\u001b[0m \u001b[0mfile_opened\u001b[0m \u001b[0;34m=\u001b[0m \u001b[0m_open_file\u001b[0m\u001b[0;34m(\u001b[0m\u001b[0mfile_name\u001b[0m\u001b[0;34m,\u001b[0m \u001b[0mappendmat\u001b[0m\u001b[0;34m)\u001b[0m\u001b[0;34m\u001b[0m\u001b[0m\n\u001b[0m\u001b[1;32m     65\u001b[0m     \u001b[0mmjv\u001b[0m\u001b[0;34m,\u001b[0m \u001b[0mmnv\u001b[0m \u001b[0;34m=\u001b[0m \u001b[0mget_matfile_version\u001b[0m\u001b[0;34m(\u001b[0m\u001b[0mbyte_stream\u001b[0m\u001b[0;34m)\u001b[0m\u001b[0;34m\u001b[0m\u001b[0m\n\u001b[1;32m     66\u001b[0m     \u001b[0;32mif\u001b[0m \u001b[0mmjv\u001b[0m \u001b[0;34m==\u001b[0m \u001b[0;36m0\u001b[0m\u001b[0;34m:\u001b[0m\u001b[0;34m\u001b[0m\u001b[0m\n",
      "\u001b[0;31mTypeError\u001b[0m: 'NoneType' object is not iterable"
     ]
    }
   ],
   "source": [
    "res = sio.loadmat('one_contact/guitare_obst0_frequences.mat')\n",
    "sig = sio.loadmat('one_contact/guitare_obst0_amortissements.mat')\n",
    "hf = sio.loadmat('one_contact/guitare_obst0_h.mat')"
   ]
  },
  {
   "cell_type": "code",
   "execution_count": 5,
   "metadata": {},
   "outputs": [],
   "source": [
    "def load(filename):\n",
    "    if filename.find('bass') >= 0:\n",
    "        matlab_input = './bass_guitar/pb2'\n",
    "    elif filename.find('fretless') >= 0:\n",
    "        matlab_input = './fretless_bass_guitar/bsf'\n",
    "    elif filename.find('guitar_single') >=0 :\n",
    "        matlab_input = './one_contact/guitare_obst0'\n",
    "    elif filename.find('single') >=0 :\n",
    "        matlab_input = './one_contact/pb1'\n",
    "\n",
    "    m, s, f, e = load_model(filename)\n",
    "    frets_file = matlab_input + '_h.mat'\n",
    "    all_frets_positions = scipy.io.loadmat(frets_file)['h'][:, 0]\n",
    "    print(m.modal_values)\n",
    "    #if filename.find('converted') >= 0:\n",
    "    #    m._convert[...]=False\n",
    "    #    h5source = h5py.File(filename, 'r')\n",
    "    #    restit = h5source.attrs['restit']\n",
    "    #    h5source.close()\n",
    "    #else:\n",
    "    #    m.convert_modal_output(s)\n",
    "    #    restit = None\n",
    "    return m, s, f, all_frets_positions, e#, restit"
   ]
  },
  {
   "cell_type": "code",
   "execution_count": 6,
   "metadata": {},
   "outputs": [
    {
     "name": "stdout",
     "output_type": "stream",
     "text": [
      "['bass_one_c_0.0', 'bass_one_c_1.0', 'bass_one_c_0.9']\n"
     ]
    }
   ],
   "source": [
    "camp = 'bass_one'\n",
    "names = [name for name in remote_data.keys() if name.find(camp) >=0]\n",
    "print(names)"
   ]
  },
  {
   "cell_type": "code",
   "execution_count": 7,
   "metadata": {},
   "outputs": [
    {
     "name": "stdout",
     "output_type": "stream",
     "text": [
      "bass_one_c_0.0\n",
      "select one of the available freqs:\n",
      "15680.0\n",
      "31360.0\n",
      "62720.0\n",
      "125440.0\n",
      "250880.0\n",
      "501760.0\n",
      "1003520.0\n",
      "2007040.0\n",
      "4014080.0\n"
     ]
    }
   ],
   "source": [
    "index = 0\n",
    "campaign = remote_data[names[index]]\n",
    "results_path = remote_data[\"results_paths\"][1]\n",
    "fileslist = {}\n",
    "for freq in campaign:\n",
    "    fileslist[np.float(freq)] = os.path.join(results_path, campaign[freq][5])\n",
    "fileslist = collections.OrderedDict(sorted(fileslist.items()))\n",
    "print(names[index])\n",
    "print('select one of the available freqs:')\n",
    "for freq in fileslist:\n",
    "    print(freq)"
   ]
  },
  {
   "cell_type": "code",
   "execution_count": 8,
   "metadata": {},
   "outputs": [
    {
     "name": "stdout",
     "output_type": "stream",
     "text": [
      "./results_bass_2018/F_4014080_id_4915266/converted_guitar_single_e0.0_1001_4014080.h5\n"
     ]
    }
   ],
   "source": [
    "selected_freq = 4014080.0\n",
    "print(fileslist[selected_freq])"
   ]
  },
  {
   "cell_type": "code",
   "execution_count": null,
   "metadata": {},
   "outputs": [],
   "source": [
    "index = 3\n",
    "campaign = remote_data[names[index]]\n",
    "results_path = remote_data[\"results_paths\"][1]\n",
    "fileslist = {}\n",
    "for freq in campaign:\n",
    "    fileslist[np.float(freq)] = os.path.join(results_path, campaign[freq][5])\n",
    "fileslist = collections.OrderedDict(sorted(fileslist.items()))\n",
    "print(names[index])\n",
    "print('select one of the available freqs:')\n",
    "for freq in fileslist:\n",
    "    print(freq)"
   ]
  },
  {
   "cell_type": "code",
   "execution_count": null,
   "metadata": {},
   "outputs": [],
   "source": [
    "selected_freq = 100000000.0\n",
    "print(fileslist[selected_freq])"
   ]
  },
  {
   "cell_type": "code",
   "execution_count": null,
   "metadata": {},
   "outputs": [],
   "source": [
    "m2, s2, f2, fp2, e2 = load('./guitar_single_e0.0_1001_100000.h5')\n",
    "m2.convert_modal_output(s2)"
   ]
  },
  {
   "cell_type": "code",
   "execution_count": null,
   "metadata": {},
   "outputs": [],
   "source": [
    " 1960 * (2**11)\n"
   ]
  },
  {
   "cell_type": "code",
   "execution_count": null,
   "metadata": {},
   "outputs": [],
   "source": [
    "plt.plot(s2.x, m2.data_ds[s2][:,100])"
   ]
  },
  {
   "cell_type": "code",
   "execution_count": null,
   "metadata": {},
   "outputs": [],
   "source": [
    "m2.plot_traj(s2, dof=990, iplot=0)"
   ]
  },
  {
   "cell_type": "code",
   "execution_count": null,
   "metadata": {},
   "outputs": [],
   "source": [
    "m2.plot_modes(s2)"
   ]
  },
  {
   "cell_type": "code",
   "execution_count": null,
   "metadata": {},
   "outputs": [],
   "source": []
  },
  {
   "cell_type": "code",
   "execution_count": 9,
   "metadata": {},
   "outputs": [
    {
     "name": "stdout",
     "output_type": "stream",
     "text": [
      "Load model from file ./results_bass_2018/F_4014080_id_4915266/converted_guitar_single_e0.0_1001_4014080.h5\n",
      "False\n",
      "Load model from file ./results_bass_2018/F_31360_id_4915259/converted_guitar_single_e0.0_1001_31360.h5\n",
      "False\n",
      "Load model from file ./results_bass_2018/F_62720_id_4915260/converted_guitar_single_e0.0_1001_62720.h5\n",
      "False\n",
      "Load model from file ./results_bass_2018/F_125440_id_4915261/converted_guitar_single_e0.0_1001_125440.h5\n",
      "False\n",
      "Load model from file ./results_bass_2018/F_250880_id_4915262/converted_guitar_single_e0.0_1001_250880.h5\n",
      "False\n",
      "Load model from file ./results_bass_2018/F_501760_id_4915263/converted_guitar_single_e0.0_1001_501760.h5\n",
      "False\n",
      "Load model from file ./results_bass_2018/F_1003520_id_4915264/converted_guitar_single_e0.0_1001_1003520.h5\n",
      "False\n",
      "Load model from file ./results_bass_2018/F_2007040_id_4915265/converted_guitar_single_e0.0_1001_2007040.h5\n",
      "False\n"
     ]
    },
    {
     "data": {
      "image/png": "[encoded data removed]",
      "text/plain": [
       "<matplotlib.figure.Figure at 0x111598160>"
      ]
     },
     "metadata": {},
     "output_type": "display_data"
    }
   ],
   "source": [
    "reference_file = fileslist[selected_freq]\n",
    "extra_freqs = [31360.0 ,62720.0, 125440.0, 250880.0,501760.0,  1003520.0, 2007040.0]\n",
    "#5000.0, 100000.0, 10000000.0]\n",
    "#extra_freqs = [fr for fr in fileslist if fr != selected_freq]#[10000.0, 10000000.0]\n",
    "\n",
    "extra_files = {}\n",
    "models, strings, frets = {}, {}, {}\n",
    "\n",
    "guitar_model, guitar_string, guitar_frets, frets_pos, restit = load(reference_file)\n",
    "for freq in extra_freqs:\n",
    "    models[freq], strings[freq], frets[freq], fpos, restit =  load(fileslist[freq])\n",
    "\n",
    "fig_path = 'figs_bass_onec'\n",
    "if not os.path.exists(fig_path):\n",
    "    os.mkdir(fig_path)\n",
    "\n",
    "\n",
    "    "
   ]
  },
  {
   "cell_type": "code",
   "execution_count": null,
   "metadata": {},
   "outputs": [],
   "source": [
    "data0 = guitar_model.data_ds[guitar_string]\n",
    "data1 = m2.data_ds[s2]"
   ]
  },
  {
   "cell_type": "code",
   "execution_count": null,
   "metadata": {},
   "outputs": [],
   "source": [
    "np.allclose(data0, data1)"
   ]
  },
  {
   "cell_type": "markdown",
   "metadata": {},
   "source": [
    "## Plot trajectories\n",
    "Use plotTraj(dynamical_system, list of dof to be plotted)\n",
    "\n",
    "If list of dof is not set, all dof will be plotted.\n",
    "\n",
    "Result = dof as a function of time +  zoom specific ranges (as in the paper)\n",
    "\n",
    "To save the resulting figure(s), add argument filename when calling plotTraj\n",
    "\n",
    "Arg 'iplot' is used to change figure number. Set same iplot if you want to plot all curves on the same figure.\n",
    "Default iplot=0."
   ]
  },
  {
   "cell_type": "code",
   "execution_count": null,
   "metadata": {},
   "outputs": [],
   "source": [
    "inter = guitar_frets[0]\n",
    "inter.contact_index\n",
    "guitar_model.time_step"
   ]
  },
  {
   "cell_type": "code",
   "execution_count": null,
   "metadata": {},
   "outputs": [],
   "source": [
    "\n",
    "fig_path = './fig_campaign_2018/one_contact/'\n",
    "print(fig_path)"
   ]
  },
  {
   "cell_type": "code",
   "execution_count": null,
   "metadata": {},
   "outputs": [],
   "source": [
    "# Select dof to plot traj\n",
    "dof = 990\n",
    "#ground = frets_pos[dof]#- guitar_string.diameter*0.5\n",
    "#print(ground)\n",
    "freq = guitar_model.fs\n",
    "filename = os.path.join(fig_path, 'traj_' + str(freq) + '_x=' + str(dof) + '.pdf')\n",
    "guitar_model.plot_traj(guitar_string, dof=dof, iplot=0, filename=filename)\n",
    "#m2.plot_traj(s2, dof=dof, iplot=0)#, filename=filename)\n",
    "\n",
    "#current_model.plot_traj(current_string, dof=dof, iplot=0)#, filename=filename)\n",
    "#m3.plot_traj(s3, dof=dof, iplot=0)#, filename=filename)\n",
    "\n",
    "\n",
    "#dof = 9\n",
    "#ground = frets_pos[dof]#- guitar_string.diameter*0.5\n",
    "#filename = os.path.join(fig_path, 'traj_' + str(freq) + '_x=' + str(dof) + '.pdf')\n",
    "#guitar_model.plot_traj(guitar_string, dof=dof, iplot=1, filename=filename)#, ground=ground)\n",
    "#guitar_model2.plot_traj(guitar_string2, dof=dof, iplot=0, )#, ground=ground"
   ]
  },
  {
   "cell_type": "code",
   "execution_count": null,
   "metadata": {},
   "outputs": [],
   "source": [
    "ticks = ['x--', '^:', 'o--', 's', '*--', '--', ':'] * 10\n",
    "ticks = ['--', ':', '--', '--', '--', '--', ':'] * 10\n",
    "leg =[]\n",
    "\n",
    "\n",
    "traj_ref = guitar_model.data_ds[guitar_string][990,:]\n",
    "plt.plot(guitar_model.time, traj_ref,  ':k')\n",
    "leg.append('ref')\n",
    "i = 1\n",
    "for freq in models:\n",
    "    traj = models[freq].data_ds[strings[freq]][990,:]\n",
    "    time = models[freq].time\n",
    "    #plt.plot(time, (traj-traj_ref), ticks[i])\n",
    "    leg.append(freq)\n",
    "    plt.plot(time, traj, ticks[i])\n",
    "    i += 1\n",
    "plt.legend(leg)\n",
    "plt.xlim(1.45,1.55)\n",
    "plt.ylim(0.017,0.019)\n",
    "filename = os.path.join(fig_path, 'traj_convergence_zoom.pdf')\n",
    "plt.savefig(filename)\n",
    "#plt.xlim(2.97, 3.05)\n",
    "#plt.ylim(0.014, 0.02)"
   ]
  },
  {
   "cell_type": "code",
   "execution_count": null,
   "metadata": {},
   "outputs": [],
   "source": [
    "inter = guitar_model.data_interactions"
   ]
  },
  {
   "cell_type": "code",
   "execution_count": null,
   "metadata": {},
   "outputs": [],
   "source": [
    "ic = 0\n",
    "time = guitar_model.time\n",
    "y = inter[guitar_frets[ic]][0][:]\n",
    "#ydot = inter[frets[ic]][:,1]\n",
    "plt.figure()\n",
    "for ic in range(len(guitar_frets)):\n",
    "    lamb = inter[guitar_frets[ic]][1][:]\n",
    "    #print(np.where(lamb >=1e-22))\n",
    "    plt.plot(time, lamb, 'o')\n",
    "\n",
    "\n",
    "    \n",
    "#plt.plot(time, ydot,'--x')\n",
    "plt.xlim(0,0.05)\n",
    "#plt.ylim(-10,10)\n",
    "ind = np.where(y<0)\n",
    "ind2 = np.where(y>=0)\n",
    "\n",
    "plt.figure(44)\n",
    "#plt.clf()\n",
    "plt.plot(time[ind2], y[ind2], 'k:o', time[ind], y[ind], 'rx:', )\n",
    "plt.xlim(0.003, 0.009)\n",
    "#plt.figure()\n",
    "\n",
    "#plt.plot(time, lamb, 'k:o')\n",
    "                               "
   ]
  },
  {
   "cell_type": "code",
   "execution_count": null,
   "metadata": {},
   "outputs": [],
   "source": []
  },
  {
   "cell_type": "markdown",
   "metadata": {},
   "source": [
    "# Plot modes\n",
    "\n",
    "Use guitar_model.plot_modes(guitar_string,plot_shape)\n",
    "\n",
    "plot_shape = (x,y) where x,y is the resolution of the grid of plots.\n",
    "\n",
    "Example: \n",
    "plot_modes(guitar_string, (4,2)) : splits time range in 8 and plots dof=f(x) for those 8 time instants on 8 figures\n",
    "\n",
    "\n",
    "Set filename arg to save resulting figure in a file."
   ]
  },
  {
   "cell_type": "code",
   "execution_count": null,
   "metadata": {},
   "outputs": [],
   "source": [
    "# Plot 10 figures on two columns, for 10 time instants\n",
    "guitar_model.plot_modes(guitar_string,plot_shape=[5,2], iplot=0)\n",
    "plt.savefig(os.path.join(fig_path, 'modes.pdf'))\n",
    "# Same thing but save output in modes.pdf\n",
    "#guitar_model.plot_modes(guitar_string,plot_shape=[5,3], filename='modes.pdf', iplot=1)\n",
    "# plot modes for time[12] and time[5000] on one column\n",
    "#guitar_model.plot_modes(guitar_string, times =[12, 1200], plot_shape=(2,1), filename='modes2.pdf', iplot=2)"
   ]
  },
  {
   "cell_type": "markdown",
   "metadata": {},
   "source": [
    "## Plot contactogram\n",
    "\n",
    "    !! Works only if enable_interactions_output=True in model (guitar_model) constructor"
   ]
  },
  {
   "cell_type": "code",
   "execution_count": null,
   "metadata": {},
   "outputs": [],
   "source": [
    "guitar_model.contactogram(guitar_string, 33)\n",
    "plt.savefig(os.path.join(fig_path, 'contacto.pdf'))\n",
    "guitar_model.nb_time_steps_output"
   ]
  },
  {
   "cell_type": "markdown",
   "metadata": {},
   "source": [
    "## Create a movie mode=f(time)"
   ]
  },
  {
   "cell_type": "code",
   "execution_count": null,
   "metadata": {},
   "outputs": [],
   "source": [
    "moviename = os.path.basename(reference_file)\n",
    "moviename = os.path.join(fig_path, os.path.splitext(moviename)[0] + '.mp4')\n",
    "print(moviename)\n",
    "#moviename = 'tmp.mp4'\n",
    "guitar_model.make_movie(guitar_string, moviename)"
   ]
  },
  {
   "cell_type": "code",
   "execution_count": null,
   "metadata": {},
   "outputs": [],
   "source": [
    "if os.path.exists(('./last.mp4')):\n",
    "    os.remove('./last.mp4')\n",
    "os.symlink(moviename, 'last.mp4')"
   ]
  },
  {
   "cell_type": "markdown",
   "metadata": {},
   "source": [
    "<video controls src=\"last.mp4\" />\n",
    "#%%html\n",
    "#<video width=\"320\" height=\"240\" controls>\n",
    "#  <source src=\"./last.mp4\" type=\"video/mp4\">\n",
    "#</video>"
   ]
  },
  {
   "cell_type": "markdown",
   "metadata": {},
   "source": []
  },
  {
   "cell_type": "code",
   "execution_count": null,
   "metadata": {},
   "outputs": [],
   "source": []
  },
  {
   "cell_type": "code",
   "execution_count": null,
   "metadata": {},
   "outputs": [],
   "source": []
  },
  {
   "cell_type": "code",
   "execution_count": null,
   "metadata": {},
   "outputs": [],
   "source": []
  }
 ],
 "metadata": {
  "kernelspec": {
   "display_name": "Python 3",
   "language": "python",
   "name": "python3"
  },
  "language_info": {
   "codemirror_mode": {
    "name": "ipython",
    "version": 3
   },
   "file_extension": ".py",
   "mimetype": "text/x-python",
   "name": "python",
   "nbconvert_exporter": "python",
   "pygments_lexer": "ipython3",
   "version": "3.6.4"
  }
 },
 "nbformat": 4,
 "nbformat_minor": 2
}
