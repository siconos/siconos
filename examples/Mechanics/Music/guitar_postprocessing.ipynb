{
 "cells": [
  {
   "cell_type": "markdown",
   "metadata": {},
   "source": [
    "# Load hdf file and post-process\n",
    "\n",
    "For a given model (as guitar_model above), set internal data using hdf5 input. Useful for post-processing only. \n",
    "\n",
    "Prerequisite : a complete simulation saved in hdf file (e.g. results of run.py)\n",
    "\n",
    "### Usage: \n",
    "\n",
    "* call load_model function : create a model (dynamical system, interactions and so on) and load results from a previous simu from hdf file\n",
    "* call post-processing tools"
   ]
  },
  {
   "cell_type": "code",
   "execution_count": 1,
   "metadata": {},
   "outputs": [],
   "source": [
    "# Reload automatically all python modules before each cell exec\n",
    "%load_ext autoreload\n",
    "%autoreload 2"
   ]
  },
  {
   "cell_type": "code",
   "execution_count": 2,
   "metadata": {},
   "outputs": [
    {
     "name": "stdout",
     "output_type": "stream",
     "text": [
      "Campaign name : one_contact_2018_0.5\n",
      "Available freqs:\n",
      "['100000', '10000', '1000000', '100000000', '5000', '10000000']\n",
      "\n",
      "\n",
      "Campaign name : results_paths\n",
      "Campaign name : one_contact_2018_0.0\n",
      "Available freqs:\n",
      "['100000', '10000000', '5000', '10000', '100000000', '1000000']\n",
      "\n",
      "\n",
      "Campaign name : one_contact_2018_1.0\n",
      "Available freqs:\n",
      "['10000000', '100000', '5000', '1000000', '10000', '100000000']\n",
      "\n",
      "\n",
      "Campaign name : bass_2018_0.0\n",
      "Available freqs:\n",
      "['62720', '4014080', '2007040', '125440', '1003520', '31360', '15680', '250880', '501760', '64225280', '16056320', '8028160', '256901120', '32112640', '128450560']\n",
      "\n",
      "\n",
      "Campaign name : bass_2018_0.9\n",
      "Available freqs:\n",
      "['62720', '15680', '16056320', '8028160', '1003520', '125440', '2007040', '501760', '256901120', '128450560', '250880', '31360', '64225280', '32112640', '4014080']\n",
      "\n",
      "\n",
      "Campaign name : bass_2018_1.0\n",
      "Available freqs:\n",
      "['8028160', '250880', '1003520', '15680', '125440', '64225280', '501760', '128450560', '2007040', '4014080', '32112640', '31360', '62720', '256901120', '16056320']\n",
      "\n",
      "\n",
      "Campaign name : fretless_2018_0.0\n",
      "Available freqs:\n",
      "['15680', '62720', '31360', '250880', '1003520', '125440', '16056320', '501760', '2007040', '4014080', '8028160', '64225280', '32112640']\n",
      "\n",
      "\n",
      "Campaign name : fretless_2018_0.9\n",
      "Available freqs:\n",
      "['1003520', '125440', '250880', '16056320', '32112640', '62720', '15680', '8028160', '31360', '2007040', '501760', '4014080', '64225280']\n",
      "\n",
      "\n",
      "Campaign name : fretless_2018_1.0\n",
      "Available freqs:\n",
      "['501760', '125440', '16056320', '15680', '62720', '31360', '250880', '4014080', '2007040', '8028160', '32112640', '1003520']\n",
      "\n",
      "\n",
      "Campaign name : one_contact_2018_2_1.0\n",
      "Available freqs:\n",
      "['5000', '10000', '1000000', '100000', '100000000', '10000000']\n",
      "\n",
      "\n",
      "Campaign name : bass_full_2018_0.0\n",
      "Available freqs:\n",
      "['4014080']\n",
      "\n",
      "\n",
      "Campaign name : bass_full_2018_0.9\n",
      "Available freqs:\n",
      "['4014080']\n",
      "\n",
      "\n",
      "Campaign name : fretless_full_2018_0.0\n",
      "Available freqs:\n",
      "['4014080']\n",
      "\n",
      "\n",
      "Campaign name : fretless_full_2018_0.9\n",
      "Available freqs:\n",
      "['4014080']\n",
      "\n",
      "\n",
      "Campaign name : bass_full_2018_1.0\n",
      "Available freqs:\n",
      "['4014080']\n",
      "\n",
      "\n",
      "Campaign name : fretless_full_2018_1.0\n",
      "Available freqs:\n",
      "['4014080']\n",
      "\n",
      "\n",
      "Campaign name : one_contact_2018_2_0.9\n",
      "Available freqs:\n",
      "['100000', '10000', '5000', '1000000', '100000000', '10000000']\n",
      "\n",
      "\n"
     ]
    }
   ],
   "source": [
    "# standard python packages\n",
    "import sys\n",
    "import time\n",
    "import os\n",
    "import pickle\n",
    "import numpy as np\n",
    "from model_tools import load_model\n",
    "# visu\n",
    "import matplotlib.pyplot as plt\n",
    "%matplotlib inline\n",
    "import scipy.io\n",
    "import h5py\n",
    "import simulation_campaigns\n",
    "import collections\n",
    "pklfilename = 'campaign_2018.pkl'\n",
    "#pkl_file = open('campaign_new_0612.pkl', 'rb')\n",
    "pkl_file = open(pklfilename, 'rb')\n",
    "\n",
    "remote_data = pickle.load(pkl_file)\n",
    "\n",
    "\n",
    "for name in remote_data:\n",
    "    print(\"Campaign name : \" + name)\n",
    "    if name.find('results') < 0:\n",
    "        print(\"Available freqs:\")\n",
    "        print(list(remote_data[name].keys()))\n",
    "        print(\"\\n\")"
   ]
  },
  {
   "cell_type": "markdown",
   "metadata": {},
   "source": [
    "## Select input file(s) and load model(s)"
   ]
  },
  {
   "cell_type": "code",
   "execution_count": 3,
   "metadata": {},
   "outputs": [],
   "source": [
    "def load(filename):\n",
    "    if filename.find('bass') >= 0:\n",
    "        matlab_input = './bass_guitar/pb2'\n",
    "    elif filename.find('fretless') >= 0:\n",
    "        matlab_input = './fretless_bass_guitar/bsf'\n",
    "    elif filename.find('single') >=0 :\n",
    "        matlab_input = './one_contact/pb1'\n",
    "    m, s, f, e = load_model(filename)\n",
    "    frets_file = matlab_input + '_h.mat'\n",
    "    all_frets_positions = scipy.io.loadmat(frets_file)['h'][:, 0]\n",
    "    print(m.modal_values)\n",
    "    #if filename.find('converted') >= 0:\n",
    "    #    m._convert[...]=False\n",
    "    #    h5source = h5py.File(filename, 'r')\n",
    "    #    restit = h5source.attrs['restit']\n",
    "    #    h5source.close()\n",
    "    #else:\n",
    "    #    m.convert_modal_output(s)\n",
    "    #    restit = None\n",
    "    return m, s, f, all_frets_positions, e#, restit"
   ]
  },
  {
   "cell_type": "code",
   "execution_count": 4,
   "metadata": {},
   "outputs": [
    {
     "name": "stdout",
     "output_type": "stream",
     "text": [
      "bass_full_2018_0.0\n",
      "select one of the available freqs:\n",
      "4014080.0\n",
      "bass_full_2018_0.9\n",
      "select one of the available freqs:\n",
      "4014080.0\n",
      "bass_full_2018_1.0\n",
      "select one of the available freqs:\n",
      "4014080.0\n"
     ]
    }
   ],
   "source": [
    "camp = 'bass_full_2018'\n",
    "names = [name for name in remote_data.keys() if name.find(camp) >=0]\n",
    "allfiles = {}\n",
    "for index in range(len(names)):\n",
    "    campaign = remote_data[names[index]]\n",
    "    results_path = remote_data[\"results_paths\"][1]\n",
    "    fileslist = {}\n",
    "    for freq in campaign:\n",
    "        fileslist[np.float(freq)] = os.path.join(results_path, campaign[freq][5])\n",
    "    fileslist = collections.OrderedDict(sorted(fileslist.items()))\n",
    "    print(names[index])\n",
    "    print('select one of the available freqs:')\n",
    "    for freq in fileslist:\n",
    "        print(freq)\n",
    "        #print(fileslist[freq])\n",
    "    allfiles[names[index]] = fileslist\n",
    "\n"
   ]
  },
  {
   "cell_type": "code",
   "execution_count": 5,
   "metadata": {},
   "outputs": [
    {
     "name": "stdout",
     "output_type": "stream",
     "text": [
      "./fig_campaign_2018/bass/\n",
      "Load model from file ./results_bass_2018/F_4014080_id_4076804/converted_bass_e0.9_862_4014080.h5\n",
      "False\n"
     ]
    },
    {
     "data": {
      "image/png": "[encoded data removed]",
      "text/plain": [
       "<matplotlib.figure.Figure at 0x112f07400>"
      ]
     },
     "metadata": {},
     "output_type": "display_data"
    }
   ],
   "source": [
    "freqref = 4014080.0\n",
    "\n",
    "f1 = allfiles['bass_full_2018_0.0'][freqref]\n",
    "f2 = allfiles['bass_full_2018_0.9'][freqref]\n",
    "f3 = allfiles['bass_full_2018_1.0'][freqref]\n",
    "\n",
    "\n",
    "fig_path = './fig_campaign_2018/bass/'\n",
    "print(fig_path)\n",
    "# Full : ie all ts\n",
    "#reference_file = './results_bass_1812/F_4014080_id_4074866/converted_bass_e0.0_862_4014080.h5'\n",
    "f1=f2\n",
    "#\n",
    "#reference_file = './results_bass_1812/F_4014080_id_4074829/converted_bass_e0.0_862_4014080.h5'\n",
    "#reference_file = '/Users/Franck/Projets/Siconos/myfork/siconos/examples/Mechanics/Music/bass_e0.0_862_100680.h5'\n",
    "\n",
    "m1, s1, fr1, fp1, e1 = load(f1)\n",
    "#m2, s2, fr2, fp2, e2 = load(f2)\n",
    "#m3, s3, fr3, fp3, e3 = load(f3)\n",
    "    \n",
    "if not os.path.exists(fig_path):\n",
    "    os.mkdir(fig_path)\n",
    "\n",
    "\n",
    "\n",
    "    "
   ]
  },
  {
   "cell_type": "markdown",
   "metadata": {},
   "source": [
    "## Plot trajectories\n",
    "Use plotTraj(dynamical_system, list of dof to be plotted)\n",
    "\n",
    "If list of dof is not set, all dof will be plotted.\n",
    "\n",
    "Result = dof as a function of time +  zoom specific ranges (as in the paper)\n",
    "\n",
    "To save the resulting figure(s), add argument filename when calling plotTraj\n",
    "\n",
    "Arg 'iplot' is used to change figure number. Set same iplot if you want to plot all curves on the same figure.\n",
    "Default iplot=0."
   ]
  },
  {
   "cell_type": "code",
   "execution_count": 6,
   "metadata": {},
   "outputs": [
    {
     "data": {
      "text/plain": [
       "47"
      ]
     },
     "execution_count": 6,
     "metadata": {},
     "output_type": "execute_result"
    }
   ],
   "source": [
    "inter = fr1[0]\n",
    "inter.contact_index"
   ]
  },
  {
   "cell_type": "code",
   "execution_count": 7,
   "metadata": {},
   "outputs": [
    {
     "data": {
      "text/plain": [
       "2.491230867346939e-07"
      ]
     },
     "execution_count": 7,
     "metadata": {},
     "output_type": "execute_result"
    }
   ],
   "source": [
    "m1.time_step"
   ]
  },
  {
   "cell_type": "code",
   "execution_count": null,
   "metadata": {},
   "outputs": [],
   "source": [
    "# Select dof to plot traj\n",
    "dof = 853\n",
    "ground = fp1[dof]#- guitar_string.diameter*0.5\n",
    "#print(ground)\n",
    "freq = m1.fs\n",
    "filename = os.path.join(fig_path, 'full_traj_' + str(freq) + '_x=' + str(dof) + '.pdf')\n",
    "m1.plot_traj(s1, dof=dof, iplot=0,filename=filename)#, ground=ground)#\n",
    "#current_model.plot_traj(current_string, dof=dof, iplot=0)#, filename=filename)\n",
    "#m3.plot_traj(s3, dof=dof, iplot=0)#, filename=filename)\n",
    "\n",
    "\n",
    "#dof = 9\n",
    "#ground = frets_pos[dof]#- guitar_string.diameter*0.5\n",
    "#filename = os.path.join(fig_path, 'traj_' + str(freq) + '_x=' + str(dof) + '.pdf')\n",
    "#guitar_model.plot_traj(guitar_string, dof=dof, iplot=1, filename=filename)#, ground=ground)\n",
    "#guitar_model2.plot_traj(guitar_string2, dof=dof, iplot=0, )#, ground=ground"
   ]
  },
  {
   "cell_type": "code",
   "execution_count": null,
   "metadata": {},
   "outputs": [],
   "source": [
    "dof = 853\n",
    "traj1 = m1.data_ds[s1][dof,:]\n",
    "traj2 = m2.data_ds[s2][dof,:]\n",
    "traj3 = m3.data_ds[s3][dof,:]\n",
    "t1 = m1.time\n",
    "t2 = m2.time\n",
    "t3 = m3.time\n",
    "plt.figure(figsize=(17, 8))\n",
    "plt.plot(t1, traj1, '--',t2, traj2, 'o:' , t3, traj3, '--x')\n",
    "plt.xlim(0, 0.008)\n",
    "leg = ['e=0.', 'e=0.9', 'e=1.']\n",
    "plt.legend(leg)\n",
    "plt.xlabel('time')\n",
    "plt.title('displacement at x='+str(s1.x[dof]) + 'for fe = '+ str(freq) + ' Hz' )\n",
    "filename = os.path.join(fig_path, 'comp_traj_' + str(freq) + '_x=' + str(dof) + '.pdf')\n",
    "plt.savefig(filename)"
   ]
  },
  {
   "cell_type": "code",
   "execution_count": null,
   "metadata": {},
   "outputs": [],
   "source": [
    "inter = guitar_model.data_interactions"
   ]
  },
  {
   "cell_type": "code",
   "execution_count": null,
   "metadata": {},
   "outputs": [],
   "source": [
    "ic = 0\n",
    "time = guitar_model.time\n",
    "y = inter[guitar_frets[ic]][0][:]\n",
    "#ydot = inter[frets[ic]][:,1]\n",
    "plt.figure()\n",
    "for ic in range(len(guitar_frets)):\n",
    "    lamb = inter[guitar_frets[ic]][1][:]\n",
    "    #print(np.where(lamb >=1e-22))\n",
    "    plt.plot(time, lamb, 'o')\n",
    "\n",
    "\n",
    "    \n",
    "#plt.plot(time, ydot,'--x')\n",
    "plt.xlim(0,0.05)\n",
    "#plt.ylim(-10,10)\n",
    "ind = np.where(y<0)\n",
    "ind2 = np.where(y>=0)\n",
    "\n",
    "plt.figure(44)\n",
    "#plt.clf()\n",
    "plt.plot(time[ind2], y[ind2], 'k:o', time[ind], y[ind], 'rx:', )\n",
    "plt.xlim(0.003, 0.009)\n",
    "#plt.figure()\n",
    "\n",
    "#plt.plot(time, lamb, 'k:o')\n",
    "                               "
   ]
  },
  {
   "cell_type": "code",
   "execution_count": null,
   "metadata": {},
   "outputs": [],
   "source": [
    "dofs = {}\n",
    "datas = m1.data_ds[s1][853,:]\n",
    "dofs['dof_853'] = datas\n",
    "dofs['time'] = m1.time\n"
   ]
  },
  {
   "cell_type": "code",
   "execution_count": null,
   "metadata": {},
   "outputs": [],
   "source": [
    "import scipy.io as sio\n",
    "filename = os.path.join(fig_path, 'full_dof853_e=0.mat')\n",
    "print(filename)"
   ]
  },
  {
   "cell_type": "code",
   "execution_count": null,
   "metadata": {},
   "outputs": [],
   "source": [
    "sio.savemat(filename, dofs)"
   ]
  },
  {
   "cell_type": "markdown",
   "metadata": {},
   "source": [
    "# Plot modes\n",
    "\n",
    "Use guitar_model.plot_modes(guitar_string,plot_shape)\n",
    "\n",
    "plot_shape = (x,y) where x,y is the resolution of the grid of plots.\n",
    "\n",
    "Example: \n",
    "plot_modes(guitar_string, (4,2)) : splits time range in 8 and plots dof=f(x) for those 8 time instants on 8 figures\n",
    "\n",
    "\n",
    "Set filename arg to save resulting figure in a file."
   ]
  },
  {
   "cell_type": "code",
   "execution_count": null,
   "metadata": {},
   "outputs": [],
   "source": [
    "# Plot 10 figures on two columns, for 10 time instants\n",
    "m1.plot_modes(s1,plot_shape=[5,2], iplot=0)\n",
    "plt.savefig(os.path.join(fig_path, 'modes.pdf'))\n",
    "# Same thing but save output in modes.pdf\n",
    "#guitar_model.plot_modes(guitar_string,plot_shape=[5,3], filename='modes.pdf', iplot=1)\n",
    "# plot modes for time[12] and time[5000] on one column\n",
    "#guitar_model.plot_modes(guitar_string, times =[12, 1200], plot_shape=(2,1), filename='modes2.pdf', iplot=2)"
   ]
  },
  {
   "cell_type": "markdown",
   "metadata": {},
   "source": [
    "## Plot contactogram\n",
    "\n",
    "    !! Works only if enable_interactions_output=True in model (guitar_model) constructor"
   ]
  },
  {
   "cell_type": "code",
   "execution_count": null,
   "metadata": {},
   "outputs": [],
   "source": [
    "print(fig_path)"
   ]
  },
  {
   "cell_type": "code",
   "execution_count": 11,
   "metadata": {},
   "outputs": [
    {
     "name": "stdout",
     "output_type": "stream",
     "text": [
      "nb contacts :  20\n"
     ]
    },
    {
     "name": "stderr",
     "output_type": "stream",
     "text": [
      "/usr/local/lib/python3.6/site-packages/matplotlib/cbook/deprecation.py:106: MatplotlibDeprecationWarning: Adding an axes using the same arguments as a previous axes currently reuses the earlier instance.  In a future version, a new instance will always be created and returned.  Meanwhile, this warning can be suppressed, and the future behavior ensured, by passing a unique label to each axes instance.\n",
      "  warnings.warn(message, mplDeprecation, stacklevel=1)\n"
     ]
    },
    {
     "data": {
      "text/plain": [
       "1605632"
      ]
     },
     "execution_count": 11,
     "metadata": {},
     "output_type": "execute_result"
    },
    {
     "data": {
      "image/png": "[encoded data removed]",
      "text/plain": [
       "<matplotlib.figure.Figure at 0x135176160>"
      ]
     },
     "metadata": {},
     "output_type": "display_data"
    }
   ],
   "source": [
    "m1.contactogram(s1, 33)\n",
    "#plt.xlim(0.0035, 0.0045)\n",
    "plt.savefig(os.path.join(fig_path, 'contacto.pdf'))\n",
    "m1.nb_time_steps_output"
   ]
  },
  {
   "cell_type": "markdown",
   "metadata": {},
   "source": [
    "## Create a movie mode=f(time)"
   ]
  },
  {
   "cell_type": "code",
   "execution_count": null,
   "metadata": {},
   "outputs": [],
   "source": [
    "moviename = os.path.basename(f1)\n",
    "moviename = os.path.join(fig_path, os.path.splitext(moviename)[0] + '.mp4')\n",
    "print(moviename)\n",
    "#moviename = 'tmp.mp4'\n",
    "m1.make_movie(s1, moviename, sampling=10)"
   ]
  },
  {
   "cell_type": "code",
   "execution_count": null,
   "metadata": {},
   "outputs": [],
   "source": [
    "if os.path.exists(('./last.mp4')):\n",
    "    os.remove('./last.mp4')\n",
    "os.symlink(moviename, 'last.mp4')"
   ]
  },
  {
   "cell_type": "markdown",
   "metadata": {},
   "source": [
    "<video controls src=\"last.mp4\" />\n",
    "#%%html\n",
    "#<video width=\"320\" height=\"240\" controls>\n",
    "#  <source src=\"./last.mp4\" type=\"video/mp4\">\n",
    "#</video>"
   ]
  },
  {
   "cell_type": "code",
   "execution_count": null,
   "metadata": {},
   "outputs": [],
   "source": []
  },
  {
   "cell_type": "code",
   "execution_count": null,
   "metadata": {},
   "outputs": [],
   "source": []
  },
  {
   "cell_type": "code",
   "execution_count": null,
   "metadata": {},
   "outputs": [],
   "source": []
  }
 ],
 "metadata": {
  "kernelspec": {
   "display_name": "Python 3",
   "language": "python",
   "name": "python3"
  },
  "language_info": {
   "codemirror_mode": {
    "name": "ipython",
    "version": 3
   },
   "file_extension": ".py",
   "mimetype": "text/x-python",
   "name": "python",
   "nbconvert_exporter": "python",
   "pygments_lexer": "ipython3",
   "version": "3.6.4"
  }
 },
 "nbformat": 4,
 "nbformat_minor": 2
}
