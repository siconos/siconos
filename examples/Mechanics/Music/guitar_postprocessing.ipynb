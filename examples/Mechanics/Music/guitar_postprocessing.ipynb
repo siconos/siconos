{
 "cells": [
  {
   "cell_type": "markdown",
   "metadata": {},
   "source": [
    "# Load hdf file and post-process\n",
    "\n",
    "For a given model (as guitar_model above), set internal data using hdf5 input. Useful for post-processing only. \n",
    "\n",
    "Prerequisite : a complete simulation saved in hdf file (e.g. results of run.py)\n",
    "\n",
    "### Usage: \n",
    "\n",
    "* call load_model function : create a model (dynamical system, interactions and so on) and load results from a previous simu from hdf file\n",
    "* call post-processing tools"
   ]
  },
  {
   "cell_type": "code",
   "execution_count": 1,
   "metadata": {},
   "outputs": [],
   "source": [
    "# Reload automatically all python modules before each cell exec\n",
    "%load_ext autoreload\n",
    "%autoreload 2"
   ]
  },
  {
   "cell_type": "code",
   "execution_count": 2,
   "metadata": {},
   "outputs": [],
   "source": [
    "# standard python packages\n",
    "import sys\n",
    "import time\n",
    "import os\n",
    "import numpy as np\n",
    "from model_tools import load_model\n",
    "# visu\n",
    "import matplotlib.pyplot as plt\n",
    "%matplotlib inline"
   ]
  },
  {
   "cell_type": "code",
   "execution_count": 3,
   "metadata": {},
   "outputs": [],
   "source": [
    "import scipy.io\n",
    "import h5py"
   ]
  },
  {
   "cell_type": "markdown",
   "metadata": {},
   "source": [
    "## Pick up results file(s)\n",
    "\n",
    "Either choose one or more campaigns (A)\n",
    "or explicitely set input file  (B)"
   ]
  },
  {
   "cell_type": "code",
   "execution_count": 8,
   "metadata": {},
   "outputs": [],
   "source": [
    "# Case (A)\n",
    "from post_process import compute_errors, plot_campaign\n",
    "import simulation_campaigns\n",
    "# Set path to matlab inputs\n",
    "matlab_frets = './bass_guitar/pb2'\n",
    "matlab_fretless = './fretless_bass_guitar/bsf'\n",
    "campaigns = {}\n",
    "campaigns['bass_09'] = (simulation_campaigns.campaign_14112017, matlab_frets)\n",
    "campaigns['bass_0'] = (simulation_campaigns.campaign_16112017,  matlab_frets)\n",
    "#campaigns['fretless_09'] = (simulation_campaigns.campaign_17112017,  matlab_fretless)\n",
    "#campaigns['fretless_0'] = (simulation_campaigns.campaign_17112017_2, matlab_fretless)\n",
    "campaigns['bass_09_2'] = (simulation_campaigns.campaign_24112017, matlab_frets)\n",
    "campaigns['bass_0_2'] = (simulation_campaigns.campaign_24112017_2,  matlab_frets)\n",
    "#campaigns['fretless_09_2'] = (simulation_campaigns.campaign_27112017,  matlab_fretless)\n",
    "#campaigns['fretless_0_2'] = (simulation_campaigns.campaign_27112017_2, matlab_fretless)\n",
    "\n",
    "\n",
    "\n",
    "# Case (B)\n",
    "# filelist = ['./results/F_15680_id_3755969/g_862_15680.h5']"
   ]
  },
  {
   "cell_type": "markdown",
   "metadata": {},
   "source": [
    "## Convergence study"
   ]
  },
  {
   "cell_type": "code",
   "execution_count": 9,
   "metadata": {
    "scrolled": true
   },
   "outputs": [],
   "source": [
    "errors = {}\n",
    "for name in campaigns:\n",
    "    filelist = campaigns[name][0]['files_converted']\n",
    "    #print(filelist, '\\n')\n"
   ]
  },
  {
   "cell_type": "code",
   "execution_count": 10,
   "metadata": {},
   "outputs": [
    {
     "name": "stdout",
     "output_type": "stream",
     "text": [
      "Load model from file ./results_bass/2017_11_14/F_64225280_id_3741487/converted_g_862_64225280.h5\n",
      "Read data from files :\n",
      "- neck profile:./bass_guitar/pb2_h.mat\n",
      "- eigenfrequencies: ./bass_guitar/pb2_frequs.mat\n",
      "- damping: ./bass_guitar/pb2_amortissements.mat\n",
      "\n",
      "Ready to start simulation for frequency 64225280.0.\n",
      "Save output every 4096 time steps.\n",
      "Load model from file ./results_bass/2017_11_14/F_15680_id_3761741/converted_g_862_15680.h5\n",
      "Read data from files :\n",
      "- neck profile:./bass_guitar/pb2_h.mat\n",
      "- eigenfrequencies: ./bass_guitar/pb2_frequs.mat\n",
      "- damping: ./bass_guitar/pb2_amortissements.mat\n",
      "\n",
      "Ready to start simulation for frequency 15680.0.\n",
      "Save output every 1 time steps.\n",
      "Load model from file ./results_bass/2017_11_14/F_31360_id_3761740/converted_g_862_31360.h5\n",
      "Read data from files :\n",
      "- neck profile:./bass_guitar/pb2_h.mat\n",
      "- eigenfrequencies: ./bass_guitar/pb2_frequs.mat\n",
      "- damping: ./bass_guitar/pb2_amortissements.mat\n",
      "\n",
      "Ready to start simulation for frequency 31360.0.\n",
      "Save output every 2 time steps.\n",
      "Load model from file ./results_bass/2017_11_14/F_62720_id_3741615/converted_g_862_62720.h5\n",
      "Read data from files :\n",
      "- neck profile:./bass_guitar/pb2_h.mat\n",
      "- eigenfrequencies: ./bass_guitar/pb2_frequs.mat\n",
      "- damping: ./bass_guitar/pb2_amortissements.mat\n",
      "\n",
      "Ready to start simulation for frequency 62720.0.\n",
      "Save output every 4 time steps.\n",
      "Load model from file ./results_bass/2017_11_14/F_125440_id_3741614/converted_g_862_125440.h5\n",
      "Read data from files :\n",
      "- neck profile:./bass_guitar/pb2_h.mat\n",
      "- eigenfrequencies: ./bass_guitar/pb2_frequs.mat\n",
      "- damping: ./bass_guitar/pb2_amortissements.mat\n",
      "\n",
      "Ready to start simulation for frequency 125440.0.\n",
      "Save output every 8 time steps.\n",
      "Load model from file ./results_bass/2017_11_14/F_250880_id_3741597/converted_g_862_250880.h5\n",
      "Read data from files :\n",
      "- neck profile:./bass_guitar/pb2_h.mat\n",
      "- eigenfrequencies: ./bass_guitar/pb2_frequs.mat\n",
      "- damping: ./bass_guitar/pb2_amortissements.mat\n",
      "\n",
      "Ready to start simulation for frequency 250880.0.\n",
      "Save output every 16 time steps.\n",
      "Load model from file ./results_bass/2017_11_14/F_501760_id_3741501/converted_g_862_501760.h5\n",
      "Read data from files :\n",
      "- neck profile:./bass_guitar/pb2_h.mat\n",
      "- eigenfrequencies: ./bass_guitar/pb2_frequs.mat\n",
      "- damping: ./bass_guitar/pb2_amortissements.mat\n",
      "\n",
      "Ready to start simulation for frequency 501760.0.\n",
      "Save output every 32 time steps.\n",
      "Load model from file ./results_bass/2017_11_14/F_1003520_id_3741500/converted_g_862_1003520.h5\n",
      "Read data from files :\n",
      "- neck profile:./bass_guitar/pb2_h.mat\n",
      "- eigenfrequencies: ./bass_guitar/pb2_frequs.mat\n",
      "- damping: ./bass_guitar/pb2_amortissements.mat\n",
      "\n",
      "Ready to start simulation for frequency 1003520.0.\n",
      "Save output every 64 time steps.\n",
      "Load model from file ./results_bass/2017_11_14/F_2007040_id_3741499/converted_g_862_2007040.h5\n",
      "Read data from files :\n",
      "- neck profile:./bass_guitar/pb2_h.mat\n",
      "- eigenfrequencies: ./bass_guitar/pb2_frequs.mat\n",
      "- damping: ./bass_guitar/pb2_amortissements.mat\n",
      "\n",
      "Ready to start simulation for frequency 2007040.0.\n",
      "Save output every 128 time steps.\n",
      "Load model from file ./results_bass/2017_11_14/F_4014080_id_3741498/converted_g_862_4014080.h5\n",
      "Read data from files :\n",
      "- neck profile:./bass_guitar/pb2_h.mat\n",
      "- eigenfrequencies: ./bass_guitar/pb2_frequs.mat\n",
      "- damping: ./bass_guitar/pb2_amortissements.mat\n",
      "\n",
      "Ready to start simulation for frequency 4014080.0.\n",
      "Save output every 256 time steps.\n",
      "Load model from file ./results_bass/2017_11_14/F_8028160_id_3741496/converted_g_862_8028160.h5\n",
      "Read data from files :\n",
      "- neck profile:./bass_guitar/pb2_h.mat\n",
      "- eigenfrequencies: ./bass_guitar/pb2_frequs.mat\n",
      "- damping: ./bass_guitar/pb2_amortissements.mat\n",
      "\n",
      "Ready to start simulation for frequency 8028160.0.\n",
      "Save output every 512 time steps.\n",
      "Load model from file ./results_bass/2017_11_14/F_16056320_id_3741495/converted_g_862_16056320.h5\n",
      "Read data from files :\n",
      "- neck profile:./bass_guitar/pb2_h.mat\n",
      "- eigenfrequencies: ./bass_guitar/pb2_frequs.mat\n",
      "- damping: ./bass_guitar/pb2_amortissements.mat\n",
      "\n",
      "Ready to start simulation for frequency 16056320.0.\n",
      "Save output every 1024 time steps.\n",
      "Load model from file ./results_bass/2017_11_14/F_32112640_id_3741492/converted_g_862_32112640.h5\n",
      "Read data from files :\n",
      "- neck profile:./bass_guitar/pb2_h.mat\n",
      "- eigenfrequencies: ./bass_guitar/pb2_frequs.mat\n",
      "- damping: ./bass_guitar/pb2_amortissements.mat\n",
      "\n",
      "Ready to start simulation for frequency 32112640.0.\n",
      "Save output every 2048 time steps.\n",
      "Load model from file ./results_bass/2017_11_14/F_64225280_id_3759682/converted_g_862_64225280.h5\n",
      "Read data from files :\n",
      "- neck profile:./bass_guitar/pb2_h.mat\n",
      "- eigenfrequencies: ./bass_guitar/pb2_frequs.mat\n",
      "- damping: ./bass_guitar/pb2_amortissements.mat\n",
      "\n",
      "Ready to start simulation for frequency 64225280.0.\n",
      "Save output every 4096 time steps.\n",
      "Load model from file ./results_bass/2017_11_14/F_15680_id_3759710/converted_g_862_15680.h5\n",
      "Read data from files :\n",
      "- neck profile:./bass_guitar/pb2_h.mat\n",
      "- eigenfrequencies: ./bass_guitar/pb2_frequs.mat\n",
      "- damping: ./bass_guitar/pb2_amortissements.mat\n",
      "\n",
      "Ready to start simulation for frequency 15680.0.\n",
      "Save output every 1 time steps.\n",
      "Load model from file ./results_bass/2017_11_14/F_31360_id_3759709/converted_g_862_31360.h5\n",
      "Read data from files :\n",
      "- neck profile:./bass_guitar/pb2_h.mat\n",
      "- eigenfrequencies: ./bass_guitar/pb2_frequs.mat\n",
      "- damping: ./bass_guitar/pb2_amortissements.mat\n",
      "\n",
      "Ready to start simulation for frequency 31360.0.\n",
      "Save output every 2 time steps.\n",
      "Load model from file ./results_bass/2017_11_14/F_62720_id_3759708/converted_g_862_62720.h5\n",
      "Read data from files :\n",
      "- neck profile:./bass_guitar/pb2_h.mat\n",
      "- eigenfrequencies: ./bass_guitar/pb2_frequs.mat\n",
      "- damping: ./bass_guitar/pb2_amortissements.mat\n",
      "\n",
      "Ready to start simulation for frequency 62720.0.\n",
      "Save output every 4 time steps.\n",
      "Load model from file ./results_bass/2017_11_14/F_125440_id_3759706/converted_g_862_125440.h5\n",
      "Read data from files :\n",
      "- neck profile:./bass_guitar/pb2_h.mat\n",
      "- eigenfrequencies: ./bass_guitar/pb2_frequs.mat\n",
      "- damping: ./bass_guitar/pb2_amortissements.mat\n",
      "\n",
      "Ready to start simulation for frequency 125440.0.\n",
      "Save output every 8 time steps.\n",
      "Load model from file ./results_bass/2017_11_14/F_250880_id_3759705/converted_g_862_250880.h5\n",
      "Read data from files :\n",
      "- neck profile:./bass_guitar/pb2_h.mat\n",
      "- eigenfrequencies: ./bass_guitar/pb2_frequs.mat\n",
      "- damping: ./bass_guitar/pb2_amortissements.mat\n",
      "\n",
      "Ready to start simulation for frequency 250880.0.\n",
      "Save output every 16 time steps.\n",
      "Load model from file ./results_bass/2017_11_14/F_501760_id_3759697/converted_g_862_501760.h5\n",
      "Read data from files :\n",
      "- neck profile:./bass_guitar/pb2_h.mat\n",
      "- eigenfrequencies: ./bass_guitar/pb2_frequs.mat\n",
      "- damping: ./bass_guitar/pb2_amortissements.mat\n",
      "\n",
      "Ready to start simulation for frequency 501760.0.\n",
      "Save output every 32 time steps.\n",
      "Load model from file ./results_bass/2017_11_14/F_1003520_id_3759694/converted_g_862_1003520.h5\n",
      "Read data from files :\n",
      "- neck profile:./bass_guitar/pb2_h.mat\n",
      "- eigenfrequencies: ./bass_guitar/pb2_frequs.mat\n",
      "- damping: ./bass_guitar/pb2_amortissements.mat\n",
      "\n",
      "Ready to start simulation for frequency 1003520.0.\n",
      "Save output every 64 time steps.\n",
      "Load model from file ./results_bass/2017_11_14/F_2007040_id_3759691/converted_g_862_2007040.h5\n",
      "Read data from files :\n",
      "- neck profile:./bass_guitar/pb2_h.mat\n",
      "- eigenfrequencies: ./bass_guitar/pb2_frequs.mat\n",
      "- damping: ./bass_guitar/pb2_amortissements.mat\n",
      "\n",
      "Ready to start simulation for frequency 2007040.0.\n",
      "Save output every 128 time steps.\n",
      "Load model from file ./results_bass/2017_11_14/F_4014080_id_3759689/converted_g_862_4014080.h5\n",
      "Read data from files :\n",
      "- neck profile:./bass_guitar/pb2_h.mat\n",
      "- eigenfrequencies: ./bass_guitar/pb2_frequs.mat\n",
      "- damping: ./bass_guitar/pb2_amortissements.mat\n",
      "\n",
      "Ready to start simulation for frequency 4014080.0.\n",
      "Save output every 256 time steps.\n",
      "Load model from file ./results_bass/2017_11_14/F_8028160_id_3759687/converted_g_862_8028160.h5\n",
      "Read data from files :\n",
      "- neck profile:./bass_guitar/pb2_h.mat\n",
      "- eigenfrequencies: ./bass_guitar/pb2_frequs.mat\n",
      "- damping: ./bass_guitar/pb2_amortissements.mat\n",
      "\n",
      "Ready to start simulation for frequency 8028160.0.\n",
      "Save output every 512 time steps.\n",
      "Load model from file ./results_bass/2017_11_14/F_16056320_id_3759685/converted_g_862_16056320.h5\n",
      "Read data from files :\n",
      "- neck profile:./bass_guitar/pb2_h.mat\n",
      "- eigenfrequencies: ./bass_guitar/pb2_frequs.mat\n",
      "- damping: ./bass_guitar/pb2_amortissements.mat\n",
      "\n",
      "Ready to start simulation for frequency 16056320.0.\n",
      "Save output every 1024 time steps.\n"
     ]
    },
    {
     "name": "stdout",
     "output_type": "stream",
     "text": [
      "Load model from file ./results_bass/2017_11_14/F_32112640_id_3759683/converted_g_862_32112640.h5\n",
      "Read data from files :\n",
      "- neck profile:./bass_guitar/pb2_h.mat\n",
      "- eigenfrequencies: ./bass_guitar/pb2_frequs.mat\n",
      "- damping: ./bass_guitar/pb2_amortissements.mat\n",
      "\n",
      "Ready to start simulation for frequency 32112640.0.\n",
      "Save output every 2048 time steps.\n",
      "Load model from file ./results_bass/2017_11_24/F_64225280_id_3847215/converted_g_862_64225280.h5\n",
      "Read data from files :\n",
      "- neck profile:./bass_guitar/pb2_h.mat\n",
      "- eigenfrequencies: ./bass_guitar/pb2_frequs.mat\n",
      "- damping: ./bass_guitar/pb2_amortissements.mat\n",
      "\n",
      "Ready to start simulation for frequency 64225280.0.\n",
      "Save output every 4096 time steps.\n",
      "Load model from file ./results_bass/2017_11_24/F_15680_id_3847227/converted_g_862_15680.h5\n",
      "Read data from files :\n",
      "- neck profile:./bass_guitar/pb2_h.mat\n",
      "- eigenfrequencies: ./bass_guitar/pb2_frequs.mat\n",
      "- damping: ./bass_guitar/pb2_amortissements.mat\n",
      "\n",
      "Ready to start simulation for frequency 15680.0.\n",
      "Save output every 1 time steps.\n",
      "Load model from file ./results_bass/2017_11_24/F_31360_id_3847226/converted_g_862_31360.h5\n",
      "Read data from files :\n",
      "- neck profile:./bass_guitar/pb2_h.mat\n",
      "- eigenfrequencies: ./bass_guitar/pb2_frequs.mat\n",
      "- damping: ./bass_guitar/pb2_amortissements.mat\n",
      "\n",
      "Ready to start simulation for frequency 31360.0.\n",
      "Save output every 2 time steps.\n",
      "Load model from file ./results_bass/2017_11_24/F_62720_id_3847225/converted_g_862_62720.h5\n",
      "Read data from files :\n",
      "- neck profile:./bass_guitar/pb2_h.mat\n",
      "- eigenfrequencies: ./bass_guitar/pb2_frequs.mat\n",
      "- damping: ./bass_guitar/pb2_amortissements.mat\n",
      "\n",
      "Ready to start simulation for frequency 62720.0.\n",
      "Save output every 4 time steps.\n",
      "Load model from file ./results_bass/2017_11_24/F_125440_id_3847224/converted_g_862_125440.h5\n",
      "Read data from files :\n",
      "- neck profile:./bass_guitar/pb2_h.mat\n",
      "- eigenfrequencies: ./bass_guitar/pb2_frequs.mat\n",
      "- damping: ./bass_guitar/pb2_amortissements.mat\n",
      "\n",
      "Ready to start simulation for frequency 125440.0.\n",
      "Save output every 8 time steps.\n",
      "Load model from file ./results_bass/2017_11_24/F_250880_id_3847223/converted_g_862_250880.h5\n",
      "Read data from files :\n",
      "- neck profile:./bass_guitar/pb2_h.mat\n",
      "- eigenfrequencies: ./bass_guitar/pb2_frequs.mat\n",
      "- damping: ./bass_guitar/pb2_amortissements.mat\n",
      "\n",
      "Ready to start simulation for frequency 250880.0.\n",
      "Save output every 16 time steps.\n",
      "Load model from file ./results_bass/2017_11_24/F_501760_id_3847222/converted_g_862_501760.h5\n",
      "Read data from files :\n",
      "- neck profile:./bass_guitar/pb2_h.mat\n",
      "- eigenfrequencies: ./bass_guitar/pb2_frequs.mat\n",
      "- damping: ./bass_guitar/pb2_amortissements.mat\n",
      "\n",
      "Ready to start simulation for frequency 501760.0.\n",
      "Save output every 32 time steps.\n",
      "Load model from file ./results_bass/2017_11_24/F_1003520_id_3847221/converted_g_862_1003520.h5\n",
      "Read data from files :\n",
      "- neck profile:./bass_guitar/pb2_h.mat\n",
      "- eigenfrequencies: ./bass_guitar/pb2_frequs.mat\n",
      "- damping: ./bass_guitar/pb2_amortissements.mat\n",
      "\n",
      "Ready to start simulation for frequency 1003520.0.\n",
      "Save output every 64 time steps.\n",
      "Load model from file ./results_bass/2017_11_24/F_2007040_id_3847220/converted_g_862_2007040.h5\n",
      "Read data from files :\n",
      "- neck profile:./bass_guitar/pb2_h.mat\n",
      "- eigenfrequencies: ./bass_guitar/pb2_frequs.mat\n",
      "- damping: ./bass_guitar/pb2_amortissements.mat\n",
      "\n",
      "Ready to start simulation for frequency 2007040.0.\n",
      "Save output every 128 time steps.\n",
      "Load model from file ./results_bass/2017_11_24/F_4014080_id_3847219/converted_g_862_4014080.h5\n",
      "Read data from files :\n",
      "- neck profile:./bass_guitar/pb2_h.mat\n",
      "- eigenfrequencies: ./bass_guitar/pb2_frequs.mat\n",
      "- damping: ./bass_guitar/pb2_amortissements.mat\n",
      "\n",
      "Ready to start simulation for frequency 4014080.0.\n",
      "Save output every 256 time steps.\n",
      "Load model from file ./results_bass/2017_11_24/F_8028160_id_3847218/converted_g_862_8028160.h5\n",
      "Read data from files :\n",
      "- neck profile:./bass_guitar/pb2_h.mat\n",
      "- eigenfrequencies: ./bass_guitar/pb2_frequs.mat\n",
      "- damping: ./bass_guitar/pb2_amortissements.mat\n",
      "\n",
      "Ready to start simulation for frequency 8028160.0.\n",
      "Save output every 512 time steps.\n",
      "Load model from file ./results_bass/2017_11_24/F_16056320_id_3847217/converted_g_862_16056320.h5\n",
      "Read data from files :\n",
      "- neck profile:./bass_guitar/pb2_h.mat\n",
      "- eigenfrequencies: ./bass_guitar/pb2_frequs.mat\n",
      "- damping: ./bass_guitar/pb2_amortissements.mat\n",
      "\n",
      "Ready to start simulation for frequency 16056320.0.\n",
      "Save output every 1024 time steps.\n",
      "Load model from file ./results_bass/2017_11_24/F_32112640_id_3847216/converted_g_862_32112640.h5\n",
      "Read data from files :\n",
      "- neck profile:./bass_guitar/pb2_h.mat\n",
      "- eigenfrequencies: ./bass_guitar/pb2_frequs.mat\n",
      "- damping: ./bass_guitar/pb2_amortissements.mat\n",
      "\n",
      "Ready to start simulation for frequency 32112640.0.\n",
      "Save output every 2048 time steps.\n",
      "Load model from file ./results_bass/2017_11_24/F_64225280_id_3847200/converted_g_862_64225280.h5\n",
      "Read data from files :\n",
      "- neck profile:./bass_guitar/pb2_h.mat\n",
      "- eigenfrequencies: ./bass_guitar/pb2_frequs.mat\n",
      "- damping: ./bass_guitar/pb2_amortissements.mat\n",
      "\n",
      "Ready to start simulation for frequency 64225280.0.\n",
      "Save output every 4096 time steps.\n",
      "Load model from file ./results_bass/2017_11_24/F_15680_id_3847212/converted_g_862_15680.h5\n",
      "Read data from files :\n",
      "- neck profile:./bass_guitar/pb2_h.mat\n",
      "- eigenfrequencies: ./bass_guitar/pb2_frequs.mat\n",
      "- damping: ./bass_guitar/pb2_amortissements.mat\n",
      "\n",
      "Ready to start simulation for frequency 15680.0.\n",
      "Save output every 1 time steps.\n",
      "Load model from file ./results_bass/2017_11_24/F_31360_id_3847211/converted_g_862_31360.h5\n",
      "Read data from files :\n",
      "- neck profile:./bass_guitar/pb2_h.mat\n",
      "- eigenfrequencies: ./bass_guitar/pb2_frequs.mat\n",
      "- damping: ./bass_guitar/pb2_amortissements.mat\n",
      "\n",
      "Ready to start simulation for frequency 31360.0.\n",
      "Save output every 2 time steps.\n",
      "Load model from file ./results_bass/2017_11_24/F_62720_id_3847210/converted_g_862_62720.h5\n",
      "Read data from files :\n",
      "- neck profile:./bass_guitar/pb2_h.mat\n",
      "- eigenfrequencies: ./bass_guitar/pb2_frequs.mat\n",
      "- damping: ./bass_guitar/pb2_amortissements.mat\n",
      "\n",
      "Ready to start simulation for frequency 62720.0.\n",
      "Save output every 4 time steps.\n",
      "Load model from file ./results_bass/2017_11_24/F_125440_id_3847209/converted_g_862_125440.h5\n",
      "Read data from files :\n",
      "- neck profile:./bass_guitar/pb2_h.mat\n",
      "- eigenfrequencies: ./bass_guitar/pb2_frequs.mat\n",
      "- damping: ./bass_guitar/pb2_amortissements.mat\n",
      "\n",
      "Ready to start simulation for frequency 125440.0.\n",
      "Save output every 8 time steps.\n",
      "Load model from file ./results_bass/2017_11_24/F_250880_id_3847208/converted_g_862_250880.h5\n",
      "Read data from files :\n",
      "- neck profile:./bass_guitar/pb2_h.mat\n",
      "- eigenfrequencies: ./bass_guitar/pb2_frequs.mat\n",
      "- damping: ./bass_guitar/pb2_amortissements.mat\n",
      "\n",
      "Ready to start simulation for frequency 250880.0.\n",
      "Save output every 16 time steps.\n",
      "Load model from file ./results_bass/2017_11_24/F_501760_id_3847207/converted_g_862_501760.h5\n",
      "Read data from files :\n",
      "- neck profile:./bass_guitar/pb2_h.mat\n",
      "- eigenfrequencies: ./bass_guitar/pb2_frequs.mat\n",
      "- damping: ./bass_guitar/pb2_amortissements.mat\n",
      "\n",
      "Ready to start simulation for frequency 501760.0.\n",
      "Save output every 32 time steps.\n",
      "Load model from file ./results_bass/2017_11_24/F_1003520_id_3847206/converted_g_862_1003520.h5\n",
      "Read data from files :\n",
      "- neck profile:./bass_guitar/pb2_h.mat\n",
      "- eigenfrequencies: ./bass_guitar/pb2_frequs.mat\n",
      "- damping: ./bass_guitar/pb2_amortissements.mat\n",
      "\n",
      "Ready to start simulation for frequency 1003520.0.\n",
      "Save output every 64 time steps.\n",
      "Load model from file ./results_bass/2017_11_24/F_2007040_id_3847205/converted_g_862_2007040.h5\n",
      "Read data from files :\n",
      "- neck profile:./bass_guitar/pb2_h.mat\n",
      "- eigenfrequencies: ./bass_guitar/pb2_frequs.mat\n",
      "- damping: ./bass_guitar/pb2_amortissements.mat\n",
      "\n",
      "Ready to start simulation for frequency 2007040.0.\n",
      "Save output every 128 time steps.\n",
      "Load model from file ./results_bass/2017_11_24/F_4014080_id_3847204/converted_g_862_4014080.h5\n",
      "Read data from files :\n",
      "- neck profile:./bass_guitar/pb2_h.mat\n",
      "- eigenfrequencies: ./bass_guitar/pb2_frequs.mat\n",
      "- damping: ./bass_guitar/pb2_amortissements.mat\n",
      "\n",
      "Ready to start simulation for frequency 4014080.0.\n",
      "Save output every 256 time steps.\n",
      "Load model from file ./results_bass/2017_11_24/F_8028160_id_3847203/converted_g_862_8028160.h5\n",
      "Read data from files :\n",
      "- neck profile:./bass_guitar/pb2_h.mat\n",
      "- eigenfrequencies: ./bass_guitar/pb2_frequs.mat\n",
      "- damping: ./bass_guitar/pb2_amortissements.mat\n",
      "\n",
      "Ready to start simulation for frequency 8028160.0.\n",
      "Save output every 512 time steps.\n"
     ]
    },
    {
     "name": "stdout",
     "output_type": "stream",
     "text": [
      "Load model from file ./results_bass/2017_11_24/F_16056320_id_3847202/converted_g_862_16056320.h5\n",
      "Read data from files :\n",
      "- neck profile:./bass_guitar/pb2_h.mat\n",
      "- eigenfrequencies: ./bass_guitar/pb2_frequs.mat\n",
      "- damping: ./bass_guitar/pb2_amortissements.mat\n",
      "\n",
      "Ready to start simulation for frequency 16056320.0.\n",
      "Save output every 1024 time steps.\n",
      "Load model from file ./results_bass/2017_11_24/F_32112640_id_3847201/converted_g_862_32112640.h5\n",
      "Read data from files :\n",
      "- neck profile:./bass_guitar/pb2_h.mat\n",
      "- eigenfrequencies: ./bass_guitar/pb2_frequs.mat\n",
      "- damping: ./bass_guitar/pb2_amortissements.mat\n",
      "\n",
      "Ready to start simulation for frequency 32112640.0.\n",
      "Save output every 2048 time steps.\n"
     ]
    }
   ],
   "source": [
    "# Select a campaign and converted files\n",
    "errors = {}\n",
    "freqs = {}\n",
    "for name in campaigns:\n",
    "    filelist = campaigns[name][0]['files_converted']\n",
    "    matlab_input = campaigns[name][1]\n",
    "    errors[name] = compute_errors(filelist, indices=[10, 400, 800],\n",
    "                                  from_matlab=matlab_input)\n",
    "    freqs[name] = campaigns[name][0]['freqs']"
   ]
  },
  {
   "cell_type": "markdown",
   "metadata": {},
   "source": [
    "### Plot convergence for bass guitar"
   ]
  },
  {
   "cell_type": "code",
   "execution_count": 18,
   "metadata": {},
   "outputs": [
    {
     "data": {
      "text/plain": [
       "[<matplotlib.lines.Line2D at 0x1320d6080>]"
      ]
     },
     "execution_count": 18,
     "metadata": {},
     "output_type": "execute_result"
    },
    {
     "data": {
      "image/png": "[encoded data removed]",
      "text/plain": [
       "<matplotlib.figure.Figure at 0x132024b00>"
      ]
     },
     "metadata": {},
     "output_type": "display_data"
    }
   ],
   "source": [
    "plt.clf()\n",
    "name = 'bass_09'\n",
    "ref_error = errors[name]\n",
    "ref_freqs = freqs[name]\n",
    "#plt.loglog(ref_freqs[:-1], ref_error[:,0], 'o-')\n",
    "#plt.loglog(ref_freqs[:-1], ref_error[:,1], '*-')\n",
    "#plt.loglog(ref_freqs[:-1], ref_error[:,1], '+-')\n",
    "name = 'bass_0'\n",
    "ref_error = errors[name]\n",
    "ref_freqs = freqs[name]\n",
    "#plt.loglog(ref_freqs[:-1], ref_error[:,0], 'x')\n",
    "#plt.loglog(ref_freqs[:-1], ref_error[:,1], '^-')\n",
    "#plt.loglog(ref_freqs[:-1], ref_error[:,1], 's-')\n",
    "#name = 'bass_09_2'\n",
    "ref_error = errors[name]\n",
    "ref_freqs = freqs[name]\n",
    "#plt.loglog(ref_freqs[:-1], ref_error[:,0], 'o-')\n",
    "#plt.loglog(ref_freqs[:-1], ref_error[:,1], '*-')\n",
    "#plt.loglog(ref_freqs[:-1], ref_error[:,1], '^-')\n",
    "name = 'bass_0_2'\n",
    "ref_error = errors[name]\n",
    "ref_freqs = freqs[name]\n",
    "#plt.loglog(ref_freqs[:-1], ref_error[:,0], 'x')\n",
    "#plt.loglog(ref_freqs[:-1], ref_error[:,1], '^-')\n",
    "plt.loglog(ref_freqs[:-1], ref_error[:,0], '*-')\n",
    "\n",
    "\n",
    "\n",
    "\n",
    "\n"
   ]
  },
  {
   "cell_type": "markdown",
   "metadata": {},
   "source": [
    "### plot simulations durations"
   ]
  },
  {
   "cell_type": "code",
   "execution_count": 42,
   "metadata": {},
   "outputs": [],
   "source": [
    "def plot_duration(name, tick1, tick2, fig, ax1, ax2):\n",
    "    duration = np.asarray(campaigns[name][0]['durations']) / 60.\n",
    "    freqs = campaigns[name][0]['freqs']\n",
    "    #plt.plot(freqs, duration, tick)\n",
    "    hosts = campaigns[name][0]['hosts']\n",
    "    #plt.plot(freqs, host)\n",
    "    ax1.semilogx(freqs, duration, tick1)\n",
    "    ax1.set_xlabel('Fe (Hz)')\n",
    "    ax1.set_ylabel('duration (min)')\n",
    "    #ax1.tick_params('y', colors='b')\n",
    "    #ax2 = ax1.twinx()\n",
    "    ax2.semilogx(freqs, hosts, tick2)\n",
    "    ax2.set_ylabel('host number')\n",
    "    #ax2.tick_params('y', colors='r')\n",
    "    #fig.tight_layout()"
   ]
  },
  {
   "cell_type": "code",
   "execution_count": 43,
   "metadata": {},
   "outputs": [
    {
     "data": {
      "image/png": "[encoded data removed]",
      "text/plain": [
       "<matplotlib.figure.Figure at 0x132d20978>"
      ]
     },
     "metadata": {},
     "output_type": "display_data"
    }
   ],
   "source": [
    "fig0, ax0 = plt.subplots()\n",
    "ax01 = ax0.twinx()\n",
    "name = 'bass_0'\n",
    "plot_duration(name, 'ro--', 'ro', fig0, ax0, ax01)\n",
    "name = 'bass_09'\n",
    "plot_duration(name, 'b^--', 'b^', fig0, ax0, ax01)\n",
    "name = 'bass_0_2'\n",
    "plot_duration(name, 'gx--', 'gx', fig0, ax0, ax01)\n",
    "name = 'bass_09_2'\n",
    "plot_duration(name, 'k*--', 'k*', fig0, ax0, ax01)"
   ]
  },
  {
   "cell_type": "code",
   "execution_count": 44,
   "metadata": {},
   "outputs": [
    {
     "ename": "KeyError",
     "evalue": "'fretless_0'",
     "output_type": "error",
     "traceback": [
      "\u001b[0;31m---------------------------------------------------------------------------\u001b[0m",
      "\u001b[0;31mKeyError\u001b[0m                                  Traceback (most recent call last)",
      "\u001b[0;32m<ipython-input-44-3db1a127a8af>\u001b[0m in \u001b[0;36m<module>\u001b[0;34m()\u001b[0m\n\u001b[1;32m      2\u001b[0m \u001b[0max01\u001b[0m \u001b[0;34m=\u001b[0m \u001b[0max0\u001b[0m\u001b[0;34m.\u001b[0m\u001b[0mtwinx\u001b[0m\u001b[0;34m(\u001b[0m\u001b[0;34m)\u001b[0m\u001b[0;34m\u001b[0m\u001b[0m\n\u001b[1;32m      3\u001b[0m \u001b[0mname\u001b[0m \u001b[0;34m=\u001b[0m \u001b[0;34m'fretless_0'\u001b[0m\u001b[0;34m\u001b[0m\u001b[0m\n\u001b[0;32m----> 4\u001b[0;31m \u001b[0mplot_duration\u001b[0m\u001b[0;34m(\u001b[0m\u001b[0mname\u001b[0m\u001b[0;34m,\u001b[0m \u001b[0;34m'ro--'\u001b[0m\u001b[0;34m,\u001b[0m \u001b[0;34m'ro'\u001b[0m\u001b[0;34m,\u001b[0m \u001b[0mfig0\u001b[0m\u001b[0;34m,\u001b[0m \u001b[0max0\u001b[0m\u001b[0;34m,\u001b[0m \u001b[0max01\u001b[0m\u001b[0;34m)\u001b[0m\u001b[0;34m\u001b[0m\u001b[0m\n\u001b[0m\u001b[1;32m      5\u001b[0m \u001b[0mname\u001b[0m \u001b[0;34m=\u001b[0m \u001b[0;34m'fretless_09'\u001b[0m\u001b[0;34m\u001b[0m\u001b[0m\n\u001b[1;32m      6\u001b[0m \u001b[0mplot_duration\u001b[0m\u001b[0;34m(\u001b[0m\u001b[0mname\u001b[0m\u001b[0;34m,\u001b[0m \u001b[0;34m'b^--'\u001b[0m\u001b[0;34m,\u001b[0m \u001b[0;34m'b^'\u001b[0m\u001b[0;34m,\u001b[0m \u001b[0mfig0\u001b[0m\u001b[0;34m,\u001b[0m \u001b[0max0\u001b[0m\u001b[0;34m,\u001b[0m \u001b[0max01\u001b[0m\u001b[0;34m)\u001b[0m\u001b[0;34m\u001b[0m\u001b[0m\n",
      "\u001b[0;32m<ipython-input-42-1560c8d0bee7>\u001b[0m in \u001b[0;36mplot_duration\u001b[0;34m(name, tick1, tick2, fig, ax1, ax2)\u001b[0m\n\u001b[1;32m      1\u001b[0m \u001b[0;32mdef\u001b[0m \u001b[0mplot_duration\u001b[0m\u001b[0;34m(\u001b[0m\u001b[0mname\u001b[0m\u001b[0;34m,\u001b[0m \u001b[0mtick1\u001b[0m\u001b[0;34m,\u001b[0m \u001b[0mtick2\u001b[0m\u001b[0;34m,\u001b[0m \u001b[0mfig\u001b[0m\u001b[0;34m,\u001b[0m \u001b[0max1\u001b[0m\u001b[0;34m,\u001b[0m \u001b[0max2\u001b[0m\u001b[0;34m)\u001b[0m\u001b[0;34m:\u001b[0m\u001b[0;34m\u001b[0m\u001b[0m\n\u001b[0;32m----> 2\u001b[0;31m     \u001b[0mduration\u001b[0m \u001b[0;34m=\u001b[0m \u001b[0mnp\u001b[0m\u001b[0;34m.\u001b[0m\u001b[0masarray\u001b[0m\u001b[0;34m(\u001b[0m\u001b[0mcampaigns\u001b[0m\u001b[0;34m[\u001b[0m\u001b[0mname\u001b[0m\u001b[0;34m]\u001b[0m\u001b[0;34m[\u001b[0m\u001b[0;36m0\u001b[0m\u001b[0;34m]\u001b[0m\u001b[0;34m[\u001b[0m\u001b[0;34m'durations'\u001b[0m\u001b[0;34m]\u001b[0m\u001b[0;34m)\u001b[0m \u001b[0;34m/\u001b[0m \u001b[0;36m60.\u001b[0m\u001b[0;34m\u001b[0m\u001b[0m\n\u001b[0m\u001b[1;32m      3\u001b[0m     \u001b[0mfreqs\u001b[0m \u001b[0;34m=\u001b[0m \u001b[0mcampaigns\u001b[0m\u001b[0;34m[\u001b[0m\u001b[0mname\u001b[0m\u001b[0;34m]\u001b[0m\u001b[0;34m[\u001b[0m\u001b[0;36m0\u001b[0m\u001b[0;34m]\u001b[0m\u001b[0;34m[\u001b[0m\u001b[0;34m'freqs'\u001b[0m\u001b[0;34m]\u001b[0m\u001b[0;34m\u001b[0m\u001b[0m\n\u001b[1;32m      4\u001b[0m     \u001b[0;31m#plt.plot(freqs, duration, tick)\u001b[0m\u001b[0;34m\u001b[0m\u001b[0;34m\u001b[0m\u001b[0m\n\u001b[1;32m      5\u001b[0m     \u001b[0mhosts\u001b[0m \u001b[0;34m=\u001b[0m \u001b[0mcampaigns\u001b[0m\u001b[0;34m[\u001b[0m\u001b[0mname\u001b[0m\u001b[0;34m]\u001b[0m\u001b[0;34m[\u001b[0m\u001b[0;36m0\u001b[0m\u001b[0;34m]\u001b[0m\u001b[0;34m[\u001b[0m\u001b[0;34m'hosts'\u001b[0m\u001b[0;34m]\u001b[0m\u001b[0;34m\u001b[0m\u001b[0m\n",
      "\u001b[0;31mKeyError\u001b[0m: 'fretless_0'"
     ]
    },
    {
     "data": {
      "image/png": "[encoded data removed]",
      "text/plain": [
       "<matplotlib.figure.Figure at 0x13309e8d0>"
      ]
     },
     "metadata": {},
     "output_type": "display_data"
    }
   ],
   "source": [
    "fig0, ax0 = plt.subplots()\n",
    "ax01 = ax0.twinx()\n",
    "name = 'fretless_0'\n",
    "plot_duration(name, 'ro--', 'ro', fig0, ax0, ax01)\n",
    "name = 'fretless_09'\n",
    "plot_duration(name, 'b^--', 'b^', fig0, ax0, ax01)\n",
    "name = 'fretless_0_2'\n",
    "plot_duration(name, 'gx--', 'gx', fig0, ax0, ax01)\n",
    "name = 'fretless_09_2'\n",
    "plot_duration(name, 'k*--', 'k*', fig0, ax0, ax01)"
   ]
  },
  {
   "cell_type": "code",
   "execution_count": null,
   "metadata": {},
   "outputs": [],
   "source": [
    "name = 'fretless_0'\n",
    "ref_error = errors[name]\n",
    "ref_freqs = freqs[name]\n",
    "#plt.loglog(ref_freqs[:-1], ref_error[:,0], 'o-')\n",
    "#plt.loglog(ref_freqs[:-1], ref_error[:,1], '*-')\n",
    "plt.loglog(ref_freqs[:-1], ref_error[:,1], '+-')\n",
    "\n",
    "name = 'fretless_09'\n",
    "ref_error = errors[name]\n",
    "ref_freqs = freqs[name]\n",
    "#plt.loglog(ref_freqs[:-1], ref_error[:,0], 'x')\n",
    "#plt.loglog(ref_freqs[:-1], ref_error[:,1], '^-')\n",
    "plt.loglog(ref_freqs[:-1], ref_error[:,1], 's-')\n",
    "\n"
   ]
  },
  {
   "cell_type": "markdown",
   "metadata": {},
   "source": [
    "## Plot trajectories\n",
    "Use plotTraj(dynamical_system, list of dof to be plotted)\n",
    "\n",
    "If list of dof is not set, all dof will be plotted.\n",
    "\n",
    "Result = dof as a function of time +  zoom specific ranges (as in the paper)\n",
    "\n",
    "To save the resulting figure(s), add argument filename when calling plotTraj\n",
    "\n",
    "Arg 'iplot' is used to change figure number. Set same iplot if you want to plot all curves on the same figure.\n",
    "Default iplot=0."
   ]
  },
  {
   "cell_type": "markdown",
   "metadata": {},
   "source": [
    "### Select campaign and required freq"
   ]
  },
  {
   "cell_type": "code",
   "execution_count": 49,
   "metadata": {},
   "outputs": [
    {
     "name": "stdout",
     "output_type": "stream",
     "text": [
      "./results_bass/2017_11_14/F_15680_id_3759710/converted_g_862_15680.h5\n"
     ]
    }
   ],
   "source": [
    "name = 'bass_0'\n",
    "ifreq = 0\n",
    "filelist = campaigns[name][0]['files_converted']\n",
    "matlab_input = campaigns[name][1]\n",
    "# select a frequency\n",
    "inputfile = filelist[ifreq]\n",
    "print(inputfile)"
   ]
  },
  {
   "cell_type": "code",
   "execution_count": 84,
   "metadata": {},
   "outputs": [
    {
     "name": "stdout",
     "output_type": "stream",
     "text": [
      "./results_bass/2017_11_24/F_64225280_id_3847215/g_862_64225280.h5\n",
      "./results_bass/2017_11_24/F_64225280_id_3847200/g_862_64225280.h5\n"
     ]
    }
   ],
   "source": [
    "inputfile1 = campaigns['bass_09_2'][0]['files'][-1]\n",
    "print(inputfile1)\n",
    "inputfile2 = campaigns['bass_0_2'][0]['files'][-1]\n",
    "print(inputfile2)\n",
    "\n"
   ]
  },
  {
   "cell_type": "markdown",
   "metadata": {},
   "source": [
    "### Download model, string ..."
   ]
  },
  {
   "cell_type": "code",
   "execution_count": 85,
   "metadata": {},
   "outputs": [
    {
     "name": "stdout",
     "output_type": "stream",
     "text": [
      "Load model from file ./results_bass/2017_11_24/F_64225280_id_3847215/g_862_64225280.h5\n",
      "Read data from files :\n",
      "- neck profile:./bass_guitar/pb2_h.mat\n",
      "- eigenfrequencies: ./bass_guitar/pb2_frequs.mat\n",
      "- damping: ./bass_guitar/pb2_amortissements.mat\n",
      "\n",
      "Ready to start simulation for frequency 64225280.0.\n",
      "Save output every 4096 time steps.\n",
      "Load model from file ./results_bass/2017_11_24/F_64225280_id_3847200/g_862_64225280.h5\n",
      "Read data from files :\n",
      "- neck profile:./bass_guitar/pb2_h.mat\n",
      "- eigenfrequencies: ./bass_guitar/pb2_frequs.mat\n",
      "- damping: ./bass_guitar/pb2_amortissements.mat\n",
      "\n",
      "Ready to start simulation for frequency 64225280.0.\n",
      "Save output every 4096 time steps.\n",
      "47 47 0.048 0.048\n",
      "93 93 0.094 0.094\n",
      "136 136 0.137 0.137\n",
      "177 177 0.178 0.178\n",
      "215 215 0.216 0.216\n",
      "252 252 0.253 0.253\n",
      "286 286 0.287 0.287\n",
      "318 318 0.319 0.319\n",
      "349 349 0.35 0.35\n",
      "378 378 0.379 0.379\n",
      "405 405 0.406 0.406\n",
      "431 431 0.432 0.432\n",
      "455 455 0.456 0.456\n",
      "478 478 0.479 0.479\n",
      "500 500 0.501 0.501\n",
      "520 520 0.521 0.521\n",
      "539 539 0.54 0.54\n",
      "557 557 0.558 0.558\n",
      "575 575 0.576 0.576\n",
      "590 590 0.591 0.591\n"
     ]
    }
   ],
   "source": [
    "guitar_model1, guitar_string1, guitar_frets1 = load_model(inputfile1, matlab_input)\n",
    "guitar_model2, guitar_string2, guitar_frets2 = load_model(inputfile2, matlab_input)\n",
    "\n",
    "#guitar_model._convert[...] = False\n",
    "frets_file = matlab_input + '_h.mat'\n",
    "all_frets_positions = scipy.io.loadmat(frets_file)['h'][:, 0]\n",
    "x = np.linspace(0, guitar_string1.length, 862 + 2)\n",
    "x = x[1:-1]\n",
    "for i in range(len(guitar_frets1)):\n",
    "    ic1 = guitar_frets1[i].contact_index\n",
    "    #guitar_frets[0].contact_pos\n",
    "    #print(all_frets_positions[ic+1:ic+2], guitar_frets[i].relation().e()[0])\n",
    "    ic2 = guitar_frets2[i].contact_index\n",
    "    #guitar_frets[0].contact_pos\n",
    "    #print(all_frets_positions[ic+1:ic+2], guitar_frets[i].relation().e()[0])\n",
    "    print(ic1, ic2, x[ic1], x[ic2])\n",
    "\n",
    "\n",
    "#guitar_string.q().shape\n",
    "guitar_model1.convert_modal_output(guitar_string1)\n",
    "guitar_model2.convert_modal_output(guitar_string2)\n",
    "\n",
    "\n"
   ]
  },
  {
   "cell_type": "code",
   "execution_count": 82,
   "metadata": {},
   "outputs": [],
   "source": [
    "velmod = np.load('./temp.npy')\n",
    "vel = np.dot(guitar_string.s_mat, velmod)"
   ]
  },
  {
   "cell_type": "code",
   "execution_count": 87,
   "metadata": {},
   "outputs": [
    {
     "name": "stdout",
     "output_type": "stream",
     "text": [
      "-0.00063\n",
      "-0.00063\n",
      "-0.00063\n"
     ]
    },
    {
     "data": {
      "text/plain": [
       "[<matplotlib.lines.Line2D at 0x1332d7208>]"
      ]
     },
     "execution_count": 87,
     "metadata": {},
     "output_type": "execute_result"
    },
    {
     "data": {
      "image/png": "[encoded data removed]",
      "text/plain": [
       "<matplotlib.figure.Figure at 0x13331d1d0>"
      ]
     },
     "metadata": {},
     "output_type": "display_data"
    }
   ],
   "source": [
    "# Plot dof 10 and 50\n",
    "dof = 47\n",
    "ground = all_frets_positions[dof]\n",
    "print(ground)\n",
    "print(-guitar_frets1[0].relation().e()[0])\n",
    "print(-guitar_frets2[0].relation().e()[0])\n",
    "#guitar_model.plot_traj(guitar_string, dof=dof, iplot=2, ground=ground)\n",
    "time1 = guitar_model1.time\n",
    "time2 = guitar_model2.time\n",
    "\n",
    "pos1 = guitar_model1.data_ds[guitar_string1]\n",
    "pos2 = guitar_model2.data_ds[guitar_string2]\n",
    "\n",
    "\n",
    "plt.figure(0, figsize=(17, 8))\n",
    "plt.clf()\n",
    "plt.plot(time1, pos1[dof,:], ':')#, time, pos[dof-1, :], '-', time, pos[dof+1,:], '-')\n",
    "plt.plot(time2, pos2[dof,:], '--')#, time, pos[dof-1, :], '-', time, pos[dof+1,:], '-')\n",
    "\n",
    "plt.plot((time1[0], time1[-1]), (ground, ground))\n",
    "#plt.xlim(0.05, 0.07)\n",
    "# Plot dof 55 and save result in displacements_55.pdf\n",
    "#guitar_model.plot_traj(guitar_string, dof=55, filename='displacements_55.pdf', iplot=2x[0]\n",
    "#q0 = guitar_model.data_ds[guitar_string][:,0]\n",
    "#y0 = guitar_model.data_interactions[guitar_frets[0]][:, 0]\n",
    "#plt.clf()\n",
    "#print(y0[0])\n",
    "#print(y0.shape)\n",
    "    \n",
    "#plt.plot(x, all_frets_positions)\n",
    "#for i in range(len(guitar_frets)):\n",
    "#    ic = guitar_frets[i].contact_index\n",
    "#    plt.plot(x[ic], y0[0], 'o')\n",
    "\n",
    "#print(all_frets_positions)\n",
    "#plt.plot(x, q0)\n",
    "#plt.figure(1, figsize=(17, 8))\n",
    "#plt.plot(time, vel[47,:], 'o-')\n",
    "#plt.plot((time[0], time[-1]), (ground, ground))\n",
    "#plt.xlim(0.049, 0.053)\n",
    "\n",
    "#y = guitar_model.data_interactions[guitar_frets[0]][:,0]\n",
    "#y1 = guitar_model.data_interactions[guitar_frets[0]][:,1]\n",
    "#lam = guitar_model.data_interactions[guitar_frets[0]][:,2]\n",
    "#plt.figure(2, figsize=(17, 8))\n",
    "#plt.plot(time, y, 'o-')\n",
    "\n",
    "\n",
    "\n"
   ]
  },
  {
   "cell_type": "markdown",
   "metadata": {},
   "source": [
    "## Plot modes\n",
    "\n",
    "Use guitar_model.plot_modes(guitar_string,plot_shape)\n",
    "\n",
    "plot_shape = (x,y) where x,y is the resolution of the grid of plots.\n",
    "\n",
    "Example: \n",
    "plot_modes(guitar_string, (4,2)) : splits time range in 8 and plots dof=f(x) for those 8 time instants on 8 figures\n",
    "\n",
    "\n",
    "Set filename arg to save resulting figure in a file."
   ]
  },
  {
   "cell_type": "code",
   "execution_count": null,
   "metadata": {},
   "outputs": [],
   "source": [
    "# Plot 10 figures on two columns, for 10 time instants\n",
    "guitar_model2.plot_modes(guitar_string,plot_shape=[5,2], iplot=0)\n",
    "# Same thing but save output in modes.pdf\n",
    "#guitar_model.plot_modes(guitar_string,plot_shape=[5,3], filename='modes.pdf', iplot=1)\n",
    "# plot modes for time[12] and time[5000] on one column\n",
    "#guitar_model.plot_modes(guitar_string, times =[12, 1200], plot_shape=(2,1), filename='modes2.pdf', iplot=2)"
   ]
  },
  {
   "cell_type": "markdown",
   "metadata": {},
   "source": [
    "## Create a movie mode=f(time)"
   ]
  },
  {
   "cell_type": "code",
   "execution_count": 72,
   "metadata": {},
   "outputs": [
    {
     "ename": "KeyError",
     "evalue": "<guitar.StringDS; proxy of <Swig Object of type 'SP::LagrangianLinearDiagonalDS *' at 0x133154780> >",
     "output_type": "error",
     "traceback": [
      "\u001b[0;31m---------------------------------------------------------------------------\u001b[0m",
      "\u001b[0;31mKeyError\u001b[0m                                  Traceback (most recent call last)",
      "\u001b[0;32m<ipython-input-72-564b97740b88>\u001b[0m in \u001b[0;36m<module>\u001b[0;34m()\u001b[0m\n\u001b[1;32m      2\u001b[0m \u001b[0;31m#moviename = name + '_'  + os.path.splitext(moviename)[0] + '.mp4'\u001b[0m\u001b[0;34m\u001b[0m\u001b[0;34m\u001b[0m\u001b[0m\n\u001b[1;32m      3\u001b[0m \u001b[0mmoviename\u001b[0m \u001b[0;34m=\u001b[0m \u001b[0;34m'tmp.mp4'\u001b[0m\u001b[0;34m\u001b[0m\u001b[0m\n\u001b[0;32m----> 4\u001b[0;31m \u001b[0mguitar_model\u001b[0m\u001b[0;34m.\u001b[0m\u001b[0mmake_movie\u001b[0m\u001b[0;34m(\u001b[0m\u001b[0mguitar_string2\u001b[0m\u001b[0;34m,\u001b[0m \u001b[0mmoviename\u001b[0m\u001b[0;34m)\u001b[0m\u001b[0;34m\u001b[0m\u001b[0m\n\u001b[0m",
      "\u001b[0;32m~/Projets/Siconos/myfork/siconos/examples/Mechanics/Music/guitar.py\u001b[0m in \u001b[0;36mmake_movie\u001b[0;34m(self, ds, movie_name, sampling)\u001b[0m\n\u001b[1;32m    593\u001b[0m         \u001b[0;32mfor\u001b[0m \u001b[0ma\u001b[0m \u001b[0mgiven\u001b[0m \u001b[0mds\u001b[0m\u001b[0;34m.\u001b[0m\u001b[0;34m\u001b[0m\u001b[0m\n\u001b[1;32m    594\u001b[0m         \"\"\"\n\u001b[0;32m--> 595\u001b[0;31m         \u001b[0mself\u001b[0m\u001b[0;34m.\u001b[0m\u001b[0mconvert_modal_output\u001b[0m\u001b[0;34m(\u001b[0m\u001b[0mds\u001b[0m\u001b[0;34m)\u001b[0m\u001b[0;34m\u001b[0m\u001b[0m\n\u001b[0m\u001b[1;32m    596\u001b[0m         \u001b[0mdata\u001b[0m \u001b[0;34m=\u001b[0m \u001b[0mself\u001b[0m\u001b[0;34m.\u001b[0m\u001b[0mdata_ds\u001b[0m\u001b[0;34m[\u001b[0m\u001b[0mds\u001b[0m\u001b[0;34m]\u001b[0m\u001b[0;34m\u001b[0m\u001b[0m\n\u001b[1;32m    597\u001b[0m         ylimits = (data.min() - 0.2 * abs(data.min()),\n",
      "\u001b[0;32m~/Projets/Siconos/myfork/siconos/examples/Mechanics/Music/guitar.py\u001b[0m in \u001b[0;36mconvert_modal_output\u001b[0;34m(self, ds, indices)\u001b[0m\n\u001b[1;32m    424\u001b[0m         \"\"\"\n\u001b[1;32m    425\u001b[0m         \u001b[0;32mif\u001b[0m \u001b[0mindices\u001b[0m \u001b[0;32mis\u001b[0m \u001b[0;32mNone\u001b[0m\u001b[0;34m:\u001b[0m\u001b[0;34m\u001b[0m\u001b[0m\n\u001b[0;32m--> 426\u001b[0;31m             \u001b[0mindices\u001b[0m \u001b[0;34m=\u001b[0m \u001b[0mrange\u001b[0m\u001b[0;34m(\u001b[0m\u001b[0mself\u001b[0m\u001b[0;34m.\u001b[0m\u001b[0mdata_ds\u001b[0m\u001b[0;34m[\u001b[0m\u001b[0mds\u001b[0m\u001b[0;34m]\u001b[0m\u001b[0;34m.\u001b[0m\u001b[0mshape\u001b[0m\u001b[0;34m[\u001b[0m\u001b[0;36m1\u001b[0m\u001b[0;34m]\u001b[0m\u001b[0;34m)\u001b[0m\u001b[0;34m\u001b[0m\u001b[0m\n\u001b[0m\u001b[1;32m    427\u001b[0m         \u001b[0mindices\u001b[0m \u001b[0;34m=\u001b[0m \u001b[0;34m[\u001b[0m\u001b[0mi\u001b[0m \u001b[0;32mfor\u001b[0m \u001b[0mi\u001b[0m \u001b[0;32min\u001b[0m \u001b[0mindices\u001b[0m \u001b[0;32mif\u001b[0m \u001b[0mself\u001b[0m\u001b[0;34m.\u001b[0m\u001b[0m_convert\u001b[0m\u001b[0;34m[\u001b[0m\u001b[0mi\u001b[0m\u001b[0;34m]\u001b[0m\u001b[0;34m]\u001b[0m\u001b[0;34m\u001b[0m\u001b[0m\n\u001b[1;32m    428\u001b[0m         \u001b[0mself\u001b[0m\u001b[0;34m.\u001b[0m\u001b[0m_convert\u001b[0m\u001b[0;34m[\u001b[0m\u001b[0mindices\u001b[0m\u001b[0;34m]\u001b[0m \u001b[0;34m=\u001b[0m \u001b[0;32mFalse\u001b[0m\u001b[0;34m\u001b[0m\u001b[0m\n",
      "\u001b[0;31mKeyError\u001b[0m: <guitar.StringDS; proxy of <Swig Object of type 'SP::LagrangianLinearDiagonalDS *' at 0x133154780> >"
     ]
    }
   ],
   "source": [
    "#moviename = os.path.basename(filelist[ifreq])\n",
    "#moviename = name + '_'  + os.path.splitext(moviename)[0] + '.mp4'\n",
    "moviename = 'tmp.mp4'\n",
    "guitar_model.make_movie(guitar_string2, moviename)"
   ]
  },
  {
   "cell_type": "code",
   "execution_count": null,
   "metadata": {},
   "outputs": [],
   "source": [
    "os.remove('./last.mp4')\n",
    "os.symlink(moviename, 'last.mp4')"
   ]
  },
  {
   "cell_type": "markdown",
   "metadata": {},
   "source": [
    "<video controls src=\"last.mp4\" />\n",
    "#%%html\n",
    "#<video width=\"320\" height=\"240\" controls>\n",
    "#  <source src=\"./test.mp4\" type=\"video/mp4\">\n",
    "#</video>"
   ]
  },
  {
   "cell_type": "markdown",
   "metadata": {},
   "source": [
    "## Plot contactogram\n",
    "\n",
    "    !! Works only if enable_interactions_output=True in model (guitar_model) constructor"
   ]
  },
  {
   "cell_type": "code",
   "execution_count": null,
   "metadata": {},
   "outputs": [],
   "source": [
    "guitar_model.contactogram(guitar_string)"
   ]
  },
  {
   "cell_type": "code",
   "execution_count": null,
   "metadata": {},
   "outputs": [],
   "source": []
  }
 ],
 "metadata": {
  "kernelspec": {
   "display_name": "Python 3",
   "language": "python",
   "name": "python3"
  },
  "language_info": {
   "codemirror_mode": {
    "name": "ipython",
    "version": 3
   },
   "file_extension": ".py",
   "mimetype": "text/x-python",
   "name": "python",
   "nbconvert_exporter": "python",
   "pygments_lexer": "ipython3",
   "version": "3.6.3"
  }
 },
 "nbformat": 4,
 "nbformat_minor": 2
}
